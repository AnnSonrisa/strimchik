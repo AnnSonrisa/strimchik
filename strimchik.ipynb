{
 "cells": [
  {
   "cell_type": "markdown",
   "metadata": {},
   "source": [
    "# Описание проекта "
   ]
  },
  {
   "cell_type": "markdown",
   "metadata": {},
   "source": [
    "**Заголовок**: Исследование данных интернет-магазина \"Стримчик\".\n",
    "\n",
    "**Описание проекта**: Есть данные интернет-магазина «Стримчик», который продаёт по всему миру компьютерные игры (данные о продажах игр, оценки пользователей и экспертов, жанры и платформы). Вам нужно выявить определяющие успешность игры закономерности. Это позволит сделать ставку на потенциально популярный продукт и спланировать рекламные кампании.\n",
    "Есть данные до 2016 года. Нужно отработать принцип работы с данными. \n",
    "\n",
    "**Цель исследования**: Выявить факторы, определяющие успешность игры.\n",
    "\n",
    "**Ход исследования**:\n",
    "- Подготовка данных: загрузка и изучение данных, заполнение пропусков, обработка дубликатов \n",
    "- Исследовательский анализ данных: изучение основных параметров объектов, их распределения, зависимости.\n",
    "- Составление портрета пользователя каждого региона (определение популярных платформ и жанров)\n",
    "- Проверка гипотез: \n",
    "        - Средние пользовательские рейтинги платформ Xbox One и PC одинаковые;\n",
    "        - Средние пользовательские рейтинги жанров Action и Sports разные."
   ]
  },
  {
   "cell_type": "markdown",
   "metadata": {},
   "source": [
    "# Описание данных"
   ]
  },
  {
   "cell_type": "markdown",
   "metadata": {},
   "source": [
    "- Name — название игры\n",
    "- Platform — платформа\n",
    "- Year_of_Release — год выпуска\n",
    "- Genre — жанр игры\n",
    "- NA_sales — продажи в Северной Америке (миллионы проданных копий)\n",
    "- EU_sales — продажи в Европе (миллионы проданных копий)\n",
    "- JP_sales — продажи в Японии (миллионы проданных копий)\n",
    "- Other_sales — продажи в других странах (миллионы проданных копий)\n",
    "- Critic_Score — оценка критиков (максимум 100)\n",
    "- User_Score — оценка пользователей (максимум 10)\n",
    "- Rating — рейтинг от организации ESRB (англ. Entertainment Software Rating Board). Эта ассоциация определяет рейтинг компьютерных игр и присваивает им подходящую возрастную категорию."
   ]
  },
  {
   "cell_type": "markdown",
   "metadata": {},
   "source": [
    "## Откроем файл с данными и изучим общую информацию"
   ]
  },
  {
   "cell_type": "code",
   "execution_count": 1,
   "metadata": {},
   "outputs": [],
   "source": [
    "import pandas as pd\n",
    "import numpy as np\n",
    "import seaborn as sns\n",
    "from scipy import stats as st\n",
    "import math\n",
    "import matplotlib.pyplot as plt"
   ]
  },
  {
   "cell_type": "code",
   "execution_count": 2,
   "metadata": {},
   "outputs": [
    {
     "data": {
      "text/html": [
       "<div>\n",
       "<style scoped>\n",
       "    .dataframe tbody tr th:only-of-type {\n",
       "        vertical-align: middle;\n",
       "    }\n",
       "\n",
       "    .dataframe tbody tr th {\n",
       "        vertical-align: top;\n",
       "    }\n",
       "\n",
       "    .dataframe thead th {\n",
       "        text-align: right;\n",
       "    }\n",
       "</style>\n",
       "<table border=\"1\" class=\"dataframe\">\n",
       "  <thead>\n",
       "    <tr style=\"text-align: right;\">\n",
       "      <th></th>\n",
       "      <th>Name</th>\n",
       "      <th>Platform</th>\n",
       "      <th>Year_of_Release</th>\n",
       "      <th>Genre</th>\n",
       "      <th>NA_sales</th>\n",
       "      <th>EU_sales</th>\n",
       "      <th>JP_sales</th>\n",
       "      <th>Other_sales</th>\n",
       "      <th>Critic_Score</th>\n",
       "      <th>User_Score</th>\n",
       "      <th>Rating</th>\n",
       "    </tr>\n",
       "  </thead>\n",
       "  <tbody>\n",
       "    <tr>\n",
       "      <th>0</th>\n",
       "      <td>Wii Sports</td>\n",
       "      <td>Wii</td>\n",
       "      <td>2006.0</td>\n",
       "      <td>Sports</td>\n",
       "      <td>41.36</td>\n",
       "      <td>28.96</td>\n",
       "      <td>3.77</td>\n",
       "      <td>8.45</td>\n",
       "      <td>76.0</td>\n",
       "      <td>8</td>\n",
       "      <td>E</td>\n",
       "    </tr>\n",
       "    <tr>\n",
       "      <th>1</th>\n",
       "      <td>Super Mario Bros.</td>\n",
       "      <td>NES</td>\n",
       "      <td>1985.0</td>\n",
       "      <td>Platform</td>\n",
       "      <td>29.08</td>\n",
       "      <td>3.58</td>\n",
       "      <td>6.81</td>\n",
       "      <td>0.77</td>\n",
       "      <td>NaN</td>\n",
       "      <td>NaN</td>\n",
       "      <td>NaN</td>\n",
       "    </tr>\n",
       "    <tr>\n",
       "      <th>2</th>\n",
       "      <td>Mario Kart Wii</td>\n",
       "      <td>Wii</td>\n",
       "      <td>2008.0</td>\n",
       "      <td>Racing</td>\n",
       "      <td>15.68</td>\n",
       "      <td>12.76</td>\n",
       "      <td>3.79</td>\n",
       "      <td>3.29</td>\n",
       "      <td>82.0</td>\n",
       "      <td>8.3</td>\n",
       "      <td>E</td>\n",
       "    </tr>\n",
       "    <tr>\n",
       "      <th>3</th>\n",
       "      <td>Wii Sports Resort</td>\n",
       "      <td>Wii</td>\n",
       "      <td>2009.0</td>\n",
       "      <td>Sports</td>\n",
       "      <td>15.61</td>\n",
       "      <td>10.93</td>\n",
       "      <td>3.28</td>\n",
       "      <td>2.95</td>\n",
       "      <td>80.0</td>\n",
       "      <td>8</td>\n",
       "      <td>E</td>\n",
       "    </tr>\n",
       "    <tr>\n",
       "      <th>4</th>\n",
       "      <td>Pokemon Red/Pokemon Blue</td>\n",
       "      <td>GB</td>\n",
       "      <td>1996.0</td>\n",
       "      <td>Role-Playing</td>\n",
       "      <td>11.27</td>\n",
       "      <td>8.89</td>\n",
       "      <td>10.22</td>\n",
       "      <td>1.00</td>\n",
       "      <td>NaN</td>\n",
       "      <td>NaN</td>\n",
       "      <td>NaN</td>\n",
       "    </tr>\n",
       "  </tbody>\n",
       "</table>\n",
       "</div>"
      ],
      "text/plain": [
       "                       Name Platform  Year_of_Release         Genre  NA_sales  \\\n",
       "0                Wii Sports      Wii           2006.0        Sports     41.36   \n",
       "1         Super Mario Bros.      NES           1985.0      Platform     29.08   \n",
       "2            Mario Kart Wii      Wii           2008.0        Racing     15.68   \n",
       "3         Wii Sports Resort      Wii           2009.0        Sports     15.61   \n",
       "4  Pokemon Red/Pokemon Blue       GB           1996.0  Role-Playing     11.27   \n",
       "\n",
       "   EU_sales  JP_sales  Other_sales  Critic_Score User_Score Rating  \n",
       "0     28.96      3.77         8.45          76.0          8      E  \n",
       "1      3.58      6.81         0.77           NaN        NaN    NaN  \n",
       "2     12.76      3.79         3.29          82.0        8.3      E  \n",
       "3     10.93      3.28         2.95          80.0          8      E  \n",
       "4      8.89     10.22         1.00           NaN        NaN    NaN  "
      ]
     },
     "metadata": {},
     "output_type": "display_data"
    }
   ],
   "source": [
    "games = pd.read_csv('/datasets/games.csv')\n",
    "display(games.head())"
   ]
  },
  {
   "cell_type": "code",
   "execution_count": 3,
   "metadata": {},
   "outputs": [
    {
     "name": "stdout",
     "output_type": "stream",
     "text": [
      "<class 'pandas.core.frame.DataFrame'>\n",
      "RangeIndex: 16715 entries, 0 to 16714\n",
      "Data columns (total 11 columns):\n",
      " #   Column           Non-Null Count  Dtype  \n",
      "---  ------           --------------  -----  \n",
      " 0   Name             16713 non-null  object \n",
      " 1   Platform         16715 non-null  object \n",
      " 2   Year_of_Release  16446 non-null  float64\n",
      " 3   Genre            16713 non-null  object \n",
      " 4   NA_sales         16715 non-null  float64\n",
      " 5   EU_sales         16715 non-null  float64\n",
      " 6   JP_sales         16715 non-null  float64\n",
      " 7   Other_sales      16715 non-null  float64\n",
      " 8   Critic_Score     8137 non-null   float64\n",
      " 9   User_Score       10014 non-null  object \n",
      " 10  Rating           9949 non-null   object \n",
      "dtypes: float64(6), object(5)\n",
      "memory usage: 1.4+ MB\n"
     ]
    }
   ],
   "source": [
    "games.info()"
   ]
  },
  {
   "cell_type": "code",
   "execution_count": 4,
   "metadata": {},
   "outputs": [
    {
     "data": {
      "text/html": [
       "<div>\n",
       "<style scoped>\n",
       "    .dataframe tbody tr th:only-of-type {\n",
       "        vertical-align: middle;\n",
       "    }\n",
       "\n",
       "    .dataframe tbody tr th {\n",
       "        vertical-align: top;\n",
       "    }\n",
       "\n",
       "    .dataframe thead th {\n",
       "        text-align: right;\n",
       "    }\n",
       "</style>\n",
       "<table border=\"1\" class=\"dataframe\">\n",
       "  <thead>\n",
       "    <tr style=\"text-align: right;\">\n",
       "      <th></th>\n",
       "      <th>Year_of_Release</th>\n",
       "      <th>NA_sales</th>\n",
       "      <th>EU_sales</th>\n",
       "      <th>JP_sales</th>\n",
       "      <th>Other_sales</th>\n",
       "      <th>Critic_Score</th>\n",
       "    </tr>\n",
       "  </thead>\n",
       "  <tbody>\n",
       "    <tr>\n",
       "      <th>count</th>\n",
       "      <td>16446.000000</td>\n",
       "      <td>16715.000000</td>\n",
       "      <td>16715.000000</td>\n",
       "      <td>16715.000000</td>\n",
       "      <td>16715.000000</td>\n",
       "      <td>8137.000000</td>\n",
       "    </tr>\n",
       "    <tr>\n",
       "      <th>mean</th>\n",
       "      <td>2006.484616</td>\n",
       "      <td>0.263377</td>\n",
       "      <td>0.145060</td>\n",
       "      <td>0.077617</td>\n",
       "      <td>0.047342</td>\n",
       "      <td>68.967679</td>\n",
       "    </tr>\n",
       "    <tr>\n",
       "      <th>std</th>\n",
       "      <td>5.877050</td>\n",
       "      <td>0.813604</td>\n",
       "      <td>0.503339</td>\n",
       "      <td>0.308853</td>\n",
       "      <td>0.186731</td>\n",
       "      <td>13.938165</td>\n",
       "    </tr>\n",
       "    <tr>\n",
       "      <th>min</th>\n",
       "      <td>1980.000000</td>\n",
       "      <td>0.000000</td>\n",
       "      <td>0.000000</td>\n",
       "      <td>0.000000</td>\n",
       "      <td>0.000000</td>\n",
       "      <td>13.000000</td>\n",
       "    </tr>\n",
       "    <tr>\n",
       "      <th>25%</th>\n",
       "      <td>2003.000000</td>\n",
       "      <td>0.000000</td>\n",
       "      <td>0.000000</td>\n",
       "      <td>0.000000</td>\n",
       "      <td>0.000000</td>\n",
       "      <td>60.000000</td>\n",
       "    </tr>\n",
       "    <tr>\n",
       "      <th>50%</th>\n",
       "      <td>2007.000000</td>\n",
       "      <td>0.080000</td>\n",
       "      <td>0.020000</td>\n",
       "      <td>0.000000</td>\n",
       "      <td>0.010000</td>\n",
       "      <td>71.000000</td>\n",
       "    </tr>\n",
       "    <tr>\n",
       "      <th>75%</th>\n",
       "      <td>2010.000000</td>\n",
       "      <td>0.240000</td>\n",
       "      <td>0.110000</td>\n",
       "      <td>0.040000</td>\n",
       "      <td>0.030000</td>\n",
       "      <td>79.000000</td>\n",
       "    </tr>\n",
       "    <tr>\n",
       "      <th>max</th>\n",
       "      <td>2016.000000</td>\n",
       "      <td>41.360000</td>\n",
       "      <td>28.960000</td>\n",
       "      <td>10.220000</td>\n",
       "      <td>10.570000</td>\n",
       "      <td>98.000000</td>\n",
       "    </tr>\n",
       "  </tbody>\n",
       "</table>\n",
       "</div>"
      ],
      "text/plain": [
       "       Year_of_Release      NA_sales      EU_sales      JP_sales  \\\n",
       "count     16446.000000  16715.000000  16715.000000  16715.000000   \n",
       "mean       2006.484616      0.263377      0.145060      0.077617   \n",
       "std           5.877050      0.813604      0.503339      0.308853   \n",
       "min        1980.000000      0.000000      0.000000      0.000000   \n",
       "25%        2003.000000      0.000000      0.000000      0.000000   \n",
       "50%        2007.000000      0.080000      0.020000      0.000000   \n",
       "75%        2010.000000      0.240000      0.110000      0.040000   \n",
       "max        2016.000000     41.360000     28.960000     10.220000   \n",
       "\n",
       "        Other_sales  Critic_Score  \n",
       "count  16715.000000   8137.000000  \n",
       "mean       0.047342     68.967679  \n",
       "std        0.186731     13.938165  \n",
       "min        0.000000     13.000000  \n",
       "25%        0.000000     60.000000  \n",
       "50%        0.010000     71.000000  \n",
       "75%        0.030000     79.000000  \n",
       "max       10.570000     98.000000  "
      ]
     },
     "execution_count": 4,
     "metadata": {},
     "output_type": "execute_result"
    }
   ],
   "source": [
    "games.describe()"
   ]
  },
  {
   "cell_type": "markdown",
   "metadata": {},
   "source": [
    "Вывод:\n",
    "- Некорректные названия столбцов\n",
    "- Неправильные типы данных по некоторым столбцам\n",
    "- Есть пропуски\n",
    "- Проверим на дубликаты"
   ]
  },
  {
   "cell_type": "markdown",
   "metadata": {},
   "source": [
    "## Подготовим данные"
   ]
  },
  {
   "cell_type": "code",
   "execution_count": 5,
   "metadata": {},
   "outputs": [
    {
     "name": "stdout",
     "output_type": "stream",
     "text": [
      "<class 'pandas.core.frame.DataFrame'>\n",
      "RangeIndex: 16715 entries, 0 to 16714\n",
      "Data columns (total 11 columns):\n",
      " #   Column           Non-Null Count  Dtype  \n",
      "---  ------           --------------  -----  \n",
      " 0   name             16713 non-null  object \n",
      " 1   platform         16715 non-null  object \n",
      " 2   year_of_release  16446 non-null  float64\n",
      " 3   genre            16713 non-null  object \n",
      " 4   na_sales         16715 non-null  float64\n",
      " 5   eu_sales         16715 non-null  float64\n",
      " 6   jp_sales         16715 non-null  float64\n",
      " 7   other_sales      16715 non-null  float64\n",
      " 8   critic_score     8137 non-null   float64\n",
      " 9   user_score       10014 non-null  object \n",
      " 10  rating           9949 non-null   object \n",
      "dtypes: float64(6), object(5)\n",
      "memory usage: 1.4+ MB\n"
     ]
    }
   ],
   "source": [
    "#Приведем к нижнему регистру названия столбцов\n",
    "games.columns = games.columns.str.lower()\n",
    "games.info()"
   ]
  },
  {
   "cell_type": "code",
   "execution_count": 6,
   "metadata": {},
   "outputs": [],
   "source": [
    "# Преобразуем данные к нужному типу\n",
    "# столбец year_of_release - тип object заменим на int\n",
    "games['year_of_release'] = pd.array(games['year_of_release'], dtype = pd.Int64Dtype())"
   ]
  },
  {
   "cell_type": "code",
   "execution_count": 7,
   "metadata": {
    "scrolled": true
   },
   "outputs": [
    {
     "data": {
      "text/plain": [
       "name                  2\n",
       "platform              0\n",
       "year_of_release     269\n",
       "genre                 2\n",
       "na_sales              0\n",
       "eu_sales              0\n",
       "jp_sales              0\n",
       "other_sales           0\n",
       "critic_score       8578\n",
       "user_score         6701\n",
       "rating             6766\n",
       "dtype: int64"
      ]
     },
     "execution_count": 7,
     "metadata": {},
     "output_type": "execute_result"
    }
   ],
   "source": [
    "# Обработаем пропуски\n",
    "games.isna().sum()"
   ]
  },
  {
   "cell_type": "code",
   "execution_count": 8,
   "metadata": {},
   "outputs": [
    {
     "data": {
      "text/html": [
       "<style  type=\"text/css\" >\n",
       "#T_ae9fa_row0_col0,#T_ae9fa_row1_col0,#T_ae9fa_row3_col0,#T_ae9fa_row4_col0,#T_ae9fa_row5_col0,#T_ae9fa_row6_col0,#T_ae9fa_row7_col0{\n",
       "            background-color:  #3b4cc0;\n",
       "            color:  #f1f1f1;\n",
       "        }#T_ae9fa_row2_col0{\n",
       "            background-color:  #4358cb;\n",
       "            color:  #f1f1f1;\n",
       "        }#T_ae9fa_row8_col0{\n",
       "            background-color:  #b40426;\n",
       "            color:  #f1f1f1;\n",
       "        }#T_ae9fa_row9_col0{\n",
       "            background-color:  #f08b6e;\n",
       "            color:  #000000;\n",
       "        }#T_ae9fa_row10_col0{\n",
       "            background-color:  #ef886b;\n",
       "            color:  #000000;\n",
       "        }</style><table id=\"T_ae9fa_\" ><thead>    <tr>        <th class=\"blank level0\" ></th>        <th class=\"col_heading level0 col0\" >0</th>    </tr></thead><tbody>\n",
       "                <tr>\n",
       "                        <th id=\"T_ae9fa_level0_row0\" class=\"row_heading level0 row0\" >name</th>\n",
       "                        <td id=\"T_ae9fa_row0_col0\" class=\"data row0 col0\" >0.000000</td>\n",
       "            </tr>\n",
       "            <tr>\n",
       "                        <th id=\"T_ae9fa_level0_row1\" class=\"row_heading level0 row1\" >platform</th>\n",
       "                        <td id=\"T_ae9fa_row1_col0\" class=\"data row1 col0\" >0.000000</td>\n",
       "            </tr>\n",
       "            <tr>\n",
       "                        <th id=\"T_ae9fa_level0_row2\" class=\"row_heading level0 row2\" >year_of_release</th>\n",
       "                        <td id=\"T_ae9fa_row2_col0\" class=\"data row2 col0\" >1.600000</td>\n",
       "            </tr>\n",
       "            <tr>\n",
       "                        <th id=\"T_ae9fa_level0_row3\" class=\"row_heading level0 row3\" >genre</th>\n",
       "                        <td id=\"T_ae9fa_row3_col0\" class=\"data row3 col0\" >0.000000</td>\n",
       "            </tr>\n",
       "            <tr>\n",
       "                        <th id=\"T_ae9fa_level0_row4\" class=\"row_heading level0 row4\" >na_sales</th>\n",
       "                        <td id=\"T_ae9fa_row4_col0\" class=\"data row4 col0\" >0.000000</td>\n",
       "            </tr>\n",
       "            <tr>\n",
       "                        <th id=\"T_ae9fa_level0_row5\" class=\"row_heading level0 row5\" >eu_sales</th>\n",
       "                        <td id=\"T_ae9fa_row5_col0\" class=\"data row5 col0\" >0.000000</td>\n",
       "            </tr>\n",
       "            <tr>\n",
       "                        <th id=\"T_ae9fa_level0_row6\" class=\"row_heading level0 row6\" >jp_sales</th>\n",
       "                        <td id=\"T_ae9fa_row6_col0\" class=\"data row6 col0\" >0.000000</td>\n",
       "            </tr>\n",
       "            <tr>\n",
       "                        <th id=\"T_ae9fa_level0_row7\" class=\"row_heading level0 row7\" >other_sales</th>\n",
       "                        <td id=\"T_ae9fa_row7_col0\" class=\"data row7 col0\" >0.000000</td>\n",
       "            </tr>\n",
       "            <tr>\n",
       "                        <th id=\"T_ae9fa_level0_row8\" class=\"row_heading level0 row8\" >critic_score</th>\n",
       "                        <td id=\"T_ae9fa_row8_col0\" class=\"data row8 col0\" >51.300000</td>\n",
       "            </tr>\n",
       "            <tr>\n",
       "                        <th id=\"T_ae9fa_level0_row9\" class=\"row_heading level0 row9\" >user_score</th>\n",
       "                        <td id=\"T_ae9fa_row9_col0\" class=\"data row9 col0\" >40.100000</td>\n",
       "            </tr>\n",
       "            <tr>\n",
       "                        <th id=\"T_ae9fa_level0_row10\" class=\"row_heading level0 row10\" >rating</th>\n",
       "                        <td id=\"T_ae9fa_row10_col0\" class=\"data row10 col0\" >40.500000</td>\n",
       "            </tr>\n",
       "    </tbody></table>"
      ],
      "text/plain": [
       "<pandas.io.formats.style.Styler at 0x7fe93440f220>"
      ]
     },
     "execution_count": 8,
     "metadata": {},
     "output_type": "execute_result"
    }
   ],
   "source": [
    "pd.DataFrame(round(games.isna().mean()*100,1)).style.background_gradient('coolwarm')"
   ]
  },
  {
   "cell_type": "markdown",
   "metadata": {},
   "source": [
    "- столбец 'name' имеет  2 пропуска. **Удалим.**\n",
    "- столбец 'genre' имеет  2 пропуска. **Удалим.**\n",
    "- столбец 'year_of_release' - 269 пропусков. Год выпуска находится между 1980 и 2016. Так как к определенному году привяжется 269 дополнительных игр, при замене средним или медианным значением дальнейший анализ будет недостоверным. **Удалим.**\n",
    "- столбцы 'critic_score', 'user_score' - это оценочные показатели. Не можем заменить пропуски средним или медианным значением. Также нельзя заменить пропуски нулями. Оставим, как есть.\n",
    "- столбец 'rating' имеет 6766 пропусков. Значения этого столбца понадобятся нам для анализа, заменим пропуски значением 'no_rating'.\n",
    "\n",
    "Пропуски в перечисленных столбцах могли появиться из-за человеческого фактора (неправильный ввод данных), также из-за технических проблем (ошибка при сохранении файла, при его отправке)."
   ]
  },
  {
   "cell_type": "code",
   "execution_count": 9,
   "metadata": {},
   "outputs": [],
   "source": [
    "# Удалим пропуски в столбцах name, genre, year_of_release\n",
    "games = games.dropna(subset=['name', 'genre', 'year_of_release'])"
   ]
  },
  {
   "cell_type": "code",
   "execution_count": 10,
   "metadata": {},
   "outputs": [
    {
     "data": {
      "text/plain": [
       "name                  0\n",
       "platform              0\n",
       "year_of_release       0\n",
       "genre                 0\n",
       "na_sales              0\n",
       "eu_sales              0\n",
       "jp_sales              0\n",
       "other_sales           0\n",
       "critic_score       8461\n",
       "user_score         6605\n",
       "rating                0\n",
       "dtype: int64"
      ]
     },
     "execution_count": 10,
     "metadata": {},
     "output_type": "execute_result"
    }
   ],
   "source": [
    "# в поле 'rating' заменим пропуски\n",
    "games['rating'] = games['rating'].fillna('no_rating')\n",
    "games.isna().sum()"
   ]
  },
  {
   "cell_type": "code",
   "execution_count": 11,
   "metadata": {},
   "outputs": [
    {
     "data": {
      "text/plain": [
       "array(['Wii', 'NES', 'GB', 'DS', 'X360', 'PS3', 'PS2', 'SNES', 'GBA',\n",
       "       'PS4', '3DS', 'N64', 'PS', 'XB', 'PC', '2600', 'PSP', 'XOne',\n",
       "       'WiiU', 'GC', 'GEN', 'DC', 'PSV', 'SAT', 'SCD', 'WS', 'NG', 'TG16',\n",
       "       '3DO', 'GG', 'PCFX'], dtype=object)"
      ]
     },
     "execution_count": 11,
     "metadata": {},
     "output_type": "execute_result"
    }
   ],
   "source": [
    "# Проверим данные на дубликаты\n",
    "games['platform'].unique()"
   ]
  },
  {
   "cell_type": "code",
   "execution_count": 12,
   "metadata": {},
   "outputs": [
    {
     "data": {
      "text/plain": [
       "array(['Sports', 'Platform', 'Racing', 'Role-Playing', 'Puzzle', 'Misc',\n",
       "       'Shooter', 'Simulation', 'Action', 'Fighting', 'Adventure',\n",
       "       'Strategy'], dtype=object)"
      ]
     },
     "execution_count": 12,
     "metadata": {},
     "output_type": "execute_result"
    }
   ],
   "source": [
    "games['genre'].unique()"
   ]
  },
  {
   "cell_type": "code",
   "execution_count": 13,
   "metadata": {},
   "outputs": [
    {
     "data": {
      "text/plain": [
       "array(['8', nan, '8.3', '8.5', '6.6', '8.4', '8.6', '7.7', '6.3', '7.4',\n",
       "       '8.2', '9', '7.9', '8.1', '8.7', '7.1', '3.4', '5.3', '4.8', '3.2',\n",
       "       '8.9', '6.4', '7.8', '7.5', '2.6', '7.2', '9.2', '7', '7.3', '4.3',\n",
       "       '7.6', '5.7', '5', '9.1', '6.5', 'tbd', '8.8', '6.9', '9.4', '6.8',\n",
       "       '6.1', '6.7', '5.4', '4', '4.9', '4.5', '9.3', '6.2', '4.2', '6',\n",
       "       '3.7', '4.1', '5.8', '5.6', '5.5', '4.4', '4.6', '5.9', '3.9',\n",
       "       '3.1', '2.9', '5.2', '3.3', '4.7', '5.1', '3.5', '2.5', '1.9', '3',\n",
       "       '2.7', '2.2', '2', '9.5', '2.1', '3.6', '2.8', '1.8', '3.8', '0',\n",
       "       '1.6', '9.6', '2.4', '1.7', '1.1', '0.3', '1.5', '0.7', '1.2',\n",
       "       '2.3', '0.5', '1.3', '0.2', '0.6', '1.4', '0.9', '1', '9.7'],\n",
       "      dtype=object)"
      ]
     },
     "execution_count": 13,
     "metadata": {},
     "output_type": "execute_result"
    }
   ],
   "source": [
    "games['user_score'].unique()"
   ]
  },
  {
   "cell_type": "code",
   "execution_count": 14,
   "metadata": {},
   "outputs": [
    {
     "data": {
      "text/html": [
       "<div>\n",
       "<style scoped>\n",
       "    .dataframe tbody tr th:only-of-type {\n",
       "        vertical-align: middle;\n",
       "    }\n",
       "\n",
       "    .dataframe tbody tr th {\n",
       "        vertical-align: top;\n",
       "    }\n",
       "\n",
       "    .dataframe thead th {\n",
       "        text-align: right;\n",
       "    }\n",
       "</style>\n",
       "<table border=\"1\" class=\"dataframe\">\n",
       "  <thead>\n",
       "    <tr style=\"text-align: right;\">\n",
       "      <th></th>\n",
       "      <th>name</th>\n",
       "      <th>platform</th>\n",
       "      <th>year_of_release</th>\n",
       "      <th>genre</th>\n",
       "      <th>na_sales</th>\n",
       "      <th>eu_sales</th>\n",
       "      <th>jp_sales</th>\n",
       "      <th>other_sales</th>\n",
       "      <th>critic_score</th>\n",
       "      <th>user_score</th>\n",
       "      <th>rating</th>\n",
       "    </tr>\n",
       "  </thead>\n",
       "  <tbody>\n",
       "    <tr>\n",
       "      <th>5253</th>\n",
       "      <td>Press Your Luck 2010 Edition</td>\n",
       "      <td>Wii</td>\n",
       "      <td>2009</td>\n",
       "      <td>Misc</td>\n",
       "      <td>0.33</td>\n",
       "      <td>0.00</td>\n",
       "      <td>0.0</td>\n",
       "      <td>0.03</td>\n",
       "      <td>NaN</td>\n",
       "      <td>tbd</td>\n",
       "      <td>E</td>\n",
       "    </tr>\n",
       "    <tr>\n",
       "      <th>6036</th>\n",
       "      <td>Karaoke Revolution Glee: Volume 3</td>\n",
       "      <td>Wii</td>\n",
       "      <td>2011</td>\n",
       "      <td>Misc</td>\n",
       "      <td>0.23</td>\n",
       "      <td>0.04</td>\n",
       "      <td>0.0</td>\n",
       "      <td>0.02</td>\n",
       "      <td>NaN</td>\n",
       "      <td>tbd</td>\n",
       "      <td>T</td>\n",
       "    </tr>\n",
       "    <tr>\n",
       "      <th>4429</th>\n",
       "      <td>Puppy Luv: Spa and Resort</td>\n",
       "      <td>DS</td>\n",
       "      <td>2007</td>\n",
       "      <td>Simulation</td>\n",
       "      <td>0.40</td>\n",
       "      <td>0.00</td>\n",
       "      <td>0.0</td>\n",
       "      <td>0.03</td>\n",
       "      <td>NaN</td>\n",
       "      <td>tbd</td>\n",
       "      <td>E</td>\n",
       "    </tr>\n",
       "    <tr>\n",
       "      <th>3678</th>\n",
       "      <td>ZhuZhu Pets 2: Featuring The Wild Bunch</td>\n",
       "      <td>DS</td>\n",
       "      <td>2010</td>\n",
       "      <td>Simulation</td>\n",
       "      <td>0.40</td>\n",
       "      <td>0.10</td>\n",
       "      <td>0.0</td>\n",
       "      <td>0.04</td>\n",
       "      <td>NaN</td>\n",
       "      <td>tbd</td>\n",
       "      <td>E</td>\n",
       "    </tr>\n",
       "    <tr>\n",
       "      <th>6575</th>\n",
       "      <td>The Penguins of Madagascar</td>\n",
       "      <td>DS</td>\n",
       "      <td>2010</td>\n",
       "      <td>Action</td>\n",
       "      <td>0.12</td>\n",
       "      <td>0.11</td>\n",
       "      <td>0.0</td>\n",
       "      <td>0.02</td>\n",
       "      <td>NaN</td>\n",
       "      <td>tbd</td>\n",
       "      <td>E</td>\n",
       "    </tr>\n",
       "  </tbody>\n",
       "</table>\n",
       "</div>"
      ],
      "text/plain": [
       "                                         name platform  year_of_release  \\\n",
       "5253             Press Your Luck 2010 Edition      Wii             2009   \n",
       "6036        Karaoke Revolution Glee: Volume 3      Wii             2011   \n",
       "4429                Puppy Luv: Spa and Resort       DS             2007   \n",
       "3678  ZhuZhu Pets 2: Featuring The Wild Bunch       DS             2010   \n",
       "6575               The Penguins of Madagascar       DS             2010   \n",
       "\n",
       "           genre  na_sales  eu_sales  jp_sales  other_sales  critic_score  \\\n",
       "5253        Misc      0.33      0.00       0.0         0.03           NaN   \n",
       "6036        Misc      0.23      0.04       0.0         0.02           NaN   \n",
       "4429  Simulation      0.40      0.00       0.0         0.03           NaN   \n",
       "3678  Simulation      0.40      0.10       0.0         0.04           NaN   \n",
       "6575      Action      0.12      0.11       0.0         0.02           NaN   \n",
       "\n",
       "     user_score rating  \n",
       "5253        tbd      E  \n",
       "6036        tbd      T  \n",
       "4429        tbd      E  \n",
       "3678        tbd      E  \n",
       "6575        tbd      E  "
      ]
     },
     "execution_count": 14,
     "metadata": {},
     "output_type": "execute_result"
    }
   ],
   "source": [
    "# Посмотрим на строки со значением tbd\n",
    "games.query('user_score == \"tbd\"').sample(5)"
   ]
  },
  {
   "cell_type": "markdown",
   "metadata": {},
   "source": [
    "Значение 'tbd' означаем отсутствие оценки (если информации нет). Заменим 'tbd' на 'nan'. Тип данных столбца заменим на float."
   ]
  },
  {
   "cell_type": "code",
   "execution_count": 15,
   "metadata": {},
   "outputs": [],
   "source": [
    "games.loc[games['user_score'] == 'tbd','user_score'] = np.nan\n",
    "games['user_score'] = games['user_score'].astype('float')"
   ]
  },
  {
   "cell_type": "code",
   "execution_count": 16,
   "metadata": {},
   "outputs": [
    {
     "data": {
      "text/plain": [
       "0"
      ]
     },
     "execution_count": 16,
     "metadata": {},
     "output_type": "execute_result"
    }
   ],
   "source": [
    "# Проверим таблицу на явные дубликаты\n",
    "games.duplicated().sum()"
   ]
  },
  {
   "cell_type": "code",
   "execution_count": 17,
   "metadata": {},
   "outputs": [
    {
     "data": {
      "text/plain": [
       "['Wii Sports',\n",
       " 'Super Mario Bros.',\n",
       " 'Mario Kart Wii',\n",
       " 'Wii Sports Resort',\n",
       " 'Pokemon Red/Pokemon Blue',\n",
       " 'Tetris',\n",
       " 'New Super Mario Bros.',\n",
       " 'Wii Play',\n",
       " 'New Super Mario Bros. Wii',\n",
       " 'Duck Hunt',\n",
       " 'Nintendogs',\n",
       " 'Mario Kart DS',\n",
       " 'Pokemon Gold/Pokemon Silver',\n",
       " 'Wii Fit',\n",
       " 'Kinect Adventures!',\n",
       " 'Wii Fit Plus',\n",
       " 'Grand Theft Auto V',\n",
       " 'Grand Theft Auto: San Andreas',\n",
       " 'Super Mario World',\n",
       " 'Brain Age: Train Your Brain in Minutes a Day',\n",
       " 'Pokemon Diamond/Pokemon Pearl',\n",
       " 'Super Mario Land',\n",
       " 'Super Mario Bros. 3',\n",
       " 'Grand Theft Auto: Vice City',\n",
       " 'Pokemon Ruby/Pokemon Sapphire',\n",
       " 'Brain Age 2: More Training in Minutes a Day',\n",
       " 'Pokemon Black/Pokemon White',\n",
       " 'Gran Turismo 3: A-Spec',\n",
       " 'Call of Duty: Modern Warfare 3',\n",
       " 'Pokémon Yellow: Special Pikachu Edition',\n",
       " 'Call of Duty: Black Ops 3',\n",
       " 'Call of Duty: Black Ops',\n",
       " 'Pokemon X/Pokemon Y',\n",
       " 'Call of Duty: Black Ops II',\n",
       " 'Call of Duty: Modern Warfare 2',\n",
       " 'Grand Theft Auto III',\n",
       " 'Super Smash Bros. Brawl',\n",
       " 'Mario Kart 7',\n",
       " 'Animal Crossing: Wild World',\n",
       " 'Halo 3',\n",
       " 'Super Mario 64',\n",
       " 'Pokemon HeartGold/Pokemon SoulSilver',\n",
       " 'Pokemon Omega Ruby/Pokemon Alpha Sapphire',\n",
       " 'Gran Turismo 4',\n",
       " 'Super Mario Galaxy',\n",
       " 'Super Mario Land 2: 6 Golden Coins',\n",
       " 'Grand Theft Auto IV',\n",
       " 'Gran Turismo',\n",
       " 'Super Mario 3D Land',\n",
       " 'Gran Turismo 5',\n",
       " 'Super Mario All-Stars',\n",
       " 'Pokemon FireRed/Pokemon LeafGreen',\n",
       " 'Call of Duty: Ghosts',\n",
       " 'Just Dance 3',\n",
       " 'New Super Mario Bros. 2',\n",
       " 'Mario Kart 64',\n",
       " 'Halo: Reach',\n",
       " 'Final Fantasy VII',\n",
       " 'Halo 4',\n",
       " 'Gran Turismo 2',\n",
       " 'Just Dance 2',\n",
       " 'Call of Duty 4: Modern Warfare',\n",
       " 'Donkey Kong Country',\n",
       " 'Minecraft',\n",
       " 'Animal Crossing: New Leaf',\n",
       " 'Mario Party DS',\n",
       " 'The Elder Scrolls V: Skyrim',\n",
       " 'Super Mario Kart',\n",
       " 'FIFA 16',\n",
       " 'Halo 2',\n",
       " 'Wii Party',\n",
       " 'Mario Party 8',\n",
       " 'FIFA Soccer 13',\n",
       " 'GoldenEye 007',\n",
       " 'Pokemon Black 2/Pokemon White 2',\n",
       " 'Final Fantasy X',\n",
       " 'The Sims 3',\n",
       " 'Mario & Sonic at the Olympic Games',\n",
       " 'Star Wars Battlefront (2015)',\n",
       " 'Final Fantasy VIII',\n",
       " 'Pac-Man',\n",
       " 'Pokémon Platinum Version',\n",
       " 'Grand Theft Auto: Liberty City Stories',\n",
       " 'Call of Duty: Advanced Warfare',\n",
       " 'The Legend of Zelda: Ocarina of Time',\n",
       " 'FIFA 17',\n",
       " 'Crash Bandicoot 2: Cortex Strikes Back',\n",
       " 'Super Smash Bros. for Wii U and 3DS',\n",
       " 'Super Mario Galaxy 2',\n",
       " 'Super Mario Bros. 2',\n",
       " 'Call of Duty: World at War',\n",
       " 'Battlefield 3',\n",
       " 'Need for Speed Underground',\n",
       " 'Just Dance',\n",
       " 'Fallout 4',\n",
       " 'Tekken 3',\n",
       " 'The Legend of Zelda: Twilight Princess',\n",
       " 'Pokemon Sun/Moon',\n",
       " 'Crash Bandicoot 3: Warped',\n",
       " 'Mario Kart 8',\n",
       " 'Super Smash Bros. Melee',\n",
       " 'Mario Kart: Double Dash!!',\n",
       " 'Need for Speed Underground 2',\n",
       " 'Medal of Honor: Frontline',\n",
       " 'Crash Bandicoot',\n",
       " 'Just Dance 4',\n",
       " 'Gears of War 2',\n",
       " \"Uncharted 3: Drake's Deception\",\n",
       " 'Zumba Fitness',\n",
       " 'Uncharted 2: Among Thieves',\n",
       " 'FIFA 12',\n",
       " 'Big Brain Academy',\n",
       " 'The Legend of Zelda',\n",
       " 'Red Dead Redemption',\n",
       " 'FIFA 14',\n",
       " \"Assassin's Creed III\",\n",
       " 'Donkey Kong Country Returns',\n",
       " 'Halo: Combat Evolved',\n",
       " 'Pokémon Emerald Version',\n",
       " 'Kingdom Hearts',\n",
       " 'Pokémon Crystal Version',\n",
       " 'Halo 3: ODST',\n",
       " 'Super Mario Sunshine',\n",
       " 'Street Fighter II: The World Warrior',\n",
       " 'World of Warcraft',\n",
       " 'Driver',\n",
       " 'Gears of War 3',\n",
       " 'Kinect Sports',\n",
       " 'Gears of War',\n",
       " 'FIFA 15',\n",
       " 'Metal Gear Solid 2: Sons of Liberty',\n",
       " 'Sonic the Hedgehog 2',\n",
       " 'Metal Gear Solid',\n",
       " 'Metal Gear Solid 4: Guns of the Patriots',\n",
       " 'Final Fantasy XII',\n",
       " 'The Last of Us',\n",
       " 'LittleBigPlanet',\n",
       " 'Resident Evil 2',\n",
       " 'Dragon Quest IX: Sentinels of the Starry Skies',\n",
       " 'Tekken 2',\n",
       " 'Destiny',\n",
       " 'LEGO Star Wars: The Complete Saga',\n",
       " 'Cooking Mama',\n",
       " 'Super Smash Bros.',\n",
       " \"Assassin's Creed II\",\n",
       " \"Assassin's Creed\",\n",
       " 'Forza Motorsport 3',\n",
       " 'Super Mario Advance',\n",
       " 'Monster Hunter Freedom Unite',\n",
       " 'Batman: Arkham City',\n",
       " 'Mario Kart: Super Circuit',\n",
       " 'Pokemon Stadium',\n",
       " 'Crash Bandicoot: The Wrath of Cortex',\n",
       " \"Uncharted 4: A Thief's End\",\n",
       " 'Dr. Mario',\n",
       " 'Final Fantasy XIII',\n",
       " 'Pokemon Pinball',\n",
       " 'Final Fantasy IX',\n",
       " 'Final Fantasy X-2',\n",
       " 'Donkey Kong 64',\n",
       " 'Tomb Raider II',\n",
       " 'Tomodachi Life',\n",
       " 'New Super Mario Bros. U',\n",
       " 'Dragon Quest VIII: Journey of the Cursed King',\n",
       " 'Professor Layton and the Curious Village',\n",
       " 'Super Mario Land 3: Wario Land',\n",
       " \"Donkey Kong Country 2: Diddy's Kong Quest\",\n",
       " 'Diablo III',\n",
       " 'Medal of Honor: Rising Sun',\n",
       " \"Kirby's Dream Land\",\n",
       " 'Microsoft Flight Simulator',\n",
       " 'Guitar Hero II',\n",
       " 'Fable III',\n",
       " 'Resident Evil 5',\n",
       " 'The Legend of Zelda: Phantom Hourglass',\n",
       " 'FIFA Soccer 11',\n",
       " 'Resident Evil',\n",
       " 'Grand Theft Auto: Vice City Stories',\n",
       " \"Tony Hawk's Pro Skater\",\n",
       " 'Warzone 2100',\n",
       " 'Spyro the Dragon',\n",
       " 'Guitar Hero III: Legends of Rock',\n",
       " \"Link's Crossbow Training\",\n",
       " 'Pokemon Mystery Dungeon: Explorers of Time/Explorers of Darkness',\n",
       " 'Fallout 3',\n",
       " \"Uncharted: Drake's Fortune\",\n",
       " 'Madden NFL 06',\n",
       " 'Diddy Kong Racing',\n",
       " 'Monster Hunter Freedom 3',\n",
       " 'StarCraft II: Wings of Liberty',\n",
       " 'God of War III',\n",
       " 'Crash Team Racing',\n",
       " 'Driver 2',\n",
       " 'The Simpsons: Hit & Run',\n",
       " \"Tony Hawk's Pro Skater 2\",\n",
       " 'The Lord of the Rings: The Two Towers',\n",
       " 'Tomb Raider',\n",
       " 'Animal Crossing: City Folk',\n",
       " 'Uncharted: The Nathan Drake Collection',\n",
       " 'The Legend of Zelda: A Link to the Past',\n",
       " 'The Legend of Zelda: The Wind Waker',\n",
       " \"Luigi's Mansion: Dark Moon\",\n",
       " 'Forza Motorsport 4',\n",
       " 'Mario & Sonic at the Olympic Winter Games',\n",
       " 'Madden NFL 2005',\n",
       " 'Pitfall!',\n",
       " 'Madden NFL 07',\n",
       " 'Halo 5: Guardians',\n",
       " 'Spider-Man: The Movie',\n",
       " 'Dragon Quest VII: Warriors of Eden',\n",
       " 'Call of Duty: Infinite Warfare',\n",
       " 'God of War',\n",
       " 'Splatoon',\n",
       " 'Nintendo Land',\n",
       " \"Tony Hawk's Pro Skater 3\",\n",
       " 'Winning Eleven: Pro Evolution Soccer 2007',\n",
       " 'The Elder Scrolls IV: Oblivion',\n",
       " 'Zelda II: The Adventure of Link',\n",
       " 'Need for Speed: Most Wanted',\n",
       " 'Michael Jackson: The Experience',\n",
       " 'Resistance: Fall of Man',\n",
       " 'Sonic the Hedgehog',\n",
       " 'Kingdom Hearts II',\n",
       " 'Super Mario 3D World',\n",
       " 'Asteroids',\n",
       " 'Fable II',\n",
       " 'Namco Museum',\n",
       " 'Batman: Arkham Asylum',\n",
       " 'Metal Gear Solid 3: Snake Eater',\n",
       " \"Assassin's Creed: Revelations\",\n",
       " 'Daxter',\n",
       " 'Warcraft II: Tides of Darkness',\n",
       " 'FIFA Soccer 06',\n",
       " 'EyeToy Play',\n",
       " 'Gran Turismo 5 Prologue',\n",
       " 'Teenage Mutant Ninja Turtles',\n",
       " 'Street Fighter IV',\n",
       " 'Excitebike',\n",
       " 'Frogger',\n",
       " 'Madden NFL 2003',\n",
       " 'Half-Life',\n",
       " \"Super Mario World 2: Yoshi's Island\",\n",
       " 'FIFA Soccer 07',\n",
       " 'Street Fighter II Turbo',\n",
       " 'World of Warcraft: The Burning Crusade',\n",
       " 'Battlefield 1',\n",
       " 'God of War II',\n",
       " 'World Soccer Winning Eleven 9',\n",
       " 'Fallout: New Vegas',\n",
       " 'Forza Motorsport 2',\n",
       " 'Carnival Games',\n",
       " 'Watch Dogs',\n",
       " 'Namco Museum Vol.3',\n",
       " 'Tekken Tag Tournament',\n",
       " 'Far Cry 4',\n",
       " 'Star Fox 64',\n",
       " 'Golf',\n",
       " 'Namco Museum: 50th Anniversary',\n",
       " 'Left 4 Dead 2',\n",
       " 'The Witcher 3: Wild Hunt',\n",
       " \"Assassin's Creed: Unity\",\n",
       " 'Batman: Arkham Knight',\n",
       " 'The Legend of Zelda: Skyward Sword',\n",
       " 'Professor Layton and the Diabolical Box',\n",
       " 'Donkey Kong Land',\n",
       " 'EA Sports Active',\n",
       " \"Tony Hawk's Underground\",\n",
       " 'Monster Hunter 4 Ultimate',\n",
       " 'NBA 2K16',\n",
       " 'Tekken 5',\n",
       " 'Dragon Warrior III',\n",
       " 'MotorStorm',\n",
       " 'Nintendogs + cats',\n",
       " 'World Soccer Winning Eleven 8 International',\n",
       " 'Sports Champions',\n",
       " 'Namco Museum Vol.1',\n",
       " \"The Legend of Zelda: Link's Awakening\",\n",
       " 'Flash Focus: Vision Training in Minutes a Day',\n",
       " \"Tom Clancy's The Division\",\n",
       " 'Big Brain Academy: Wii Degree',\n",
       " \"Resident Evil Director's Cut\",\n",
       " \"Mario & Luigi: Bowser's Inside Story\",\n",
       " 'LEGO Indiana Jones: The Original Adventures',\n",
       " 'The Sims: Unleashed',\n",
       " 'Ratchet & Clank: Size Matters',\n",
       " \"Harry Potter and the Sorcerer's Stone\",\n",
       " 'Mario & Sonic at the London 2012 Olympic Games',\n",
       " 'Resident Evil 3: Nemesis',\n",
       " 'Super Paper Mario',\n",
       " 'Spyro: Year of the Dragon',\n",
       " \"Assassin's Creed IV: Black Flag\",\n",
       " 'FIFA Soccer 2005',\n",
       " 'Pokémon Trading Card Game',\n",
       " 'Friend Collection',\n",
       " \"Tony Hawk's Pro Skater 4\",\n",
       " 'MySims',\n",
       " 'Midnight Club 3: DUB Edition',\n",
       " 'Banjo-Kazooie',\n",
       " 'SOCOM: U.S. Navy SEALs',\n",
       " 'Jak and Daxter: The Precursor Legacy',\n",
       " 'Pokemon Snap',\n",
       " 'Pro Evolution Soccer 2008',\n",
       " 'Resident Evil 4',\n",
       " 'Guitar Hero: World Tour',\n",
       " 'FIFA Soccer 10',\n",
       " 'Star Wars: Battlefront',\n",
       " 'Doom II: Hell on Earth',\n",
       " 'The Simpsons: Road Rage',\n",
       " \"Luigi's Mansion\",\n",
       " 'Battlefield 4',\n",
       " 'Star Wars: Battlefront II',\n",
       " 'Just Dance 2014',\n",
       " 'Cooking Mama 2: Dinner With Friends',\n",
       " 'WWF SmackDown!',\n",
       " 'Croc: Legend of the Gobbos',\n",
       " 'The Getaway',\n",
       " 'Tomb Raider III: Adventures of Lara Croft',\n",
       " 'James Bond 007: Agent Under Fire',\n",
       " 'LEGO Star Wars: The Video Game',\n",
       " 'Rugrats in Paris: The Movie',\n",
       " \"Spyro 2: Ripto's Rage!\",\n",
       " 'Left 4 Dead',\n",
       " \"Donkey Kong Country 3: Dixie Kong's Double Trouble!\",\n",
       " 'Kung Fu',\n",
       " \"Assassin's Creed: Brotherhood\",\n",
       " 'Battlefield: Bad Company 2',\n",
       " 'Guitar Hero: On Tour',\n",
       " 'Clubhouse Games',\n",
       " 'Monster Hunter 4',\n",
       " 'Borderlands',\n",
       " 'Tekken 4',\n",
       " 'Final Fantasy III',\n",
       " 'Grand Theft Auto 2',\n",
       " 'Metal Gear Solid V: The Phantom Pain',\n",
       " 'Spider-Man 2',\n",
       " 'F-1 Race',\n",
       " 'FIFA Soccer 2003',\n",
       " 'LittleBigPlanet 2',\n",
       " 'Crash Bash',\n",
       " \"Assassin's Creed Syndicate\",\n",
       " 'LEGO Batman: The Videogame',\n",
       " 'WWF War Zone',\n",
       " \"The Legend of Zelda: Majora's Mask\",\n",
       " 'Far Cry 3',\n",
       " 'Rugrats: Search For Reptar',\n",
       " 'English Training: Have Fun Improving Your Skills!',\n",
       " 'James Bond 007: Nightfire',\n",
       " 'Ratchet & Clank',\n",
       " 'Monster Hunter X',\n",
       " 'Star Wars Episode III: Revenge of the Sith',\n",
       " 'The Legend of Zelda: Spirit Tracks',\n",
       " 'Max Payne',\n",
       " 'The Lord of the Rings: The Return of the King',\n",
       " 'Yokai Watch 2 Ganso/Honke',\n",
       " 'Gears of War: Ultimate Edition',\n",
       " 'True Crime: Streets of LA',\n",
       " 'Professor Layton and the Unwound Future',\n",
       " 'Gran Turismo (PSP)',\n",
       " 'Wii Music',\n",
       " 'Tekken',\n",
       " 'Madden NFL 16',\n",
       " 'Gran Turismo 6',\n",
       " 'Halo: The Master Chief Collection',\n",
       " '007: Tomorrow Never Dies',\n",
       " 'Super Mario Maker',\n",
       " 'WWF SmackDown! 2: Know Your Role',\n",
       " 'Baseball',\n",
       " 'Killer Instinct',\n",
       " 'Dragon Quest VI: Maboroshi no Daichi',\n",
       " 'God of War: Chains of Olympus',\n",
       " 'Enter the Matrix',\n",
       " 'Crisis Core: Final Fantasy VII',\n",
       " 'Dance Central',\n",
       " 'L.A. Noire',\n",
       " 'Ace Combat 04: Shattered Skies',\n",
       " 'Animal Crossing',\n",
       " 'FIFA Soccer 08',\n",
       " 'Club Penguin: Elite Penguin Force',\n",
       " 'Spider-Man',\n",
       " 'Mario Party 9',\n",
       " 'Need for Speed III: Hot Pursuit',\n",
       " 'Star Wars Episode I Racer',\n",
       " 'Sonic Rush',\n",
       " 'Dragon Warrior IV',\n",
       " 'Rhythm Heaven',\n",
       " 'Personal Trainer: Cooking',\n",
       " 'The Legend of Zelda: A Link Between Worlds',\n",
       " 'Resident Evil 6',\n",
       " 'Mass Effect 2',\n",
       " 'Dragon Ball Z: Budokai',\n",
       " 'Madden NFL 2002',\n",
       " 'World Class Track Meet',\n",
       " 'Donkey Kong',\n",
       " 'The Sims: Vacation',\n",
       " 'Animal Crossing: Happy Home Designer',\n",
       " 'The Sims 4',\n",
       " 'Borderlands 2',\n",
       " 'Kung Fu Panda',\n",
       " 'Mass Effect 3',\n",
       " 'Heavy Rain',\n",
       " 'Rayman',\n",
       " 'Saints Row 2',\n",
       " \"Tom Clancy's Splinter Cell\",\n",
       " \"Mike Tyson's Punch-Out!!\",\n",
       " 'WWE SmackDown! Shut Your Mouth',\n",
       " 'Killzone 2',\n",
       " 'Epic Mickey',\n",
       " 'NBA 2K13',\n",
       " 'Dragon Ball Z: Budokai Tenkaichi 3',\n",
       " 'Star Fox',\n",
       " 'The Sims: Livin Large',\n",
       " 'World Soccer Winning Eleven 6 International',\n",
       " 'Devil May Cry',\n",
       " 'Star Wars: The Old Republic',\n",
       " 'Middle-Earth: Shadow of Mordor',\n",
       " 'Sonic Heroes',\n",
       " 'Hitman 2: Silent Assassin',\n",
       " 'Titanfall',\n",
       " 'Wave Race 64',\n",
       " 'SOCOM II: U.S. Navy SEALs',\n",
       " 'WWE SmackDown! vs. RAW 2006',\n",
       " 'Pac-Man Collection',\n",
       " 'inFAMOUS',\n",
       " 'Kirby Super Star Ultra',\n",
       " 'Mass Effect',\n",
       " 'Sonic Mega Collection Plus',\n",
       " 'World Soccer Winning Eleven 7 International',\n",
       " 'Sega Superstars Tennis',\n",
       " 'Hot Shots Golf 3',\n",
       " 'Cooking Mama: Cook Off',\n",
       " 'Call of Duty: Finest Hour',\n",
       " 'WarioWare: Smooth Moves',\n",
       " 'Syphon Filter',\n",
       " 'Imagine: Babyz',\n",
       " 'Colin McRae Rally',\n",
       " 'Madden NFL 13',\n",
       " 'The Elder Scrolls III: Morrowind',\n",
       " 'Command & Conquer: Red Alert',\n",
       " 'F-Zero',\n",
       " \"Yoshi's Story\",\n",
       " 'Mortal Kombat',\n",
       " 'Madden NFL 10',\n",
       " 'WWE SmackDown! vs. Raw',\n",
       " 'BioShock',\n",
       " 'Metroid Prime',\n",
       " 'Finding Nemo',\n",
       " 'Zumba Fitness 2',\n",
       " 'Myst',\n",
       " 'Medal of Honor',\n",
       " 'Imagine: Fashion Designer',\n",
       " 'WWE SmackDown! Here Comes the Pain',\n",
       " 'Hot Shots Golf',\n",
       " \"A Bug's Life\",\n",
       " 'WWF SmackDown! Just Bring It',\n",
       " 'inFAMOUS: Second Son',\n",
       " 'Dragon Quest V: Tenkuu no Hanayome',\n",
       " 'Mortal Kombat Trilogy',\n",
       " 'Monster Hunter Tri',\n",
       " 'NBA Street',\n",
       " 'Jak II',\n",
       " 'Ratchet & Clank: Going Commando',\n",
       " 'Need for Speed: Hot Pursuit',\n",
       " \"Skylanders: Spyro's Adventure\",\n",
       " 'Mortal Kombat X',\n",
       " 'The Sims',\n",
       " 'Killzone 3',\n",
       " 'Star Wars: The Force Unleashed',\n",
       " \"Yoshi's Island DS\",\n",
       " 'Saints Row: The Third',\n",
       " 'Missile Command',\n",
       " 'Mario Paint',\n",
       " 'Tekken 6',\n",
       " 'Pokémon Stadium 2',\n",
       " 'Metroid',\n",
       " 'Sonic and the Secret Rings',\n",
       " 'Onimusha: Warlords',\n",
       " 'Mario Party',\n",
       " 'Call of Duty 3',\n",
       " 'Madden NFL 12',\n",
       " 'LEGO Star Wars II: The Original Trilogy',\n",
       " 'Killzone: Shadow Fall',\n",
       " 'Madden NFL 11',\n",
       " 'Burnout 3: Takedown',\n",
       " 'Yokai Watch 2 Shinuchi',\n",
       " 'Mario vs. Donkey Kong: Mini-Land Mayhem!',\n",
       " 'Professor Layton and the Last Specter',\n",
       " 'Call Of Duty 2: Big Red One',\n",
       " 'Fable',\n",
       " 'Hannah Montana',\n",
       " 'Super Mario Bros.: The Lost Levels',\n",
       " 'Need for Speed: Shift',\n",
       " 'Star Wars: Shadows of the Empire',\n",
       " 'Medal of Honor Heroes',\n",
       " 'Final Fantasy XIII-2',\n",
       " 'Midnight Club: Street Racing',\n",
       " 'Skate 3',\n",
       " 'ESPN NFL 2K5',\n",
       " 'Halo Wars',\n",
       " 'NBA 2K12',\n",
       " 'Pac-Man: Adventures in Time',\n",
       " 'Harry Potter and the Chamber of Secrets',\n",
       " 'Streets of Rage',\n",
       " 'God of War Collection',\n",
       " 'NBA Live 2005',\n",
       " 'Mario Strikers Charged',\n",
       " 'FIFA Soccer 09',\n",
       " 'Style Savvy',\n",
       " 'WWE SmackDown vs. RAW 2007',\n",
       " 'Ratchet & Clank: Up Your Arsenal',\n",
       " 'Madden NFL 08',\n",
       " 'Monster Hunter Freedom 2',\n",
       " 'Ratchet & Clank Future: Tools of Destruction',\n",
       " 'Super Mario All-Stars: Limited Edition',\n",
       " 'Sonic Adventure 2 Battle',\n",
       " 'Dragon Warrior II',\n",
       " 'Ghostbusters: The Video Game (DS Version)',\n",
       " 'Dragon Age: Origins',\n",
       " 'Pokémon Colosseum',\n",
       " 'Madden NFL 09',\n",
       " 'Crazy Taxi',\n",
       " 'Art Academy',\n",
       " 'NBA 2K14',\n",
       " 'Perfect Dark',\n",
       " 'Skylanders Giants',\n",
       " 'Dragon Warrior',\n",
       " 'Deca Sports',\n",
       " 'PES 2009: Pro Evolution Soccer',\n",
       " 'Mario Party 2',\n",
       " 'Marvel: Ultimate Alliance',\n",
       " 'Rockstar Games Double Pack: Grand Theft Auto III & Grand Theft Auto Vice City',\n",
       " 'Mortal Kombat: Deadly Alliance',\n",
       " 'Game Party',\n",
       " 'Bloodborne',\n",
       " 'Tomb Raider: The Last Revelation',\n",
       " 'Mario Party 4',\n",
       " 'Pure',\n",
       " 'Resistance 2',\n",
       " 'NBA 2K15',\n",
       " 'Final Fantasy V',\n",
       " 'Final Fantasy Tactics',\n",
       " 'Midnight Club: Los Angeles',\n",
       " 'Twisted Metal 2',\n",
       " \"The Sims: Bustin' Out\",\n",
       " 'Riven: The Sequel to Myst',\n",
       " 'LEGO Harry Potter: Years 1-4',\n",
       " 'Need for Speed (2015)',\n",
       " 'Ice Hockey',\n",
       " 'Sonic Adventure',\n",
       " \"Tom Clancy's Rainbow Six: Vegas 2\",\n",
       " 'uDraw Studio',\n",
       " 'Tomb Raider (2013)',\n",
       " 'Need for Speed Carbon: Own the City',\n",
       " 'Dragon Ball Z: Budokai 2',\n",
       " 'pro evolution soccer 2011',\n",
       " 'ATV Offroad Fury',\n",
       " 'Dino Crisis',\n",
       " 'Need for Speed: ProStreet',\n",
       " 'Halo: Combat Evolved Anniversary',\n",
       " 'Tetris Plus',\n",
       " 'Pro Wrestling',\n",
       " 'Theme Hospital',\n",
       " 'Monopoly',\n",
       " 'Guitar Hero',\n",
       " 'WCW/nWo Revenge',\n",
       " 'Yu-Gi-Oh! The Duelists of the Roses',\n",
       " 'Dead Island',\n",
       " 'Half-Life 2',\n",
       " 'The Incredibles',\n",
       " \"Tony Hawk's Underground 2\",\n",
       " \"Kirby's Dream Land 2\",\n",
       " 'Donkey Kong Land II',\n",
       " 'Dragon Warrior Monsters',\n",
       " 'Kinect: Disneyland Adventures',\n",
       " 'WWE SmackDown vs Raw 2008',\n",
       " \"The Legend of Zelda: Majora's Mask 3D\",\n",
       " 'Resident Evil - Code: Veronica X',\n",
       " 'Kinect Sports: Season Two',\n",
       " 'My Fitness Coach',\n",
       " 'Mario Tennis',\n",
       " 'Grand Theft Auto',\n",
       " 'James Bond 007: Everything or Nothing',\n",
       " 'Need For Speed: High Stakes',\n",
       " 'Chrono Trigger',\n",
       " 'Guild Wars 2',\n",
       " 'Cool Boarders 3',\n",
       " 'Paper Mario: Sticker Star',\n",
       " 'WarioWare Touched!',\n",
       " 'Batman: Arkham Origins',\n",
       " 'Yokai Watch Busters',\n",
       " 'Pro Evolution Soccer 2010',\n",
       " 'Mario Bros.',\n",
       " 'Pokemon Ranger: Shadows of Almia',\n",
       " 'TOCA Touring Car Championship',\n",
       " 'Kirby: Nightmare in Dream Land',\n",
       " 'Wario Land 4',\n",
       " \"Sonic's Ultimate Genesis Collection\",\n",
       " 'Far Cry: Primal',\n",
       " \"Onimusha 2: Samurai's Destiny\",\n",
       " 'Cool Boarders 2',\n",
       " 'Paper Mario: The Thousand-Year Door',\n",
       " 'God of War: Ascension',\n",
       " 'Sonic Advance',\n",
       " 'Super Monkey Ball: Banana Blitz',\n",
       " 'Just Dance Kids',\n",
       " 'New Super Luigi U',\n",
       " 'Spyro: Season of Ice',\n",
       " 'Dissidia: Final Fantasy',\n",
       " 'Madden NFL 25',\n",
       " 'Teenage Mutant Ninja Turtles II: The Arcade Game',\n",
       " 'Dance Dance Revolution X2',\n",
       " 'Prince of Persia: The Sands of Time',\n",
       " 'LEGO Marvel Super Heroes',\n",
       " \"The Legend of Zelda: Link's Awakening DX\",\n",
       " \"Tom Clancy's Rainbow Six: Siege\",\n",
       " \"Devil May Cry 3: Dante's Awakening Special Edition\",\n",
       " 'Forza Motorsport 5',\n",
       " 'Rock Band 2',\n",
       " 'Pro Yakyuu Family Stadium',\n",
       " 'Wario Land 3',\n",
       " 'BioShock 2',\n",
       " \"High School Musical: Makin' the Cut!\",\n",
       " 'Star Wars: Knights of the Old Republic',\n",
       " \"Kirby's Pinball Land\",\n",
       " 'Madden NFL 15',\n",
       " 'Pro Evolution Soccer 2012',\n",
       " 'Saints Row',\n",
       " 'Yu-Gi-Oh: Duel Monsters 4',\n",
       " 'ATV Offroad Fury 2',\n",
       " 'Mario & Luigi: Superstar Saga',\n",
       " 'Star Wars: Rogue Squadron',\n",
       " 'Tennis',\n",
       " 'The Sims: House Party',\n",
       " 'Scribblenauts',\n",
       " 'Sonic Unleashed',\n",
       " 'Syphon Filter 2',\n",
       " 'Pokemon Ranger',\n",
       " 'Volleyball',\n",
       " 'Skylanders SWAP Force',\n",
       " 'Overwatch',\n",
       " 'Hitman: Absolution',\n",
       " 'SimCity 2000',\n",
       " 'R.C. Pro-Am',\n",
       " 'Super Mario RPG: Legend of the Seven Stars',\n",
       " 'Mahjong',\n",
       " 'Demon Attack',\n",
       " 'Call of Duty: Roads to Victory',\n",
       " 'Dance Dance Revolution Extreme',\n",
       " 'Final Fantasy Tactics Advance',\n",
       " 'Your Shape featuring Jenny McCarthy',\n",
       " 'Project Gotham Racing',\n",
       " 'Need for Speed: Hot Pursuit 2',\n",
       " 'Dynasty Warriors 4',\n",
       " 'Parasite Eve',\n",
       " 'Tetris DS',\n",
       " 'Project Gotham Racing (JP weekly sales)',\n",
       " 'Scooby-Doo! Night of 100 Frights',\n",
       " 'Battlefield: Hardline',\n",
       " \"Devil May Cry 3: Dante's Awakening\",\n",
       " 'Derby Stallion',\n",
       " 'NBA 2K11',\n",
       " 'Dying Light',\n",
       " 'Yokai Watch',\n",
       " 'Dead Rising',\n",
       " 'World of Warcraft: Cataclysm',\n",
       " 'Tetris Worlds',\n",
       " 'Sim Theme Park',\n",
       " 'Mario Party 5',\n",
       " 'Warcraft: Orcs & Humans',\n",
       " 'Mario & Luigi: Dream Team',\n",
       " 'Portal 2',\n",
       " 'Mario Sports Mix',\n",
       " 'Need for Speed: Most Wanted 5-1-0',\n",
       " 'Spec Ops: Airborne Commando',\n",
       " 'The Sims 2: Pets',\n",
       " 'Dance Dance Revolution: Hottest Party',\n",
       " 'DriveClub',\n",
       " 'Yu-Gi-Oh! The Eternal Duelist Soul',\n",
       " 'UFC 2009 Undisputed',\n",
       " 'Metal Gear Solid: Peace Walker',\n",
       " \"Kirby's Epic Yarn\",\n",
       " 'Wipeout: The Game',\n",
       " 'Pokemon Mystery Dungeon: Red/Blue Rescue Team',\n",
       " 'R4: Ridge Racer Type 4',\n",
       " 'Kingdom Hearts: Birth by Sleep',\n",
       " \"Tom Clancy's Splinter Cell: Conviction\",\n",
       " 'SoulCalibur II',\n",
       " 'Sonic Mega Collection',\n",
       " 'Need For Speed: Undercover',\n",
       " 'Toy Story 3: The Video Game',\n",
       " 'NBA Jam',\n",
       " 'SOCOM: U.S. Navy SEALs: Combined Assault',\n",
       " \"Peter Jackson's King Kong: The Official Game of the Movie\",\n",
       " 'Dance Central 2',\n",
       " 'PGR4 - Project Gotham Racing 4',\n",
       " '1080°: TenEighty Snowboarding',\n",
       " 'NBA Live 2004',\n",
       " 'Call of Duty 2',\n",
       " 'Rayman Raving Rabbids: TV Party',\n",
       " 'Pokémon Mystery Dungeon: Blue Rescue Team',\n",
       " 'Dark Souls',\n",
       " 'Fire Emblem: Awakening',\n",
       " 'Need for Speed: The Run',\n",
       " 'Just Dance 2015',\n",
       " 'Dragon Age: Inquisition',\n",
       " 'Super Street Fighter II',\n",
       " 'Dead Space',\n",
       " 'Mortal Kombat vs. DC Universe',\n",
       " 'TouchMaster',\n",
       " 'Tenchu: Stealth Assassins',\n",
       " 'Kingdom Hearts 358/2 Days',\n",
       " 'SimCity',\n",
       " 'Need for Speed Rivals',\n",
       " 'Spyro: Enter the Dragonfly',\n",
       " 'Devil May Cry 2',\n",
       " 'E.T.: The Extra Terrestrial',\n",
       " 'Hot Shots Golf: Open Tee',\n",
       " 'Soccer',\n",
       " 'Rad Racer',\n",
       " 'Forza Horizon',\n",
       " \"Tom Clancy's Rainbow Six: Vegas\",\n",
       " 'Crash Nitro Kart',\n",
       " 'Star Wars: Dark Forces',\n",
       " 'NBA Street Vol. 2',\n",
       " 'Def Jam Vendetta',\n",
       " 'Kirby Squeak Squad',\n",
       " 'Burnout Paradise',\n",
       " 'Who wants to be a millionaire',\n",
       " 'Alleyway',\n",
       " 'Scooby Doo and the Cyber Chase',\n",
       " 'Dragon Ball Z: Budokai 3',\n",
       " 'Jet Moto 2',\n",
       " \"Tom Clancy's Ghost Recon\",\n",
       " 'BioShock Infinite',\n",
       " 'X-Men Legends',\n",
       " 'Mortal Kombat II',\n",
       " 'Virtua Fighter 2',\n",
       " 'Destiny: The Taken King',\n",
       " 'Tetris DX',\n",
       " 'The Legend of Zelda: Oracle of Ages',\n",
       " 'Red Faction',\n",
       " \"The Sims: Makin' Magic\",\n",
       " 'Mario Party: Island Tour',\n",
       " 'MX Unleashed',\n",
       " 'PaRappa The Rapper',\n",
       " 'Mario Party 3',\n",
       " 'LittleBigPlanet 3',\n",
       " 'Star Wars Rogue Leader: Rogue Squadron II',\n",
       " 'Mario Super Sluggers',\n",
       " 'Game Party 2',\n",
       " 'Yu-Gi-Oh! Forbidden Memories',\n",
       " 'Mortal Kombat: Deception',\n",
       " 'Hot Shots Golf 2',\n",
       " 'Medal of Honor: European Assault (All Region sales)',\n",
       " 'NBA 2K17',\n",
       " 'Toy Story Mania!',\n",
       " 'WCW Nitro',\n",
       " 'High School Musical: Sing It!',\n",
       " 'Star Fox Adventures',\n",
       " 'FIFA 2000',\n",
       " 'Dynasty Warriors 3',\n",
       " 'The Legend of Zelda: Oracle of Seasons',\n",
       " 'Ratchet & Clank Future: A Crack in Time',\n",
       " 'Shrek 2',\n",
       " 'Turok 2: Seeds of Evil',\n",
       " 'The Legend of Dragoon',\n",
       " 'SingStar',\n",
       " 'NBA Live 2002',\n",
       " 'Just Cause 3',\n",
       " 'Chrono Cross',\n",
       " 'Jak 3',\n",
       " 'Kingdom Hearts: Chain of Memories',\n",
       " 'Pinball',\n",
       " 'Max Payne 3',\n",
       " 'Gran Turismo Concept 2001 Tokyo',\n",
       " 'Phineas and Ferb',\n",
       " 'NCAA Football 06',\n",
       " 'Hey You, Pikachu!',\n",
       " 'Rayman Raving Rabbids 2',\n",
       " '2 Games in 1: Sonic Advance & ChuChu Rocket!',\n",
       " 'Jet Moto',\n",
       " 'Kirby: Triple Deluxe',\n",
       " 'Secret of Mana',\n",
       " 'GoldenEye 007 (2010)',\n",
       " 'Sonic Classic Collection',\n",
       " 'Air Combat',\n",
       " 'inFAMOUS 2',\n",
       " 'World of Warcraft: Mists of Pandaria',\n",
       " 'Sonic & Knuckles',\n",
       " 'The Sims: Hot Date',\n",
       " \"Demon's Souls\",\n",
       " 'The Orange Box',\n",
       " 'DDRMAX2: Dance Dance Revolution',\n",
       " 'Virtua Fighter 4',\n",
       " 'Mafia III',\n",
       " 'Sly 2: Band of Thieves',\n",
       " 'Sonic Advance 2',\n",
       " 'NFL GameDay 2000',\n",
       " 'Forza Motorsport 6',\n",
       " 'The Evil Within',\n",
       " 'Metroid Prime 3: Corruption',\n",
       " \"Disney's The Lion King\",\n",
       " 'Professor Layton and the Mask of Miracle',\n",
       " 'Midnight Club II',\n",
       " 'SpongeBob SquarePants: SuperSponge',\n",
       " 'The Getaway: Black Monday',\n",
       " '50 Cent: Bulletproof',\n",
       " 'Final Fantasy II',\n",
       " 'Kirby 64: The Crystal Shards',\n",
       " 'Dead or Alive 3',\n",
       " 'Dragon Quest Monsters: Joker',\n",
       " 'LEGO Star Wars III: The Clone Wars',\n",
       " 'Metroid II: Return of Samus',\n",
       " 'WWF Attitude',\n",
       " 'The SpongeBob SquarePants Movie',\n",
       " 'Golden Sun',\n",
       " 'Sonic the Hedgehog 3',\n",
       " 'Kid Icarus',\n",
       " 'Def Jam: Fight for NY',\n",
       " 'State of Emergency',\n",
       " '2 Games in 1 Double Pack: The Incredibles / Finding Nemo: The Continuing Adventures',\n",
       " 'The Urbz: Sims in the City',\n",
       " 'Star Wars: Starfighter',\n",
       " 'Madden NFL 2000',\n",
       " 'Pro Evolution Soccer',\n",
       " 'Madden NFL 17',\n",
       " 'Just Cause 2',\n",
       " \"Disney's Aladdin\",\n",
       " \"Kirby's Adventure\",\n",
       " 'Yoshi',\n",
       " 'The Elder Scrolls Online',\n",
       " 'Crackdown',\n",
       " 'Wii Party U',\n",
       " 'Dance Dance Revolution X',\n",
       " '2 Games in 1: Disney Princess & The Lion King',\n",
       " 'Star Wars Episode I: The Phantom Menace',\n",
       " 'Xenosaga Episode I: Der Wille zur Macht',\n",
       " 'Kinect Star Wars',\n",
       " \"Dragon's Dogma\",\n",
       " \"Cruis'n USA\",\n",
       " 'Madden NFL 99',\n",
       " 'The Order: 1886',\n",
       " 'SSX Tricky',\n",
       " 'Knack',\n",
       " 'Twisted Metal III',\n",
       " 'Dragon Quest VI: Realms of Revelation',\n",
       " 'Crash Bandicoot: The Huge Adventure',\n",
       " 'The Crew',\n",
       " 'Call of Duty: World at War Final Fronts',\n",
       " 'Star Ocean: Till The End of Time',\n",
       " 'Dishonored',\n",
       " 'Toy Story 2: Buzz Lightyear to the Rescue!',\n",
       " 'The Beatles: Rock Band',\n",
       " 'Ace Combat 5: The Unsung War',\n",
       " 'Kanshuu Nippon Joushikiryoku Kentei Kyoukai: Imasara Hito ni wa Kikenai Otona no Joushikiryoku Training DS',\n",
       " 'Imagine: Teacher',\n",
       " 'Deal or No Deal',\n",
       " 'Super Puyo Puyo',\n",
       " 'NCAA Football 07',\n",
       " 'The Sims 3: Late Night Expansion Pack',\n",
       " \"No Man's Sky\",\n",
       " 'Ben 10: Protector of Earth',\n",
       " \"Cabela's Big Game Hunter 2010\",\n",
       " 'SOCOM 3: U.S. Navy SEALs',\n",
       " \"Jampack Winter '99\",\n",
       " 'WCW vs. nWo: World Tour',\n",
       " 'WCW/NWO Thunder',\n",
       " 'Dragon Ball Z: The Legacy of Goku',\n",
       " 'Cooking Mama 3: Shop & Chop',\n",
       " 'Personal Trainer: Math',\n",
       " 'Game Party 3',\n",
       " 'World Championship Poker: Featuring Howard Lederer - All In',\n",
       " 'NFL GameDay 98',\n",
       " 'Sonic Colors',\n",
       " \"Yoshi's Cookie\",\n",
       " 'Time Crisis',\n",
       " \"Sid Meier's Civilization V\",\n",
       " ' Fire Emblem Fates',\n",
       " 'The Sims: Superstar',\n",
       " 'Metroid Fusion',\n",
       " 'We Ski',\n",
       " 'Star Wars Battlefront: Renegade Squadron',\n",
       " 'SSX 3',\n",
       " 'Madden NFL 2001',\n",
       " \"Disney's DuckTales\",\n",
       " 'Monsters, Inc.',\n",
       " 'PGR: Project Gotham Racing 2',\n",
       " 'Spy Hunter',\n",
       " 'NCAA Football 2004',\n",
       " 'Fight Night Round 3',\n",
       " 'StarCraft II: Heart of the Swarm',\n",
       " 'SpongeBob SquarePants: Battle for Bikini Bottom',\n",
       " 'Until Dawn',\n",
       " 'Big Beach Sports',\n",
       " \"Street Fighter II': Special Champion Edition\",\n",
       " 'SSX',\n",
       " 'Shaun White Snowboarding: Road Trip',\n",
       " 'NBA Ballers',\n",
       " 'Saints Row IV',\n",
       " 'NBA Live 2003',\n",
       " 'LEGO Batman 2: DC Super Heroes',\n",
       " 'Dragon Ball Z: Budokai Tenkaichi',\n",
       " 'Dark Souls III',\n",
       " 'Ms. Pac-Man',\n",
       " \"Kirby's Return to Dreamland\",\n",
       " 'Mario Party 6',\n",
       " 'Super Scope 6',\n",
       " 'Star Wars The Clone Wars: Lightsaber Duels',\n",
       " 'Need for Speed Carbon',\n",
       " 'Heavenly Sword',\n",
       " 'Kirby & the Amazing Mirror',\n",
       " 'Army of Two',\n",
       " 'Dig Dug',\n",
       " \"Tom Clancy's Rainbow Six\",\n",
       " \"Ghosts 'n Goblins\",\n",
       " 'Tiger Woods PGA Tour 2003',\n",
       " 'NBA Live 06 (All region sales)',\n",
       " 'Prince of Persia: Warrior Within',\n",
       " 'Beyond: Two Souls',\n",
       " 'Pikmin',\n",
       " 'Tiger Woods PGA Tour 2004',\n",
       " 'Ape Escape',\n",
       " 'NCAA Football 2005',\n",
       " 'Viva Pinata',\n",
       " \"Tony Hawk's American Wasteland (Old all region sales)\",\n",
       " 'Kinectimals',\n",
       " 'Kirby Air Ride',\n",
       " 'Sled Storm',\n",
       " 'Dragon Quest IV: Chapters of the Chosen',\n",
       " 'NFL Street 2',\n",
       " 'Yu-Gi-Oh! Duel Monsters',\n",
       " 'Super Mario Strikers',\n",
       " 'Buzz! The Music Quiz',\n",
       " 'Rage',\n",
       " 'Mario Hoops 3 on 3',\n",
       " \"SpongeBob's Atlantis SquarePantis\",\n",
       " 'Dollar Dash',\n",
       " 'F-1 World Grand Prix',\n",
       " 'River Raid',\n",
       " 'Silent Hill',\n",
       " 'Disney Infinity',\n",
       " 'ESPN NBA 2K5',\n",
       " 'Diablo',\n",
       " 'Far Cry 2',\n",
       " 'Soul Edge',\n",
       " 'NASCAR 2000',\n",
       " 'Pokemon Battle Revolution',\n",
       " 'Kingdom Hearts 3D: Dream Drop Distance',\n",
       " 'Dance Dance Revolution: Hottest Party 2',\n",
       " 'SoulCalibur IV',\n",
       " 'Jampack Summer 2K',\n",
       " 'Sonic Generations',\n",
       " 'Spyro 2: Season of Flame',\n",
       " 'Mario Party 10',\n",
       " 'Devil May Cry 4',\n",
       " 'Dead Rising 3',\n",
       " 'NCAA Football 2002',\n",
       " 'Gears of War: Judgment',\n",
       " 'Guitar Hero: On Tour Decades',\n",
       " 'Conflict: Desert Storm',\n",
       " 'Mario Party 7',\n",
       " 'Dragon Quest V: Hand of the Heavenly Bride',\n",
       " 'High School Musical 3: Senior Year',\n",
       " \"Smuggler's Run\",\n",
       " 'Carnival Games: Mini Golf',\n",
       " 'Donkey Kong Classics',\n",
       " 'Hannah Montana: Music Jam',\n",
       " 'Twisted Metal',\n",
       " 'Final Fight',\n",
       " 'Pokemon Mystery Dungeon: Explorers of Sky',\n",
       " 'Dragon Quest Monsters 2',\n",
       " 'Pokemon Pinball: Ruby & Sapphire',\n",
       " 'MySims Kingdom',\n",
       " 'LEGO Pirates of the Caribbean: The Video Game',\n",
       " 'Stuntman',\n",
       " \"Tom Clancy's Rainbow Six 3\",\n",
       " '007: The World is not Enough',\n",
       " 'Spider-Man 2: Enter: Electro',\n",
       " 'Guitar Hero 5',\n",
       " 'Command & Conquer: Tiberian Sun',\n",
       " 'Wolfenstein: The New Order',\n",
       " 'Mafia II',\n",
       " 'Moshi Monsters: Moshling Zoo',\n",
       " 'Dark Cloud',\n",
       " 'Warcraft III: The Frozen Throne',\n",
       " 'Active Life: Outdoor Challenge',\n",
       " \"Tom Clancy's Ghost Recon Advanced Warfighter\",\n",
       " 'Ratchet & Clank (2016)',\n",
       " 'MVP Baseball 2005',\n",
       " 'Die Hard Trilogy',\n",
       " 'Uncharted: Golden Abyss',\n",
       " 'Go Vacation',\n",
       " 'Pro Evolution Soccer 2013',\n",
       " 'Mortal Kombat 3',\n",
       " 'NFL GameDay 99',\n",
       " 'Mario Golf: Toadstool Tour',\n",
       " 'Tiger Woods 99 PGA Tour Golf',\n",
       " 'Resident Evil: The Umbrella Chronicles',\n",
       " 'Knockout Kings',\n",
       " 'The Simpsons Skateboarding',\n",
       " 'Donkey Kong Country: Tropical Freeze',\n",
       " ...]"
      ]
     },
     "execution_count": 17,
     "metadata": {},
     "output_type": "execute_result"
    }
   ],
   "source": [
    "list(games['name'].unique())"
   ]
  },
  {
   "cell_type": "code",
   "execution_count": 18,
   "metadata": {},
   "outputs": [
    {
     "data": {
      "text/plain": [
       "[2006,\n",
       " 1985,\n",
       " 2008,\n",
       " 2009,\n",
       " 1996,\n",
       " 1989,\n",
       " 1984,\n",
       " 2005,\n",
       " 1999,\n",
       " 2007,\n",
       " 2010,\n",
       " 2013,\n",
       " 2004,\n",
       " 1990,\n",
       " 1988,\n",
       " 2002,\n",
       " 2001,\n",
       " 2011,\n",
       " 1998,\n",
       " 2015,\n",
       " 2012,\n",
       " 2014,\n",
       " 1992,\n",
       " 1997,\n",
       " 1993,\n",
       " 1994,\n",
       " 1982,\n",
       " 2016,\n",
       " 2003,\n",
       " 1986,\n",
       " 2000,\n",
       " 1995,\n",
       " 1991,\n",
       " 1981,\n",
       " 1987,\n",
       " 1980,\n",
       " 1983]"
      ]
     },
     "execution_count": 18,
     "metadata": {},
     "output_type": "execute_result"
    }
   ],
   "source": [
    "list(games['year_of_release'].unique())"
   ]
  },
  {
   "cell_type": "markdown",
   "metadata": {},
   "source": [
    "Неявных дубликатов не обнаружено."
   ]
  },
  {
   "cell_type": "code",
   "execution_count": 19,
   "metadata": {},
   "outputs": [
    {
     "data": {
      "text/html": [
       "<div>\n",
       "<style scoped>\n",
       "    .dataframe tbody tr th:only-of-type {\n",
       "        vertical-align: middle;\n",
       "    }\n",
       "\n",
       "    .dataframe tbody tr th {\n",
       "        vertical-align: top;\n",
       "    }\n",
       "\n",
       "    .dataframe thead th {\n",
       "        text-align: right;\n",
       "    }\n",
       "</style>\n",
       "<table border=\"1\" class=\"dataframe\">\n",
       "  <thead>\n",
       "    <tr style=\"text-align: right;\">\n",
       "      <th></th>\n",
       "      <th>name</th>\n",
       "      <th>platform</th>\n",
       "      <th>year_of_release</th>\n",
       "      <th>genre</th>\n",
       "      <th>na_sales</th>\n",
       "      <th>eu_sales</th>\n",
       "      <th>jp_sales</th>\n",
       "      <th>other_sales</th>\n",
       "      <th>critic_score</th>\n",
       "      <th>user_score</th>\n",
       "      <th>rating</th>\n",
       "    </tr>\n",
       "  </thead>\n",
       "  <tbody>\n",
       "    <tr>\n",
       "      <th>604</th>\n",
       "      <td>Madden NFL 13</td>\n",
       "      <td>PS3</td>\n",
       "      <td>2012</td>\n",
       "      <td>Sports</td>\n",
       "      <td>2.11</td>\n",
       "      <td>0.22</td>\n",
       "      <td>0.0</td>\n",
       "      <td>0.23</td>\n",
       "      <td>83.0</td>\n",
       "      <td>5.5</td>\n",
       "      <td>E</td>\n",
       "    </tr>\n",
       "    <tr>\n",
       "      <th>16230</th>\n",
       "      <td>Madden NFL 13</td>\n",
       "      <td>PS3</td>\n",
       "      <td>2012</td>\n",
       "      <td>Sports</td>\n",
       "      <td>0.00</td>\n",
       "      <td>0.01</td>\n",
       "      <td>0.0</td>\n",
       "      <td>0.00</td>\n",
       "      <td>83.0</td>\n",
       "      <td>5.5</td>\n",
       "      <td>E</td>\n",
       "    </tr>\n",
       "  </tbody>\n",
       "</table>\n",
       "</div>"
      ],
      "text/plain": [
       "                name platform  year_of_release   genre  na_sales  eu_sales  \\\n",
       "604    Madden NFL 13      PS3             2012  Sports      2.11      0.22   \n",
       "16230  Madden NFL 13      PS3             2012  Sports      0.00      0.01   \n",
       "\n",
       "       jp_sales  other_sales  critic_score  user_score rating  \n",
       "604         0.0         0.23          83.0         5.5      E  \n",
       "16230       0.0         0.00          83.0         5.5      E  "
      ]
     },
     "execution_count": 19,
     "metadata": {},
     "output_type": "execute_result"
    }
   ],
   "source": [
    "#Код ревьюера\n",
    "\n",
    "games[games[['name', 'platform','year_of_release']].duplicated(keep=False)]"
   ]
  },
  {
   "cell_type": "code",
   "execution_count": 20,
   "metadata": {},
   "outputs": [
    {
     "data": {
      "text/html": [
       "<div>\n",
       "<style scoped>\n",
       "    .dataframe tbody tr th:only-of-type {\n",
       "        vertical-align: middle;\n",
       "    }\n",
       "\n",
       "    .dataframe tbody tr th {\n",
       "        vertical-align: top;\n",
       "    }\n",
       "\n",
       "    .dataframe thead th {\n",
       "        text-align: right;\n",
       "    }\n",
       "</style>\n",
       "<table border=\"1\" class=\"dataframe\">\n",
       "  <thead>\n",
       "    <tr style=\"text-align: right;\">\n",
       "      <th></th>\n",
       "      <th>name</th>\n",
       "      <th>platform</th>\n",
       "      <th>year_of_release</th>\n",
       "      <th>genre</th>\n",
       "      <th>na_sales</th>\n",
       "      <th>eu_sales</th>\n",
       "      <th>jp_sales</th>\n",
       "      <th>other_sales</th>\n",
       "      <th>critic_score</th>\n",
       "      <th>user_score</th>\n",
       "      <th>rating</th>\n",
       "      <th>total_sales</th>\n",
       "    </tr>\n",
       "  </thead>\n",
       "  <tbody>\n",
       "    <tr>\n",
       "      <th>16271</th>\n",
       "      <td>San-X Character Channel: All-Star Daishuugou!</td>\n",
       "      <td>DS</td>\n",
       "      <td>2008</td>\n",
       "      <td>Action</td>\n",
       "      <td>0.00</td>\n",
       "      <td>0.00</td>\n",
       "      <td>0.01</td>\n",
       "      <td>0.00</td>\n",
       "      <td>NaN</td>\n",
       "      <td>NaN</td>\n",
       "      <td>no_rating</td>\n",
       "      <td>0.01</td>\n",
       "    </tr>\n",
       "    <tr>\n",
       "      <th>9480</th>\n",
       "      <td>Venetica</td>\n",
       "      <td>X360</td>\n",
       "      <td>2010</td>\n",
       "      <td>Role-Playing</td>\n",
       "      <td>0.09</td>\n",
       "      <td>0.03</td>\n",
       "      <td>0.00</td>\n",
       "      <td>0.01</td>\n",
       "      <td>42.0</td>\n",
       "      <td>7.3</td>\n",
       "      <td>T</td>\n",
       "      <td>0.13</td>\n",
       "    </tr>\n",
       "    <tr>\n",
       "      <th>13703</th>\n",
       "      <td>Hellboy: The Science of Evil</td>\n",
       "      <td>PSP</td>\n",
       "      <td>2008</td>\n",
       "      <td>Action</td>\n",
       "      <td>0.04</td>\n",
       "      <td>0.00</td>\n",
       "      <td>0.00</td>\n",
       "      <td>0.00</td>\n",
       "      <td>42.0</td>\n",
       "      <td>7.1</td>\n",
       "      <td>T</td>\n",
       "      <td>0.04</td>\n",
       "    </tr>\n",
       "    <tr>\n",
       "      <th>9301</th>\n",
       "      <td>ESPN MLB Baseball</td>\n",
       "      <td>XB</td>\n",
       "      <td>2004</td>\n",
       "      <td>Sports</td>\n",
       "      <td>0.10</td>\n",
       "      <td>0.03</td>\n",
       "      <td>0.00</td>\n",
       "      <td>0.00</td>\n",
       "      <td>NaN</td>\n",
       "      <td>NaN</td>\n",
       "      <td>no_rating</td>\n",
       "      <td>0.13</td>\n",
       "    </tr>\n",
       "    <tr>\n",
       "      <th>2600</th>\n",
       "      <td>Pro Evolution Soccer 2016</td>\n",
       "      <td>PS4</td>\n",
       "      <td>2015</td>\n",
       "      <td>Sports</td>\n",
       "      <td>0.13</td>\n",
       "      <td>0.42</td>\n",
       "      <td>0.13</td>\n",
       "      <td>0.10</td>\n",
       "      <td>87.0</td>\n",
       "      <td>7.1</td>\n",
       "      <td>E</td>\n",
       "      <td>0.78</td>\n",
       "    </tr>\n",
       "  </tbody>\n",
       "</table>\n",
       "</div>"
      ],
      "text/plain": [
       "                                                name platform  \\\n",
       "16271  San-X Character Channel: All-Star Daishuugou!       DS   \n",
       "9480                                        Venetica     X360   \n",
       "13703                   Hellboy: The Science of Evil      PSP   \n",
       "9301                               ESPN MLB Baseball       XB   \n",
       "2600                       Pro Evolution Soccer 2016      PS4   \n",
       "\n",
       "       year_of_release         genre  na_sales  eu_sales  jp_sales  \\\n",
       "16271             2008        Action      0.00      0.00      0.01   \n",
       "9480              2010  Role-Playing      0.09      0.03      0.00   \n",
       "13703             2008        Action      0.04      0.00      0.00   \n",
       "9301              2004        Sports      0.10      0.03      0.00   \n",
       "2600              2015        Sports      0.13      0.42      0.13   \n",
       "\n",
       "       other_sales  critic_score  user_score     rating  total_sales  \n",
       "16271         0.00           NaN         NaN  no_rating         0.01  \n",
       "9480          0.01          42.0         7.3          T         0.13  \n",
       "13703         0.00          42.0         7.1          T         0.04  \n",
       "9301          0.00           NaN         NaN  no_rating         0.13  \n",
       "2600          0.10          87.0         7.1          E         0.78  "
      ]
     },
     "execution_count": 20,
     "metadata": {},
     "output_type": "execute_result"
    }
   ],
   "source": [
    "# Посчитаем суммарные продажи во всех регионах и запишем их в отдельный столбец.\n",
    "games['total_sales'] = games['na_sales'] + games['eu_sales'] + games['jp_sales'] + games['other_sales']\n",
    "games.sample(5)"
   ]
  },
  {
   "cell_type": "markdown",
   "metadata": {},
   "source": [
    "**Вывод:**\n",
    "- выполнена проверка на дубликаты, их не обнаружено\n",
    "- приведены к нижнему регистру названия столбцов\n",
    "- данные преобразованы к нужному типу\n",
    "- обработаны пропуски"
   ]
  },
  {
   "cell_type": "markdown",
   "metadata": {},
   "source": [
    "## Проведем исследовательский анализ данных"
   ]
  },
  {
   "cell_type": "code",
   "execution_count": 21,
   "metadata": {},
   "outputs": [
    {
     "data": {
      "image/png": "[encoded data removed]",
      "text/plain": [
       "<Figure size 432x288 with 1 Axes>"
      ]
     },
     "metadata": {
      "needs_background": "light"
     },
     "output_type": "display_data"
    }
   ],
   "source": [
    "# Посмотрим, сколько игр выпускалось в разные годы.\n",
    "games['year_of_release'].plot(kind = 'hist',bins = 50)\n",
    "plt.title('Распределение по годам выпуска')\n",
    "plt.show()"
   ]
  },
  {
   "cell_type": "markdown",
   "metadata": {},
   "source": [
    "Игры начали выпускаться с 1980 года. До 1995 сфера особо не развивалась, поэтому данные до этого года не важны для анализа."
   ]
  },
  {
   "cell_type": "code",
   "execution_count": 22,
   "metadata": {},
   "outputs": [
    {
     "data": {
      "text/html": [
       "<div>\n",
       "<style scoped>\n",
       "    .dataframe tbody tr th:only-of-type {\n",
       "        vertical-align: middle;\n",
       "    }\n",
       "\n",
       "    .dataframe tbody tr th {\n",
       "        vertical-align: top;\n",
       "    }\n",
       "\n",
       "    .dataframe thead tr th {\n",
       "        text-align: left;\n",
       "    }\n",
       "\n",
       "    .dataframe thead tr:last-of-type th {\n",
       "        text-align: right;\n",
       "    }\n",
       "</style>\n",
       "<table border=\"1\" class=\"dataframe\">\n",
       "  <thead>\n",
       "    <tr>\n",
       "      <th></th>\n",
       "      <th>sum</th>\n",
       "    </tr>\n",
       "    <tr>\n",
       "      <th></th>\n",
       "      <th>total_sales</th>\n",
       "    </tr>\n",
       "    <tr>\n",
       "      <th>platform</th>\n",
       "      <th></th>\n",
       "    </tr>\n",
       "  </thead>\n",
       "  <tbody>\n",
       "    <tr>\n",
       "      <th>PS2</th>\n",
       "      <td>1233.56</td>\n",
       "    </tr>\n",
       "    <tr>\n",
       "      <th>X360</th>\n",
       "      <td>961.24</td>\n",
       "    </tr>\n",
       "    <tr>\n",
       "      <th>PS3</th>\n",
       "      <td>931.34</td>\n",
       "    </tr>\n",
       "    <tr>\n",
       "      <th>Wii</th>\n",
       "      <td>891.18</td>\n",
       "    </tr>\n",
       "    <tr>\n",
       "      <th>DS</th>\n",
       "      <td>802.78</td>\n",
       "    </tr>\n",
       "    <tr>\n",
       "      <th>PS</th>\n",
       "      <td>727.58</td>\n",
       "    </tr>\n",
       "    <tr>\n",
       "      <th>PS4</th>\n",
       "      <td>314.14</td>\n",
       "    </tr>\n",
       "    <tr>\n",
       "      <th>GBA</th>\n",
       "      <td>312.88</td>\n",
       "    </tr>\n",
       "    <tr>\n",
       "      <th>PSP</th>\n",
       "      <td>289.53</td>\n",
       "    </tr>\n",
       "    <tr>\n",
       "      <th>3DS</th>\n",
       "      <td>257.81</td>\n",
       "    </tr>\n",
       "    <tr>\n",
       "      <th>PC</th>\n",
       "      <td>255.76</td>\n",
       "    </tr>\n",
       "    <tr>\n",
       "      <th>GB</th>\n",
       "      <td>254.43</td>\n",
       "    </tr>\n",
       "    <tr>\n",
       "      <th>XB</th>\n",
       "      <td>251.57</td>\n",
       "    </tr>\n",
       "    <tr>\n",
       "      <th>NES</th>\n",
       "      <td>251.05</td>\n",
       "    </tr>\n",
       "    <tr>\n",
       "      <th>N64</th>\n",
       "      <td>218.01</td>\n",
       "    </tr>\n",
       "    <tr>\n",
       "      <th>SNES</th>\n",
       "      <td>200.04</td>\n",
       "    </tr>\n",
       "    <tr>\n",
       "      <th>GC</th>\n",
       "      <td>196.73</td>\n",
       "    </tr>\n",
       "    <tr>\n",
       "      <th>XOne</th>\n",
       "      <td>159.32</td>\n",
       "    </tr>\n",
       "    <tr>\n",
       "      <th>2600</th>\n",
       "      <td>86.48</td>\n",
       "    </tr>\n",
       "    <tr>\n",
       "      <th>WiiU</th>\n",
       "      <td>82.19</td>\n",
       "    </tr>\n",
       "    <tr>\n",
       "      <th>PSV</th>\n",
       "      <td>53.81</td>\n",
       "    </tr>\n",
       "    <tr>\n",
       "      <th>SAT</th>\n",
       "      <td>33.59</td>\n",
       "    </tr>\n",
       "    <tr>\n",
       "      <th>GEN</th>\n",
       "      <td>28.35</td>\n",
       "    </tr>\n",
       "    <tr>\n",
       "      <th>DC</th>\n",
       "      <td>15.95</td>\n",
       "    </tr>\n",
       "    <tr>\n",
       "      <th>SCD</th>\n",
       "      <td>1.86</td>\n",
       "    </tr>\n",
       "    <tr>\n",
       "      <th>NG</th>\n",
       "      <td>1.44</td>\n",
       "    </tr>\n",
       "    <tr>\n",
       "      <th>WS</th>\n",
       "      <td>1.42</td>\n",
       "    </tr>\n",
       "    <tr>\n",
       "      <th>TG16</th>\n",
       "      <td>0.16</td>\n",
       "    </tr>\n",
       "    <tr>\n",
       "      <th>3DO</th>\n",
       "      <td>0.10</td>\n",
       "    </tr>\n",
       "    <tr>\n",
       "      <th>GG</th>\n",
       "      <td>0.04</td>\n",
       "    </tr>\n",
       "    <tr>\n",
       "      <th>PCFX</th>\n",
       "      <td>0.03</td>\n",
       "    </tr>\n",
       "  </tbody>\n",
       "</table>\n",
       "</div>"
      ],
      "text/plain": [
       "                 sum\n",
       "         total_sales\n",
       "platform            \n",
       "PS2          1233.56\n",
       "X360          961.24\n",
       "PS3           931.34\n",
       "Wii           891.18\n",
       "DS            802.78\n",
       "PS            727.58\n",
       "PS4           314.14\n",
       "GBA           312.88\n",
       "PSP           289.53\n",
       "3DS           257.81\n",
       "PC            255.76\n",
       "GB            254.43\n",
       "XB            251.57\n",
       "NES           251.05\n",
       "N64           218.01\n",
       "SNES          200.04\n",
       "GC            196.73\n",
       "XOne          159.32\n",
       "2600           86.48\n",
       "WiiU           82.19\n",
       "PSV            53.81\n",
       "SAT            33.59\n",
       "GEN            28.35\n",
       "DC             15.95\n",
       "SCD             1.86\n",
       "NG              1.44\n",
       "WS              1.42\n",
       "TG16            0.16\n",
       "3DO             0.10\n",
       "GG              0.04\n",
       "PCFX            0.03"
      ]
     },
     "metadata": {},
     "output_type": "display_data"
    }
   ],
   "source": [
    "# Посмотрим, как менялись продажи по платформам. Выберем платформы с наибольшими суммарными продажами и построим распределение \n",
    "# по годам. \n",
    "# За какой характерный срок появляются новые и исчезают старые платформы?\n",
    "#построим сводную таблицу \n",
    "sales_by_platform =games.pivot_table(\n",
    "                                 index = ['platform'], \n",
    "                                 values = ['total_sales'],\n",
    "                                 aggfunc =  ['sum']).sort_values(('sum', 'total_sales'),ascending = False)\n",
    "display(sales_by_platform)"
   ]
  },
  {
   "cell_type": "markdown",
   "metadata": {},
   "source": [
    "Платформы с наибольшими суммарными продажами: PS2, X360, PS3, Wii, DS, PS."
   ]
  },
  {
   "cell_type": "code",
   "execution_count": 23,
   "metadata": {},
   "outputs": [
    {
     "data": {
      "image/png": "[encoded data removed]",
      "text/plain": [
       "<Figure size 720x720 with 1 Axes>"
      ]
     },
     "metadata": {
      "needs_background": "light"
     },
     "output_type": "display_data"
    }
   ],
   "source": [
    "# Построим распределение по годам.\n",
    "top_sales_platform_df = games.query('platform == [\"PS2\",\"X360\",\"PS3\",\"Wii\",\"DS\",\"PS\"]')\n",
    "top_platforms_by_years =top_sales_platform_df.pivot_table(\n",
    "                                 index = ['year_of_release'], \n",
    "                                 columns = ['platform'],\n",
    "                                 values = ['total_sales'],\n",
    "                                 aggfunc =  ['sum'])\n",
    "top_platforms_by_years.plot(figsize = (10,10), legend=True, xlabel=\"Год выпуска\", ylabel=\"Число продаж\")\n",
    "plt.legend([\"DS\", \"PS\", \"PS2\", \"PS3\", \"Wii\", \"X360\"]);\n",
    "plt.title('Распределение по годам выпуска')\n",
    "plt.show()"
   ]
  },
  {
   "cell_type": "markdown",
   "metadata": {},
   "source": [
    "Срок появления новых и исчезания старых платформ - примерно 10 лет."
   ]
  },
  {
   "cell_type": "markdown",
   "metadata": {},
   "source": [
    "По графику доходные платформы теряют продажи к 2015 году. Актуальным периодом можно считать - 8 лет. "
   ]
  },
  {
   "cell_type": "code",
   "execution_count": 24,
   "metadata": {},
   "outputs": [
    {
     "data": {
      "text/html": [
       "<div>\n",
       "<style scoped>\n",
       "    .dataframe tbody tr th:only-of-type {\n",
       "        vertical-align: middle;\n",
       "    }\n",
       "\n",
       "    .dataframe tbody tr th {\n",
       "        vertical-align: top;\n",
       "    }\n",
       "\n",
       "    .dataframe thead th {\n",
       "        text-align: right;\n",
       "    }\n",
       "</style>\n",
       "<table border=\"1\" class=\"dataframe\">\n",
       "  <thead>\n",
       "    <tr style=\"text-align: right;\">\n",
       "      <th></th>\n",
       "      <th>name</th>\n",
       "      <th>platform</th>\n",
       "      <th>year_of_release</th>\n",
       "      <th>genre</th>\n",
       "      <th>na_sales</th>\n",
       "      <th>eu_sales</th>\n",
       "      <th>jp_sales</th>\n",
       "      <th>other_sales</th>\n",
       "      <th>critic_score</th>\n",
       "      <th>user_score</th>\n",
       "      <th>rating</th>\n",
       "      <th>total_sales</th>\n",
       "    </tr>\n",
       "  </thead>\n",
       "  <tbody>\n",
       "    <tr>\n",
       "      <th>16</th>\n",
       "      <td>Grand Theft Auto V</td>\n",
       "      <td>PS3</td>\n",
       "      <td>2013</td>\n",
       "      <td>Action</td>\n",
       "      <td>7.02</td>\n",
       "      <td>9.09</td>\n",
       "      <td>0.98</td>\n",
       "      <td>3.96</td>\n",
       "      <td>97.0</td>\n",
       "      <td>8.2</td>\n",
       "      <td>M</td>\n",
       "      <td>21.05</td>\n",
       "    </tr>\n",
       "    <tr>\n",
       "      <th>23</th>\n",
       "      <td>Grand Theft Auto V</td>\n",
       "      <td>X360</td>\n",
       "      <td>2013</td>\n",
       "      <td>Action</td>\n",
       "      <td>9.66</td>\n",
       "      <td>5.14</td>\n",
       "      <td>0.06</td>\n",
       "      <td>1.41</td>\n",
       "      <td>97.0</td>\n",
       "      <td>8.1</td>\n",
       "      <td>M</td>\n",
       "      <td>16.27</td>\n",
       "    </tr>\n",
       "    <tr>\n",
       "      <th>31</th>\n",
       "      <td>Call of Duty: Black Ops 3</td>\n",
       "      <td>PS4</td>\n",
       "      <td>2015</td>\n",
       "      <td>Shooter</td>\n",
       "      <td>6.03</td>\n",
       "      <td>5.86</td>\n",
       "      <td>0.36</td>\n",
       "      <td>2.38</td>\n",
       "      <td>NaN</td>\n",
       "      <td>NaN</td>\n",
       "      <td>no_rating</td>\n",
       "      <td>14.63</td>\n",
       "    </tr>\n",
       "    <tr>\n",
       "      <th>33</th>\n",
       "      <td>Pokemon X/Pokemon Y</td>\n",
       "      <td>3DS</td>\n",
       "      <td>2013</td>\n",
       "      <td>Role-Playing</td>\n",
       "      <td>5.28</td>\n",
       "      <td>4.19</td>\n",
       "      <td>4.35</td>\n",
       "      <td>0.78</td>\n",
       "      <td>NaN</td>\n",
       "      <td>NaN</td>\n",
       "      <td>no_rating</td>\n",
       "      <td>14.60</td>\n",
       "    </tr>\n",
       "    <tr>\n",
       "      <th>42</th>\n",
       "      <td>Grand Theft Auto V</td>\n",
       "      <td>PS4</td>\n",
       "      <td>2014</td>\n",
       "      <td>Action</td>\n",
       "      <td>3.96</td>\n",
       "      <td>6.31</td>\n",
       "      <td>0.38</td>\n",
       "      <td>1.97</td>\n",
       "      <td>97.0</td>\n",
       "      <td>8.3</td>\n",
       "      <td>M</td>\n",
       "      <td>12.62</td>\n",
       "    </tr>\n",
       "    <tr>\n",
       "      <th>...</th>\n",
       "      <td>...</td>\n",
       "      <td>...</td>\n",
       "      <td>...</td>\n",
       "      <td>...</td>\n",
       "      <td>...</td>\n",
       "      <td>...</td>\n",
       "      <td>...</td>\n",
       "      <td>...</td>\n",
       "      <td>...</td>\n",
       "      <td>...</td>\n",
       "      <td>...</td>\n",
       "      <td>...</td>\n",
       "    </tr>\n",
       "    <tr>\n",
       "      <th>16703</th>\n",
       "      <td>Strawberry Nauts</td>\n",
       "      <td>PSV</td>\n",
       "      <td>2016</td>\n",
       "      <td>Adventure</td>\n",
       "      <td>0.00</td>\n",
       "      <td>0.00</td>\n",
       "      <td>0.01</td>\n",
       "      <td>0.00</td>\n",
       "      <td>NaN</td>\n",
       "      <td>NaN</td>\n",
       "      <td>no_rating</td>\n",
       "      <td>0.01</td>\n",
       "    </tr>\n",
       "    <tr>\n",
       "      <th>16707</th>\n",
       "      <td>Aiyoku no Eustia</td>\n",
       "      <td>PSV</td>\n",
       "      <td>2014</td>\n",
       "      <td>Misc</td>\n",
       "      <td>0.00</td>\n",
       "      <td>0.00</td>\n",
       "      <td>0.01</td>\n",
       "      <td>0.00</td>\n",
       "      <td>NaN</td>\n",
       "      <td>NaN</td>\n",
       "      <td>no_rating</td>\n",
       "      <td>0.01</td>\n",
       "    </tr>\n",
       "    <tr>\n",
       "      <th>16710</th>\n",
       "      <td>Samurai Warriors: Sanada Maru</td>\n",
       "      <td>PS3</td>\n",
       "      <td>2016</td>\n",
       "      <td>Action</td>\n",
       "      <td>0.00</td>\n",
       "      <td>0.00</td>\n",
       "      <td>0.01</td>\n",
       "      <td>0.00</td>\n",
       "      <td>NaN</td>\n",
       "      <td>NaN</td>\n",
       "      <td>no_rating</td>\n",
       "      <td>0.01</td>\n",
       "    </tr>\n",
       "    <tr>\n",
       "      <th>16712</th>\n",
       "      <td>Haitaka no Psychedelica</td>\n",
       "      <td>PSV</td>\n",
       "      <td>2016</td>\n",
       "      <td>Adventure</td>\n",
       "      <td>0.00</td>\n",
       "      <td>0.00</td>\n",
       "      <td>0.01</td>\n",
       "      <td>0.00</td>\n",
       "      <td>NaN</td>\n",
       "      <td>NaN</td>\n",
       "      <td>no_rating</td>\n",
       "      <td>0.01</td>\n",
       "    </tr>\n",
       "    <tr>\n",
       "      <th>16714</th>\n",
       "      <td>Winning Post 8 2016</td>\n",
       "      <td>PSV</td>\n",
       "      <td>2016</td>\n",
       "      <td>Simulation</td>\n",
       "      <td>0.00</td>\n",
       "      <td>0.00</td>\n",
       "      <td>0.01</td>\n",
       "      <td>0.00</td>\n",
       "      <td>NaN</td>\n",
       "      <td>NaN</td>\n",
       "      <td>no_rating</td>\n",
       "      <td>0.01</td>\n",
       "    </tr>\n",
       "  </tbody>\n",
       "</table>\n",
       "<p>2233 rows × 12 columns</p>\n",
       "</div>"
      ],
      "text/plain": [
       "                                name platform  year_of_release         genre  \\\n",
       "16                Grand Theft Auto V      PS3             2013        Action   \n",
       "23                Grand Theft Auto V     X360             2013        Action   \n",
       "31         Call of Duty: Black Ops 3      PS4             2015       Shooter   \n",
       "33               Pokemon X/Pokemon Y      3DS             2013  Role-Playing   \n",
       "42                Grand Theft Auto V      PS4             2014        Action   \n",
       "...                              ...      ...              ...           ...   \n",
       "16703               Strawberry Nauts      PSV             2016     Adventure   \n",
       "16707               Aiyoku no Eustia      PSV             2014          Misc   \n",
       "16710  Samurai Warriors: Sanada Maru      PS3             2016        Action   \n",
       "16712        Haitaka no Psychedelica      PSV             2016     Adventure   \n",
       "16714            Winning Post 8 2016      PSV             2016    Simulation   \n",
       "\n",
       "       na_sales  eu_sales  jp_sales  other_sales  critic_score  user_score  \\\n",
       "16         7.02      9.09      0.98         3.96          97.0         8.2   \n",
       "23         9.66      5.14      0.06         1.41          97.0         8.1   \n",
       "31         6.03      5.86      0.36         2.38           NaN         NaN   \n",
       "33         5.28      4.19      4.35         0.78           NaN         NaN   \n",
       "42         3.96      6.31      0.38         1.97          97.0         8.3   \n",
       "...         ...       ...       ...          ...           ...         ...   \n",
       "16703      0.00      0.00      0.01         0.00           NaN         NaN   \n",
       "16707      0.00      0.00      0.01         0.00           NaN         NaN   \n",
       "16710      0.00      0.00      0.01         0.00           NaN         NaN   \n",
       "16712      0.00      0.00      0.01         0.00           NaN         NaN   \n",
       "16714      0.00      0.00      0.01         0.00           NaN         NaN   \n",
       "\n",
       "          rating  total_sales  \n",
       "16             M        21.05  \n",
       "23             M        16.27  \n",
       "31     no_rating        14.63  \n",
       "33     no_rating        14.60  \n",
       "42             M        12.62  \n",
       "...          ...          ...  \n",
       "16703  no_rating         0.01  \n",
       "16707  no_rating         0.01  \n",
       "16710  no_rating         0.01  \n",
       "16712  no_rating         0.01  \n",
       "16714  no_rating         0.01  \n",
       "\n",
       "[2233 rows x 12 columns]"
      ]
     },
     "metadata": {},
     "output_type": "display_data"
    }
   ],
   "source": [
    "# Возьмем данные за соответствующий актуальный период.\n",
    "actual_games = games.query('year_of_release > 2012')\n",
    "display(actual_games)"
   ]
  },
  {
   "cell_type": "code",
   "execution_count": 25,
   "metadata": {},
   "outputs": [
    {
     "data": {
      "text/plain": [
       "array(['PS3', 'X360', 'PS4', '3DS', 'XOne', 'WiiU', 'Wii', 'PC', 'PSV',\n",
       "       'DS', 'PSP'], dtype=object)"
      ]
     },
     "execution_count": 25,
     "metadata": {},
     "output_type": "execute_result"
    }
   ],
   "source": [
    "# Какие платформы лидируют по продажам, растут или падают? Выберем несколько потенциально прибыльных платформ.\n",
    "actual_games['platform'].unique()"
   ]
  },
  {
   "cell_type": "code",
   "execution_count": 26,
   "metadata": {},
   "outputs": [
    {
     "data": {
      "text/html": [
       "<div>\n",
       "<style scoped>\n",
       "    .dataframe tbody tr th:only-of-type {\n",
       "        vertical-align: middle;\n",
       "    }\n",
       "\n",
       "    .dataframe tbody tr th {\n",
       "        vertical-align: top;\n",
       "    }\n",
       "\n",
       "    .dataframe thead tr th {\n",
       "        text-align: left;\n",
       "    }\n",
       "\n",
       "    .dataframe thead tr:last-of-type th {\n",
       "        text-align: right;\n",
       "    }\n",
       "</style>\n",
       "<table border=\"1\" class=\"dataframe\">\n",
       "  <thead>\n",
       "    <tr>\n",
       "      <th></th>\n",
       "      <th>sum</th>\n",
       "    </tr>\n",
       "    <tr>\n",
       "      <th></th>\n",
       "      <th>total_sales</th>\n",
       "    </tr>\n",
       "    <tr>\n",
       "      <th>platform</th>\n",
       "      <th></th>\n",
       "    </tr>\n",
       "  </thead>\n",
       "  <tbody>\n",
       "    <tr>\n",
       "      <th>PS4</th>\n",
       "      <td>314.14</td>\n",
       "    </tr>\n",
       "    <tr>\n",
       "      <th>PS3</th>\n",
       "      <td>181.43</td>\n",
       "    </tr>\n",
       "    <tr>\n",
       "      <th>XOne</th>\n",
       "      <td>159.32</td>\n",
       "    </tr>\n",
       "    <tr>\n",
       "      <th>3DS</th>\n",
       "      <td>143.25</td>\n",
       "    </tr>\n",
       "    <tr>\n",
       "      <th>X360</th>\n",
       "      <td>136.80</td>\n",
       "    </tr>\n",
       "    <tr>\n",
       "      <th>WiiU</th>\n",
       "      <td>64.63</td>\n",
       "    </tr>\n",
       "    <tr>\n",
       "      <th>PC</th>\n",
       "      <td>39.43</td>\n",
       "    </tr>\n",
       "    <tr>\n",
       "      <th>PSV</th>\n",
       "      <td>32.99</td>\n",
       "    </tr>\n",
       "    <tr>\n",
       "      <th>Wii</th>\n",
       "      <td>13.66</td>\n",
       "    </tr>\n",
       "    <tr>\n",
       "      <th>PSP</th>\n",
       "      <td>3.50</td>\n",
       "    </tr>\n",
       "    <tr>\n",
       "      <th>DS</th>\n",
       "      <td>1.54</td>\n",
       "    </tr>\n",
       "  </tbody>\n",
       "</table>\n",
       "</div>"
      ],
      "text/plain": [
       "                 sum\n",
       "         total_sales\n",
       "platform            \n",
       "PS4           314.14\n",
       "PS3           181.43\n",
       "XOne          159.32\n",
       "3DS           143.25\n",
       "X360          136.80\n",
       "WiiU           64.63\n",
       "PC             39.43\n",
       "PSV            32.99\n",
       "Wii            13.66\n",
       "PSP             3.50\n",
       "DS              1.54"
      ]
     },
     "execution_count": 26,
     "metadata": {},
     "output_type": "execute_result"
    }
   ],
   "source": [
    "# Оценим продажи по этим платформам\n",
    "sales_by_actual_platforms =actual_games.pivot_table(\n",
    "                                 index = ['platform'], \n",
    "                                 values = ['total_sales'],\n",
    "                                 aggfunc =  ['sum'])\n",
    "sales_by_actual_platforms.sort_values(('sum', 'total_sales'),ascending = False)"
   ]
  },
  {
   "cell_type": "code",
   "execution_count": 27,
   "metadata": {},
   "outputs": [
    {
     "data": {
      "image/png": "[encoded data removed]",
      "text/plain": [
       "<Figure size 864x720 with 1 Axes>"
      ]
     },
     "metadata": {
      "needs_background": "light"
     },
     "output_type": "display_data"
    }
   ],
   "source": [
    "top_platforms_actual_df =actual_games.pivot_table(\n",
    "                                 index = ['year_of_release'], \\\n",
    "                                 columns = ['platform'],\n",
    "                                 values = ['total_sales'],\n",
    "                                 aggfunc =  ['sum'])\n",
    "top_platforms_actual_df.plot(figsize = (12,10), xlabel=\"Год выпуска\", ylabel=\"Число продаж\")\n",
    "plt.legend([\"3DS\", \"DS\", \"PC\", \"PS3\", \"PS4\", \"PSP\", \"PSV\", \"Wii\", \"WiiU\", \"X360\", \"XOne\"]);\n",
    "plt.title('Распределение по годам выпуска')\n",
    "plt.show()"
   ]
  },
  {
   "cell_type": "markdown",
   "metadata": {},
   "source": [
    "Большинство платформ теряют продажи к 2016 году. Прибыльными можно считать PS4 и XOne."
   ]
  },
  {
   "cell_type": "code",
   "execution_count": 28,
   "metadata": {},
   "outputs": [
    {
     "data": {
      "image/png": "[encoded data removed]",
      "text/plain": [
       "<Figure size 720x720 with 1 Axes>"
      ]
     },
     "metadata": {
      "needs_background": "light"
     },
     "output_type": "display_data"
    }
   ],
   "source": [
    "# Построим график «ящик с усами» по глобальным продажам игр в разбивке по платформам. Опишем результат.\n",
    "actual_games.boxplot(column=['total_sales'], \n",
    "                     by=['platform'],figsize=(10, 10))\n",
    "plt.ylim([0, 5])\n",
    "plt.title('«Ящик с усами» по глобальным продажам игр в разбивке по платформам')\n",
    "plt.show()"
   ]
  },
  {
   "cell_type": "markdown",
   "metadata": {},
   "source": [
    "- Медианы продаж XOne и PS4 находятся примерно на одном уровне. \n",
    "- Сразу бросается в глаза **PS4**, **XOne**, **PS3**, **3DS**. Но учитывая предыдущий график, игры для платформ **3DS** и **PS3** теряют популярность.\n",
    "**Вывод:** Самые продаваемые игры - игры для PS4 и XOne"
   ]
  },
  {
   "cell_type": "code",
   "execution_count": 29,
   "metadata": {},
   "outputs": [],
   "source": [
    "# Посмотрим, как влияют на продажи внутри одной популярной платформы отзывы пользователей и критиков. \n",
    "# Построим диаграмму рассеяния и посчитайте корреляцию между отзывами и продажами."
   ]
  },
  {
   "cell_type": "code",
   "execution_count": 30,
   "metadata": {},
   "outputs": [
    {
     "data": {
      "image/png": "[encoded data removed]",
      "text/plain": [
       "<Figure size 432x288 with 1 Axes>"
      ]
     },
     "metadata": {
      "needs_background": "light"
     },
     "output_type": "display_data"
    }
   ],
   "source": [
    "# Посмотрим, как влияют на продажи внутри платформы PS3 отзывы пользователей. \n",
    "ps3_df = actual_games.query('platform == \"PS3\"').sort_values('user_score', ascending = False)\n",
    "ps3_user_score = sns.scatterplot(data=ps3_df, x='user_score',y='total_sales').set(title=\"Влияние отзывов пользователей на продажи внутри платформы PS3\")"
   ]
  },
  {
   "cell_type": "code",
   "execution_count": 31,
   "metadata": {},
   "outputs": [
    {
     "data": {
      "text/plain": [
       "0.0023944027357566773"
      ]
     },
     "execution_count": 31,
     "metadata": {},
     "output_type": "execute_result"
    }
   ],
   "source": [
    "# Коэффициент корреляции \n",
    "ps3_df['user_score'].corr(ps3_df['total_sales'])"
   ]
  },
  {
   "cell_type": "code",
   "execution_count": 32,
   "metadata": {},
   "outputs": [
    {
     "data": {
      "image/png": "[encoded data removed]",
      "text/plain": [
       "<Figure size 432x288 with 1 Axes>"
      ]
     },
     "metadata": {
      "needs_background": "light"
     },
     "output_type": "display_data"
    }
   ],
   "source": [
    "# Посмотрим, как влияют на продажи внутри платформы PS4 отзывы пользователей. \n",
    "ps4_df = actual_games.query('platform == \"PS4\"').sort_values('user_score', ascending = False)\n",
    "ps4_user_score = sns.scatterplot(data=ps4_df, x='user_score',y='total_sales').set(\n",
    "    title=\"Влияние отзывов пользователей на продажи внутри платформы PS4\")"
   ]
  },
  {
   "cell_type": "code",
   "execution_count": 33,
   "metadata": {},
   "outputs": [
    {
     "data": {
      "text/plain": [
       "-0.031957110204556424"
      ]
     },
     "execution_count": 33,
     "metadata": {},
     "output_type": "execute_result"
    }
   ],
   "source": [
    "# Коэффициент корреляции \n",
    "ps4_df['user_score'].corr(ps4_df['total_sales'])"
   ]
  },
  {
   "cell_type": "code",
   "execution_count": 34,
   "metadata": {},
   "outputs": [
    {
     "data": {
      "image/png": "[encoded data removed]",
      "text/plain": [
       "<Figure size 432x288 with 1 Axes>"
      ]
     },
     "metadata": {
      "needs_background": "light"
     },
     "output_type": "display_data"
    }
   ],
   "source": [
    "# Посмотрим, как влияют на продажи внутри платформы XOne отзывы пользователей. \n",
    "xone_df = actual_games.query('platform == \"XOne\"').sort_values('user_score', ascending = False)\n",
    "xone_user_score = sns.scatterplot(data=xone_df, x='user_score',y='total_sales').set(\n",
    "    title=\"Влияние отзывов пользователей на продажи внутри платформы XOne\")"
   ]
  },
  {
   "cell_type": "code",
   "execution_count": 35,
   "metadata": {},
   "outputs": [
    {
     "data": {
      "text/plain": [
       "-0.06892505328279423"
      ]
     },
     "execution_count": 35,
     "metadata": {},
     "output_type": "execute_result"
    }
   ],
   "source": [
    "# Коэффициент корреляции \n",
    "xone_df['user_score'].corr(xone_df['total_sales'])"
   ]
  },
  {
   "cell_type": "code",
   "execution_count": 36,
   "metadata": {},
   "outputs": [
    {
     "data": {
      "image/png": "[encoded data removed]",
      "text/plain": [
       "<Figure size 432x288 with 1 Axes>"
      ]
     },
     "metadata": {
      "needs_background": "light"
     },
     "output_type": "display_data"
    }
   ],
   "source": [
    "# Посмотрим, как влияют на продажи внутри платформы X360 отзывы пользователей. \n",
    "x360_df = actual_games.query('platform == \"X360\"').sort_values('user_score', ascending = False)\n",
    "x360_user_score = sns.scatterplot(data=x360_df, x='user_score',y='total_sales').set(\n",
    "    title=\"Влияние отзывов пользователей на продажи внутри платформы X360\")"
   ]
  },
  {
   "cell_type": "code",
   "execution_count": 37,
   "metadata": {},
   "outputs": [
    {
     "data": {
      "text/plain": [
       "-0.011742185147181356"
      ]
     },
     "execution_count": 37,
     "metadata": {},
     "output_type": "execute_result"
    }
   ],
   "source": [
    "# Коэффициент корреляции \n",
    "x360_df['user_score'].corr(x360_df['total_sales'])"
   ]
  },
  {
   "cell_type": "code",
   "execution_count": 38,
   "metadata": {},
   "outputs": [
    {
     "data": {
      "image/png": "[encoded data removed]",
      "text/plain": [
       "<Figure size 432x288 with 1 Axes>"
      ]
     },
     "metadata": {
      "needs_background": "light"
     },
     "output_type": "display_data"
    }
   ],
   "source": [
    "# Посмотрим, как влияют на продажи внутри платформы 3DS отзывы пользователей. \n",
    "three_ds_df = actual_games.query('platform == \"3DS\"').sort_values('user_score', ascending = False)\n",
    "three_ds_user_score = sns.scatterplot(data=three_ds_df, x='user_score',y='total_sales').set(\n",
    "    title=\"Влияние отзывов пользователей на продажи внутри платформы 3DS\")"
   ]
  },
  {
   "cell_type": "code",
   "execution_count": 39,
   "metadata": {},
   "outputs": [
    {
     "data": {
      "text/plain": [
       "0.2415041177356301"
      ]
     },
     "execution_count": 39,
     "metadata": {},
     "output_type": "execute_result"
    }
   ],
   "source": [
    "# Коэффициент корреляции \n",
    "three_ds_df['user_score'].corr(three_ds_df['total_sales'])"
   ]
  },
  {
   "cell_type": "markdown",
   "metadata": {},
   "source": [
    "Оценки пользователей не влияют на продажи. Коэффициент корреляции примерно равен 0."
   ]
  },
  {
   "cell_type": "code",
   "execution_count": 40,
   "metadata": {},
   "outputs": [
    {
     "data": {
      "image/png": "[encoded data removed]",
      "text/plain": [
       "<Figure size 432x288 with 1 Axes>"
      ]
     },
     "metadata": {
      "needs_background": "light"
     },
     "output_type": "display_data"
    }
   ],
   "source": [
    "# Посмотрим, как влияют на продажи внутри платформы PS3 отзывы критиков. \n",
    "ps3_critic_score = sns.scatterplot(data=ps3_df, x ='critic_score', y='total_sales').set(\n",
    "    title=\"Влияние отзывов критиков на продажи внутри платформы PS3\")"
   ]
  },
  {
   "cell_type": "code",
   "execution_count": 41,
   "metadata": {},
   "outputs": [
    {
     "data": {
      "text/plain": [
       "0.33428533933719184"
      ]
     },
     "execution_count": 41,
     "metadata": {},
     "output_type": "execute_result"
    }
   ],
   "source": [
    "# Коэффициент корреляции \n",
    "ps3_df['critic_score'].corr(ps3_df['total_sales'])"
   ]
  },
  {
   "cell_type": "code",
   "execution_count": 42,
   "metadata": {},
   "outputs": [
    {
     "data": {
      "image/png": "[encoded data removed]",
      "text/plain": [
       "<Figure size 432x288 with 1 Axes>"
      ]
     },
     "metadata": {
      "needs_background": "light"
     },
     "output_type": "display_data"
    }
   ],
   "source": [
    "# Посмотрим, как влияют на продажи внутри платформы PS4 отзывы критиков. \n",
    "ps4_critic_score = sns.scatterplot(data=ps4_df, x ='critic_score', y='total_sales').set(\n",
    "    title=\"Влияние отзывов критиков на продажи внутри платформы PS4\")"
   ]
  },
  {
   "cell_type": "code",
   "execution_count": 43,
   "metadata": {},
   "outputs": [
    {
     "data": {
      "text/plain": [
       "0.40656790206178134"
      ]
     },
     "execution_count": 43,
     "metadata": {},
     "output_type": "execute_result"
    }
   ],
   "source": [
    "# Коэффициент корреляции \n",
    "ps4_df['critic_score'].corr(ps4_df['total_sales'])"
   ]
  },
  {
   "cell_type": "code",
   "execution_count": 44,
   "metadata": {},
   "outputs": [
    {
     "data": {
      "image/png": "[encoded data removed]",
      "text/plain": [
       "<Figure size 432x288 with 1 Axes>"
      ]
     },
     "metadata": {
      "needs_background": "light"
     },
     "output_type": "display_data"
    }
   ],
   "source": [
    "# Посмотрим, как влияют на продажи внутри платформы XOne отзывы критиков. \n",
    "xone_critic_score = sns.scatterplot(data=xone_df, x ='critic_score', y='total_sales').set(\n",
    "    title=\"Влияние отзывов критиков на продажи внутри платформы XOne\")"
   ]
  },
  {
   "cell_type": "code",
   "execution_count": 45,
   "metadata": {},
   "outputs": [
    {
     "data": {
      "text/plain": [
       "0.4169983280084016"
      ]
     },
     "execution_count": 45,
     "metadata": {},
     "output_type": "execute_result"
    }
   ],
   "source": [
    "# Коэффициент корреляции \n",
    "xone_df['critic_score'].corr(xone_df['total_sales'])"
   ]
  },
  {
   "cell_type": "code",
   "execution_count": 46,
   "metadata": {},
   "outputs": [
    {
     "data": {
      "image/png": "[encoded data removed]",
      "text/plain": [
       "<Figure size 432x288 with 1 Axes>"
      ]
     },
     "metadata": {
      "needs_background": "light"
     },
     "output_type": "display_data"
    }
   ],
   "source": [
    "# Посмотрим, как влияют на продажи внутри платформы X360 отзывы критиков. \n",
    "x360_critic_score = sns.scatterplot(data=x360_df, x ='critic_score', y='total_sales').set(\n",
    "    title=\"Влияние отзывов критиков на продажи внутри платформы X360\")"
   ]
  },
  {
   "cell_type": "code",
   "execution_count": 47,
   "metadata": {},
   "outputs": [
    {
     "data": {
      "text/plain": [
       "0.3503445460228664"
      ]
     },
     "execution_count": 47,
     "metadata": {},
     "output_type": "execute_result"
    }
   ],
   "source": [
    "# Коэффициент корреляции \n",
    "x360_df['critic_score'].corr(x360_df['total_sales'])"
   ]
  },
  {
   "cell_type": "code",
   "execution_count": 48,
   "metadata": {},
   "outputs": [
    {
     "data": {
      "image/png": "[encoded data removed]",
      "text/plain": [
       "<Figure size 432x288 with 1 Axes>"
      ]
     },
     "metadata": {
      "needs_background": "light"
     },
     "output_type": "display_data"
    }
   ],
   "source": [
    "# Посмотрим, как влияют на продажи внутри платформы 3DS отзывы критиков. \n",
    "three_ds_critic_score = sns.scatterplot(data=three_ds_df, x ='critic_score', y='total_sales').set(\n",
    "    title=\"Влияние отзывов критиков на продажи внутри платформы 3DS\")"
   ]
  },
  {
   "cell_type": "code",
   "execution_count": 49,
   "metadata": {},
   "outputs": [
    {
     "data": {
      "text/plain": [
       "0.35705661422881046"
      ]
     },
     "execution_count": 49,
     "metadata": {},
     "output_type": "execute_result"
    }
   ],
   "source": [
    "# Коэффициент корреляции \n",
    "three_ds_df['critic_score'].corr(three_ds_df['total_sales'])"
   ]
  },
  {
   "cell_type": "markdown",
   "metadata": {},
   "source": [
    "Корреляция больше, чем в случае с оценками пользователей, но ее недостаточно, чтобы говорить о прямой зависимости."
   ]
  },
  {
   "cell_type": "markdown",
   "metadata": {},
   "source": [
    "Оценки пользователей никак не влияют на продажи. \n",
    "Оценки критиков немного влияют на продажи, но говорить о прямой зависимости нельзя."
   ]
  },
  {
   "cell_type": "code",
   "execution_count": 50,
   "metadata": {},
   "outputs": [
    {
     "data": {
      "text/html": [
       "<div>\n",
       "<style scoped>\n",
       "    .dataframe tbody tr th:only-of-type {\n",
       "        vertical-align: middle;\n",
       "    }\n",
       "\n",
       "    .dataframe tbody tr th {\n",
       "        vertical-align: top;\n",
       "    }\n",
       "\n",
       "    .dataframe thead th {\n",
       "        text-align: right;\n",
       "    }\n",
       "</style>\n",
       "<table border=\"1\" class=\"dataframe\">\n",
       "  <thead>\n",
       "    <tr style=\"text-align: right;\">\n",
       "      <th></th>\n",
       "      <th>name</th>\n",
       "    </tr>\n",
       "    <tr>\n",
       "      <th>genre</th>\n",
       "      <th></th>\n",
       "    </tr>\n",
       "  </thead>\n",
       "  <tbody>\n",
       "    <tr>\n",
       "      <th>Action</th>\n",
       "      <td>766</td>\n",
       "    </tr>\n",
       "    <tr>\n",
       "      <th>Role-Playing</th>\n",
       "      <td>292</td>\n",
       "    </tr>\n",
       "    <tr>\n",
       "      <th>Adventure</th>\n",
       "      <td>245</td>\n",
       "    </tr>\n",
       "    <tr>\n",
       "      <th>Sports</th>\n",
       "      <td>214</td>\n",
       "    </tr>\n",
       "    <tr>\n",
       "      <th>Shooter</th>\n",
       "      <td>187</td>\n",
       "    </tr>\n",
       "    <tr>\n",
       "      <th>Misc</th>\n",
       "      <td>155</td>\n",
       "    </tr>\n",
       "    <tr>\n",
       "      <th>Racing</th>\n",
       "      <td>85</td>\n",
       "    </tr>\n",
       "    <tr>\n",
       "      <th>Fighting</th>\n",
       "      <td>80</td>\n",
       "    </tr>\n",
       "    <tr>\n",
       "      <th>Platform</th>\n",
       "      <td>74</td>\n",
       "    </tr>\n",
       "    <tr>\n",
       "      <th>Simulation</th>\n",
       "      <td>62</td>\n",
       "    </tr>\n",
       "    <tr>\n",
       "      <th>Strategy</th>\n",
       "      <td>56</td>\n",
       "    </tr>\n",
       "    <tr>\n",
       "      <th>Puzzle</th>\n",
       "      <td>17</td>\n",
       "    </tr>\n",
       "  </tbody>\n",
       "</table>\n",
       "</div>"
      ],
      "text/plain": [
       "              name\n",
       "genre             \n",
       "Action         766\n",
       "Role-Playing   292\n",
       "Adventure      245\n",
       "Sports         214\n",
       "Shooter        187\n",
       "Misc           155\n",
       "Racing          85\n",
       "Fighting        80\n",
       "Platform        74\n",
       "Simulation      62\n",
       "Strategy        56\n",
       "Puzzle          17"
      ]
     },
     "execution_count": 50,
     "metadata": {},
     "output_type": "execute_result"
    }
   ],
   "source": [
    "# Посмотрим на общее распределение игр по жанрам. \n",
    "# Что можно сказать о самых прибыльных жанрах? Выделяются ли жанры с высокими и низкими продажами?\n",
    "popular_genre = actual_games.groupby('genre').agg({'name':'count'})\n",
    "popular_genre.sort_values(by='name', ascending=False)"
   ]
  },
  {
   "cell_type": "code",
   "execution_count": 51,
   "metadata": {},
   "outputs": [
    {
     "data": {
      "image/png": "[encoded data removed]",
      "text/plain": [
       "<Figure size 720x720 with 1 Axes>"
      ]
     },
     "metadata": {
      "needs_background": "light"
     },
     "output_type": "display_data"
    }
   ],
   "source": [
    "actual_games.boxplot(column = ['total_sales'],by = ['genre'],figsize=(10, 10))\n",
    "plt.ylim([0, 5])\n",
    "plt.show()"
   ]
  },
  {
   "cell_type": "markdown",
   "metadata": {},
   "source": [
    "В жанре Action очень много выбросов. Из-за этого общая прибыль по этому жанру больше остальных.\n",
    "\n",
    "Медианное значение жанра Shooter выше. Значит, можно предположить, что этот жанр самый прибыльный.\n",
    "\n"
   ]
  },
  {
   "cell_type": "markdown",
   "metadata": {},
   "source": [
    "## Составим портрет пользователя каждого региона"
   ]
  },
  {
   "cell_type": "code",
   "execution_count": 52,
   "metadata": {},
   "outputs": [
    {
     "data": {
      "image/png": "[encoded data removed]",
      "text/plain": [
       "<Figure size 432x288 with 1 Axes>"
      ]
     },
     "metadata": {
      "needs_background": "light"
     },
     "output_type": "display_data"
    },
    {
     "data": {
      "image/png": "[encoded data removed]",
      "text/plain": [
       "<Figure size 432x288 with 1 Axes>"
      ]
     },
     "metadata": {
      "needs_background": "light"
     },
     "output_type": "display_data"
    },
    {
     "data": {
      "image/png": "[encoded data removed]",
      "text/plain": [
       "<Figure size 432x288 with 1 Axes>"
      ]
     },
     "metadata": {
      "needs_background": "light"
     },
     "output_type": "display_data"
    }
   ],
   "source": [
    "# Самые популярные платформы (топ-5)\n",
    "actual_games.groupby(by='platform').agg({'jp_sales':'sum'}).sort_values(by='jp_sales', ascending=False).head().plot(kind='bar', title=\"Топ-5 платформ в Японии\")\n",
    "actual_games.groupby(by='platform').agg({'eu_sales':'sum'}).sort_values(by='eu_sales', ascending=False).head().plot(kind='bar', title=\"Топ-5 платформ в Европе\")\n",
    "actual_games.groupby(by='platform').agg({'na_sales':'sum'}).sort_values(by='na_sales', ascending=False).head().plot(kind='bar', title=\"Топ-5 платформ в Северной Америке\")\n",
    "plt.show()"
   ]
  },
  {
   "cell_type": "markdown",
   "metadata": {},
   "source": [
    "- Для пользователей из Японии самые популярные платформы: 3DS, PS3, PSV, PS4, WiiU;\n",
    "- Для пользователей из Европы самые популярные платформы: PS4, PS3, XOne, X360, 3DS;\n",
    "- Для пользователей из Северной Америки самые популярные платформы: PS4, XOne, X360, PS3, 3DS;"
   ]
  },
  {
   "cell_type": "code",
   "execution_count": 53,
   "metadata": {},
   "outputs": [
    {
     "data": {
      "image/png": "[encoded data removed]",
      "text/plain": [
       "<Figure size 432x288 with 1 Axes>"
      ]
     },
     "metadata": {
      "needs_background": "light"
     },
     "output_type": "display_data"
    },
    {
     "data": {
      "image/png": "[encoded data removed]",
      "text/plain": [
       "<Figure size 432x288 with 1 Axes>"
      ]
     },
     "metadata": {
      "needs_background": "light"
     },
     "output_type": "display_data"
    },
    {
     "data": {
      "image/png": "[encoded data removed]",
      "text/plain": [
       "<Figure size 432x288 with 1 Axes>"
      ]
     },
     "metadata": {
      "needs_background": "light"
     },
     "output_type": "display_data"
    }
   ],
   "source": [
    "# Самые популярные жанры (топ-5)\n",
    "actual_games.groupby(by='genre').agg({'jp_sales':'sum'}).sort_values(by='jp_sales', ascending=False).head().plot(kind='bar', title=\"Топ-5 жанров в Японии\")\n",
    "actual_games.groupby(by='genre').agg({'eu_sales':'sum'}).sort_values(by='eu_sales', ascending=False).head().plot(kind='bar', title=\"Топ-5 жанров в Европе\")\n",
    "actual_games.groupby(by='genre').agg({'na_sales':'sum'}).sort_values(by='na_sales', ascending=False).head().plot(kind='bar', title=\"Топ-5 жанров в Северной Америке\")\n",
    "plt.show()"
   ]
  },
  {
   "cell_type": "markdown",
   "metadata": {},
   "source": [
    "- Для пользователей из Японии самые популярные жанры: Role-Playing, Action, Misc, Fighting, Shooter;\n",
    "- Для пользователей из Европы самые популярные жанры: Action, Shooter, Sports, Racing, Role-Playing;\n",
    "- Для пользователей из Северной Америки самые популярные жанры: Action, Shooter, Sports, Misc, Role-Playing;\n",
    "\n",
    "Можно отметить, что топ-жанров для пользователей Европы и Северной Америки объединяют жанры Action, Shooter, Sports и Role-Playing"
   ]
  },
  {
   "cell_type": "code",
   "execution_count": 54,
   "metadata": {},
   "outputs": [
    {
     "data": {
      "image/png": "[encoded data removed]",
      "text/plain": [
       "<Figure size 432x288 with 1 Axes>"
      ]
     },
     "metadata": {
      "needs_background": "light"
     },
     "output_type": "display_data"
    },
    {
     "data": {
      "image/png": "[encoded data removed]",
      "text/plain": [
       "<Figure size 432x288 with 1 Axes>"
      ]
     },
     "metadata": {
      "needs_background": "light"
     },
     "output_type": "display_data"
    },
    {
     "data": {
      "image/png": "[encoded data removed]",
      "text/plain": [
       "<Figure size 432x288 with 1 Axes>"
      ]
     },
     "metadata": {
      "needs_background": "light"
     },
     "output_type": "display_data"
    }
   ],
   "source": [
    "# Влияет ли рейтинг ESRB на продажи в отдельном регионе?\n",
    "actual_games.groupby(by='rating').agg({'jp_sales':'sum'}).sort_values(by='jp_sales', ascending=False).head().plot(kind='bar', title=\"Рейтинг ESRB в Японии\")\n",
    "actual_games.groupby(by='rating').agg({'eu_sales':'sum'}).sort_values(by='eu_sales', ascending=False).head().plot(kind='bar', title=\"Рейтинг ESRB в Европе\")\n",
    "actual_games.groupby(by='rating').agg({'na_sales':'sum'}).sort_values(by='na_sales', ascending=False).head().plot(kind='bar', title=\"Рейтинг ESRB в Северной Америке\")\n",
    "plt.show()"
   ]
  },
  {
   "cell_type": "markdown",
   "metadata": {},
   "source": [
    "- В Северной Америке и Европе первую пятерку составляют игры рейтинга М, E, no_rating, E10+, T. \n",
    "- В Японии же с огромным преимуществом пользуются игры без рейтинга. Скорее всего в Японии свой рынок игр и они просто не оцениваются организацией ESRB."
   ]
  },
  {
   "cell_type": "markdown",
   "metadata": {},
   "source": [
    "## Проверим гипотезы"
   ]
  },
  {
   "cell_type": "code",
   "execution_count": 55,
   "metadata": {},
   "outputs": [],
   "source": [
    "# Проверим гипотезу: Средние пользовательские рейтинги платформ Xbox One и PC одинаковые;"
   ]
  },
  {
   "cell_type": "markdown",
   "metadata": {},
   "source": [
    "Сформулируем нулевую и альтернативную гипотезы:\n",
    "\n",
    "- Н0: Средний пользовательский рейтинг платформ Xbox One и PC одинаковый\n",
    "- H1: Средний пользовательский рейтинг платформ Xbox One и PC различается"
   ]
  },
  {
   "cell_type": "markdown",
   "metadata": {},
   "source": [
    "Будем использовать t-критерий Стьюдента, так как наши выборки независимы между собой."
   ]
  },
  {
   "cell_type": "code",
   "execution_count": 56,
   "metadata": {},
   "outputs": [],
   "source": [
    "alpha = .05\n",
    "xbox_one = actual_games[(actual_games['platform'] == 'XOne') & (actual_games['user_score'] > 0)]['user_score']\n",
    "pc = actual_games[(actual_games['platform'] == 'PC') & (actual_games['user_score'] > 0)]['user_score']"
   ]
  },
  {
   "cell_type": "code",
   "execution_count": 57,
   "metadata": {},
   "outputs": [
    {
     "name": "stdout",
     "output_type": "stream",
     "text": [
      "p-value: 0.14012658403611647\n",
      "Не получилось отвергнуть нулевую гипотезу\n"
     ]
    }
   ],
   "source": [
    "test = st.ttest_ind(xbox_one, pc)\n",
    "print('p-value:', test.pvalue)\n",
    "\n",
    "if (test.pvalue < alpha):\n",
    "    print(\"Отвергаем нулевую гипотезу\")\n",
    "else:\n",
    "    print(\"Не получилось отвергнуть нулевую гипотезу\")"
   ]
  },
  {
   "cell_type": "markdown",
   "metadata": {},
   "source": [
    "Не можем отвергнуть нулевую гипотезу. Это значит, что значимой разницы между пользовательским рейтингом двух платформ (Xbox One и PC) нет. "
   ]
  },
  {
   "cell_type": "code",
   "execution_count": 58,
   "metadata": {},
   "outputs": [],
   "source": [
    "# Проверим гипотезу: Средние пользовательские рейтинги жанров Action и Sports разные."
   ]
  },
  {
   "cell_type": "markdown",
   "metadata": {},
   "source": [
    "Сформулируем нулевую и альтернативную гипотезы:\n",
    "\n",
    "- Н0: Средние пользовательские рейтинги жанров Action и Sports равны\n",
    "- H1: Средние пользовательские рейтинги жанров Action и Sports различаются"
   ]
  },
  {
   "cell_type": "markdown",
   "metadata": {},
   "source": [
    "Здесь также используем  t-критерий Стьюдента."
   ]
  },
  {
   "cell_type": "code",
   "execution_count": 59,
   "metadata": {},
   "outputs": [],
   "source": [
    "action = actual_games[(actual_games['genre'] == 'Action') & (actual_games['user_score'] > 0)]['user_score']\n",
    "sport = actual_games[(actual_games['genre'] == 'Sports') & (actual_games['user_score'] > 0)]['user_score']"
   ]
  },
  {
   "cell_type": "code",
   "execution_count": 60,
   "metadata": {},
   "outputs": [
    {
     "name": "stdout",
     "output_type": "stream",
     "text": [
      "p-value: 1.0517832389140023e-27\n",
      "Отвергаем нулевую гипотезу\n"
     ]
    }
   ],
   "source": [
    "test = st.ttest_ind(action, sport)\n",
    "print('p-value:', test.pvalue)\n",
    "\n",
    "if (test.pvalue < alpha):\n",
    "    print(\"Отвергаем нулевую гипотезу\")\n",
    "else:\n",
    "    print(\"Не получилось отвергнуть нулевую гипотезу\")"
   ]
  },
  {
   "cell_type": "markdown",
   "metadata": {},
   "source": [
    "Отвергаем нулевую гипотезу, это значит, что пользовательские рейтинги жанров Action и Sports различаются."
   ]
  },
  {
   "cell_type": "markdown",
   "metadata": {},
   "source": [
    "# Общий вывод"
   ]
  },
  {
   "cell_type": "markdown",
   "metadata": {},
   "source": [
    "Успешность игры определяют следующие параметры:\n",
    "  - Регион\n",
    "  - Платформа, которая наиболее распространена в данном регионе\n",
    "  - Жанр\n",
    "  - Рейтинг критиков\n",
    "  \n",
    "**Игры, которые будут продаваться в Северной Америке лучше всего:**\n",
    "- ESRB: M, E, без рейтинга\n",
    "- Платформа: PS4, XOne, Xbox360, PS3, 3DS\n",
    "- Жанры: Action, Shooter, Sports, Role-Playing, Misc\n",
    "\n",
    "**Игры, которые будут продаваться в Европе лучше всего:**\n",
    "- ESRB: E, M, без рейтинга\n",
    "- Платформы:  PS4, PS3, XOne, X360, 3DS\n",
    "- Жанры: Action, Shooter, Sports, Role-Playing, Racing\n",
    "\n",
    "**Игры, которые будут продаваться в Японии лучше всего:**\n",
    "- ESRB: E, T, без рейтинга\n",
    "- Платформы: DS, 3DS, PS3, PSP, Wii\n",
    "- Жанры: Role-Playing, Action, Misc, Fighting, Shooter"
   ]
  }
 ],
 "metadata": {
  "ExecuteTimeLog": [
   {
    "duration": 1473,
    "start_time": "2024-01-29T10:02:55.131Z"
   },
   {
    "duration": 106,
    "start_time": "2024-01-29T10:03:35.123Z"
   },
   {
    "duration": 69,
    "start_time": "2024-01-29T10:03:44.456Z"
   },
   {
    "duration": 16,
    "start_time": "2024-01-29T10:05:32.447Z"
   },
   {
    "duration": 20,
    "start_time": "2024-01-29T10:07:18.081Z"
   },
   {
    "duration": 20,
    "start_time": "2024-01-29T10:08:22.935Z"
   },
   {
    "duration": 92,
    "start_time": "2024-01-29T10:12:51.327Z"
   },
   {
    "duration": 5,
    "start_time": "2024-01-29T10:14:08.091Z"
   },
   {
    "duration": 5,
    "start_time": "2024-01-29T10:14:23.551Z"
   },
   {
    "duration": 3,
    "start_time": "2024-01-29T10:14:34.771Z"
   },
   {
    "duration": 11,
    "start_time": "2024-01-29T10:15:52.799Z"
   },
   {
    "duration": 47,
    "start_time": "2024-01-29T10:16:55.016Z"
   },
   {
    "duration": 5,
    "start_time": "2024-01-29T10:36:01.682Z"
   },
   {
    "duration": 12,
    "start_time": "2024-01-29T10:36:14.536Z"
   },
   {
    "duration": 12,
    "start_time": "2024-01-29T10:37:29.675Z"
   },
   {
    "duration": 107,
    "start_time": "2024-01-29T10:48:38.779Z"
   },
   {
    "duration": 8,
    "start_time": "2024-01-29T10:48:39.157Z"
   },
   {
    "duration": 5,
    "start_time": "2024-01-29T10:48:49.174Z"
   },
   {
    "duration": 5,
    "start_time": "2024-01-29T10:48:49.629Z"
   },
   {
    "duration": 5,
    "start_time": "2024-01-29T10:48:50.079Z"
   },
   {
    "duration": 25,
    "start_time": "2024-01-29T10:48:59.172Z"
   },
   {
    "duration": 17,
    "start_time": "2024-01-29T10:49:03.305Z"
   },
   {
    "duration": 19,
    "start_time": "2024-01-29T10:49:28.368Z"
   },
   {
    "duration": 11,
    "start_time": "2024-01-29T10:52:55.810Z"
   },
   {
    "duration": 10,
    "start_time": "2024-01-29T10:53:03.103Z"
   },
   {
    "duration": 29,
    "start_time": "2024-01-29T10:53:38.507Z"
   },
   {
    "duration": 6,
    "start_time": "2024-01-29T10:54:25.896Z"
   },
   {
    "duration": 23,
    "start_time": "2024-01-29T10:54:35.301Z"
   },
   {
    "duration": 25,
    "start_time": "2024-01-29T10:55:05.357Z"
   },
   {
    "duration": 11,
    "start_time": "2024-01-29T11:00:04.476Z"
   },
   {
    "duration": 253,
    "start_time": "2024-01-29T11:00:11.024Z"
   },
   {
    "duration": 3,
    "start_time": "2024-01-29T11:04:00.675Z"
   },
   {
    "duration": 2,
    "start_time": "2024-01-29T11:04:03.189Z"
   },
   {
    "duration": 12,
    "start_time": "2024-01-29T11:04:46.056Z"
   },
   {
    "duration": 21,
    "start_time": "2024-01-29T11:04:54.863Z"
   },
   {
    "duration": 29,
    "start_time": "2024-01-29T11:05:05.483Z"
   },
   {
    "duration": 12,
    "start_time": "2024-01-29T11:05:27.968Z"
   },
   {
    "duration": 28,
    "start_time": "2024-01-29T11:05:41.307Z"
   },
   {
    "duration": 23,
    "start_time": "2024-01-29T11:06:01.345Z"
   },
   {
    "duration": 19,
    "start_time": "2024-01-29T11:06:07.152Z"
   },
   {
    "duration": 431,
    "start_time": "2024-01-29T11:08:51.227Z"
   },
   {
    "duration": 345,
    "start_time": "2024-01-29T11:09:12.239Z"
   },
   {
    "duration": 406,
    "start_time": "2024-01-29T11:09:18.490Z"
   },
   {
    "duration": 270,
    "start_time": "2024-01-29T11:09:33.109Z"
   },
   {
    "duration": 28,
    "start_time": "2024-01-29T11:22:45.490Z"
   },
   {
    "duration": 2,
    "start_time": "2024-01-29T11:23:58.887Z"
   },
   {
    "duration": 5,
    "start_time": "2024-01-29T11:24:17.453Z"
   },
   {
    "duration": 17,
    "start_time": "2024-01-29T11:26:06.203Z"
   },
   {
    "duration": 371,
    "start_time": "2024-01-29T11:27:03.533Z"
   },
   {
    "duration": 484,
    "start_time": "2024-01-29T11:27:09.235Z"
   },
   {
    "duration": 392,
    "start_time": "2024-01-29T11:27:15.231Z"
   },
   {
    "duration": 388,
    "start_time": "2024-01-29T11:27:22.155Z"
   },
   {
    "duration": 398,
    "start_time": "2024-01-29T11:27:37.116Z"
   },
   {
    "duration": 395,
    "start_time": "2024-01-29T11:30:35.431Z"
   },
   {
    "duration": 386,
    "start_time": "2024-01-29T11:30:47.030Z"
   },
   {
    "duration": 356,
    "start_time": "2024-01-29T11:30:53.639Z"
   },
   {
    "duration": 464,
    "start_time": "2024-01-29T11:31:00.687Z"
   },
   {
    "duration": 449,
    "start_time": "2024-01-29T11:31:09.739Z"
   },
   {
    "duration": 8,
    "start_time": "2024-01-29T11:41:57.514Z"
   },
   {
    "duration": 8,
    "start_time": "2024-01-29T11:42:06.746Z"
   },
   {
    "duration": 193,
    "start_time": "2024-01-29T11:43:17.388Z"
   },
   {
    "duration": 160,
    "start_time": "2024-01-29T11:43:36.916Z"
   },
   {
    "duration": 6,
    "start_time": "2024-01-29T11:43:39.577Z"
   },
   {
    "duration": 160,
    "start_time": "2024-01-29T11:44:50.902Z"
   },
   {
    "duration": 6,
    "start_time": "2024-01-29T11:44:51.865Z"
   },
   {
    "duration": 166,
    "start_time": "2024-01-29T11:44:53.868Z"
   },
   {
    "duration": 136,
    "start_time": "2024-01-29T11:45:00.777Z"
   },
   {
    "duration": 131,
    "start_time": "2024-01-29T11:45:05.088Z"
   },
   {
    "duration": 5,
    "start_time": "2024-01-29T11:45:20.082Z"
   },
   {
    "duration": 10,
    "start_time": "2024-01-29T11:47:58.888Z"
   },
   {
    "duration": 9,
    "start_time": "2024-01-29T11:47:59.302Z"
   },
   {
    "duration": 11,
    "start_time": "2024-01-29T11:48:14.722Z"
   },
   {
    "duration": 14,
    "start_time": "2024-01-29T11:48:15.547Z"
   },
   {
    "duration": 12,
    "start_time": "2024-01-29T11:49:02.203Z"
   },
   {
    "duration": 11,
    "start_time": "2024-01-29T11:49:02.711Z"
   },
   {
    "duration": 9,
    "start_time": "2024-01-29T11:50:23.146Z"
   },
   {
    "duration": 13,
    "start_time": "2024-01-29T11:50:29.039Z"
   },
   {
    "duration": 19,
    "start_time": "2024-01-29T11:53:56.631Z"
   },
   {
    "duration": 17,
    "start_time": "2024-01-29T11:57:16.653Z"
   },
   {
    "duration": 11,
    "start_time": "2024-01-29T11:57:37.607Z"
   },
   {
    "duration": 14,
    "start_time": "2024-01-29T11:57:45.043Z"
   },
   {
    "duration": 14,
    "start_time": "2024-01-29T11:58:01.245Z"
   },
   {
    "duration": 13,
    "start_time": "2024-01-29T11:58:06.187Z"
   },
   {
    "duration": 13,
    "start_time": "2024-01-29T11:58:28.751Z"
   },
   {
    "duration": 346,
    "start_time": "2024-01-29T11:59:58.266Z"
   },
   {
    "duration": 490,
    "start_time": "2024-01-29T12:45:21.709Z"
   },
   {
    "duration": 379,
    "start_time": "2024-01-29T12:50:04.007Z"
   },
   {
    "duration": 400,
    "start_time": "2024-01-29T12:50:09.037Z"
   },
   {
    "duration": 406,
    "start_time": "2024-01-29T12:53:33.802Z"
   },
   {
    "duration": 2,
    "start_time": "2024-01-29T12:58:06.767Z"
   },
   {
    "duration": 12,
    "start_time": "2024-01-29T12:59:41.495Z"
   },
   {
    "duration": 9,
    "start_time": "2024-01-29T12:59:53.335Z"
   },
   {
    "duration": 10,
    "start_time": "2024-01-29T13:00:24.421Z"
   },
   {
    "duration": 5,
    "start_time": "2024-01-29T13:00:31.695Z"
   },
   {
    "duration": 2,
    "start_time": "2024-01-29T13:02:07.030Z"
   },
   {
    "duration": 2,
    "start_time": "2024-01-29T13:02:38.622Z"
   },
   {
    "duration": 2,
    "start_time": "2024-01-29T13:02:49.079Z"
   },
   {
    "duration": 8,
    "start_time": "2024-01-29T13:03:40.481Z"
   },
   {
    "duration": 5,
    "start_time": "2024-01-29T13:04:14.577Z"
   },
   {
    "duration": 2,
    "start_time": "2024-01-29T13:06:55.209Z"
   },
   {
    "duration": 8,
    "start_time": "2024-01-29T13:06:56.158Z"
   },
   {
    "duration": 3,
    "start_time": "2024-01-29T13:07:29.442Z"
   },
   {
    "duration": 11,
    "start_time": "2024-01-29T13:07:30.840Z"
   },
   {
    "duration": 5,
    "start_time": "2024-01-29T13:07:31.307Z"
   },
   {
    "duration": 2,
    "start_time": "2024-01-29T13:07:36.438Z"
   },
   {
    "duration": 8,
    "start_time": "2024-01-29T13:07:36.790Z"
   },
   {
    "duration": 5,
    "start_time": "2024-01-29T13:07:37.099Z"
   },
   {
    "duration": 201,
    "start_time": "2024-01-29T13:16:26.208Z"
   },
   {
    "duration": 413,
    "start_time": "2024-01-29T13:16:56.722Z"
   },
   {
    "duration": 517,
    "start_time": "2024-01-29T13:16:57.935Z"
   },
   {
    "duration": 397,
    "start_time": "2024-01-29T13:16:59.061Z"
   },
   {
    "duration": 1150,
    "start_time": "2024-01-29T13:22:53.728Z"
   },
   {
    "duration": 110,
    "start_time": "2024-01-29T13:22:54.880Z"
   },
   {
    "duration": 15,
    "start_time": "2024-01-29T13:22:54.991Z"
   },
   {
    "duration": 46,
    "start_time": "2024-01-29T13:22:55.007Z"
   },
   {
    "duration": 36,
    "start_time": "2024-01-29T13:22:55.055Z"
   },
   {
    "duration": 20,
    "start_time": "2024-01-29T13:22:55.092Z"
   },
   {
    "duration": 33,
    "start_time": "2024-01-29T13:22:55.113Z"
   },
   {
    "duration": 41,
    "start_time": "2024-01-29T13:22:55.147Z"
   },
   {
    "duration": 14,
    "start_time": "2024-01-29T13:22:55.189Z"
   },
   {
    "duration": 36,
    "start_time": "2024-01-29T13:22:55.204Z"
   },
   {
    "duration": 38,
    "start_time": "2024-01-29T13:22:55.241Z"
   },
   {
    "duration": 58,
    "start_time": "2024-01-29T13:22:55.281Z"
   },
   {
    "duration": 6,
    "start_time": "2024-01-29T13:22:55.341Z"
   },
   {
    "duration": 21,
    "start_time": "2024-01-29T13:22:55.350Z"
   },
   {
    "duration": 28,
    "start_time": "2024-01-29T13:22:55.372Z"
   },
   {
    "duration": 237,
    "start_time": "2024-01-29T13:22:55.401Z"
   },
   {
    "duration": 19,
    "start_time": "2024-01-29T13:22:55.639Z"
   },
   {
    "duration": 287,
    "start_time": "2024-01-29T13:22:55.660Z"
   },
   {
    "duration": 26,
    "start_time": "2024-01-29T13:22:55.949Z"
   },
   {
    "duration": 5,
    "start_time": "2024-01-29T13:22:55.977Z"
   },
   {
    "duration": 23,
    "start_time": "2024-01-29T13:22:55.983Z"
   },
   {
    "duration": 387,
    "start_time": "2024-01-29T13:22:56.007Z"
   },
   {
    "duration": 374,
    "start_time": "2024-01-29T13:22:56.396Z"
   },
   {
    "duration": 3,
    "start_time": "2024-01-29T13:22:56.771Z"
   },
   {
    "duration": 143,
    "start_time": "2024-01-29T13:22:56.775Z"
   },
   {
    "duration": 5,
    "start_time": "2024-01-29T13:22:56.920Z"
   },
   {
    "duration": 149,
    "start_time": "2024-01-29T13:22:56.926Z"
   },
   {
    "duration": 5,
    "start_time": "2024-01-29T13:22:57.076Z"
   },
   {
    "duration": 13,
    "start_time": "2024-01-29T13:22:57.082Z"
   },
   {
    "duration": 36,
    "start_time": "2024-01-29T13:22:57.096Z"
   },
   {
    "duration": 22,
    "start_time": "2024-01-29T13:22:57.133Z"
   },
   {
    "duration": 371,
    "start_time": "2024-01-29T13:22:57.157Z"
   },
   {
    "duration": 378,
    "start_time": "2024-01-29T13:22:57.529Z"
   },
   {
    "duration": 373,
    "start_time": "2024-01-29T13:22:57.908Z"
   },
   {
    "duration": 378,
    "start_time": "2024-01-29T13:22:58.282Z"
   },
   {
    "duration": 3,
    "start_time": "2024-01-29T13:22:58.662Z"
   },
   {
    "duration": 14,
    "start_time": "2024-01-29T13:22:58.667Z"
   },
   {
    "duration": 14,
    "start_time": "2024-01-29T13:22:58.682Z"
   },
   {
    "duration": 23,
    "start_time": "2024-01-29T13:22:58.698Z"
   },
   {
    "duration": 15,
    "start_time": "2024-01-29T13:22:58.722Z"
   },
   {
    "duration": 16,
    "start_time": "2024-01-29T13:22:58.740Z"
   },
   {
    "duration": 52,
    "start_time": "2024-01-29T16:03:02.422Z"
   },
   {
    "duration": 1411,
    "start_time": "2024-01-29T16:03:06.797Z"
   },
   {
    "duration": 200,
    "start_time": "2024-01-29T16:03:08.210Z"
   },
   {
    "duration": 16,
    "start_time": "2024-01-29T16:03:08.411Z"
   },
   {
    "duration": 30,
    "start_time": "2024-01-29T16:03:08.430Z"
   },
   {
    "duration": 32,
    "start_time": "2024-01-29T16:03:08.462Z"
   },
   {
    "duration": 4,
    "start_time": "2024-01-29T16:03:08.496Z"
   },
   {
    "duration": 18,
    "start_time": "2024-01-29T16:03:08.501Z"
   },
   {
    "duration": 71,
    "start_time": "2024-01-29T16:03:08.521Z"
   },
   {
    "duration": 11,
    "start_time": "2024-01-29T16:03:08.594Z"
   },
   {
    "duration": 12,
    "start_time": "2024-01-29T16:03:08.608Z"
   },
   {
    "duration": 9,
    "start_time": "2024-01-29T16:03:08.621Z"
   },
   {
    "duration": 7,
    "start_time": "2024-01-29T16:03:08.631Z"
   },
   {
    "duration": 41,
    "start_time": "2024-01-29T16:03:08.640Z"
   },
   {
    "duration": 8,
    "start_time": "2024-01-29T16:03:08.683Z"
   },
   {
    "duration": 25,
    "start_time": "2024-01-29T16:03:08.692Z"
   },
   {
    "duration": 27,
    "start_time": "2024-01-29T16:03:08.719Z"
   },
   {
    "duration": 267,
    "start_time": "2024-01-29T16:03:08.748Z"
   },
   {
    "duration": 18,
    "start_time": "2024-01-29T16:03:09.016Z"
   },
   {
    "duration": 282,
    "start_time": "2024-01-29T16:03:09.035Z"
   },
   {
    "duration": 26,
    "start_time": "2024-01-29T16:03:09.319Z"
   },
   {
    "duration": 5,
    "start_time": "2024-01-29T16:03:09.346Z"
   },
   {
    "duration": 16,
    "start_time": "2024-01-29T16:03:09.353Z"
   },
   {
    "duration": 381,
    "start_time": "2024-01-29T16:03:09.370Z"
   },
   {
    "duration": 371,
    "start_time": "2024-01-29T16:03:09.753Z"
   },
   {
    "duration": 2,
    "start_time": "2024-01-29T16:03:10.126Z"
   },
   {
    "duration": 139,
    "start_time": "2024-01-29T16:03:10.130Z"
   },
   {
    "duration": 5,
    "start_time": "2024-01-29T16:03:10.271Z"
   },
   {
    "duration": 215,
    "start_time": "2024-01-29T16:03:10.283Z"
   },
   {
    "duration": 5,
    "start_time": "2024-01-29T16:03:10.500Z"
   },
   {
    "duration": 10,
    "start_time": "2024-01-29T16:03:10.507Z"
   },
   {
    "duration": 10,
    "start_time": "2024-01-29T16:03:10.519Z"
   },
   {
    "duration": 10,
    "start_time": "2024-01-29T16:03:10.531Z"
   },
   {
    "duration": 341,
    "start_time": "2024-01-29T16:03:10.542Z"
   },
   {
    "duration": 397,
    "start_time": "2024-01-29T16:03:10.885Z"
   },
   {
    "duration": 402,
    "start_time": "2024-01-29T16:03:11.283Z"
   },
   {
    "duration": 393,
    "start_time": "2024-01-29T16:03:11.687Z"
   },
   {
    "duration": 2,
    "start_time": "2024-01-29T16:03:12.082Z"
   },
   {
    "duration": 13,
    "start_time": "2024-01-29T16:03:12.085Z"
   },
   {
    "duration": 8,
    "start_time": "2024-01-29T16:03:12.100Z"
   },
   {
    "duration": 14,
    "start_time": "2024-01-29T16:03:12.110Z"
   },
   {
    "duration": 10,
    "start_time": "2024-01-29T16:03:12.125Z"
   },
   {
    "duration": 7,
    "start_time": "2024-01-29T16:03:12.136Z"
   },
   {
    "duration": 28,
    "start_time": "2024-01-29T16:07:55.842Z"
   },
   {
    "duration": 11,
    "start_time": "2024-01-29T16:07:58.214Z"
   },
   {
    "duration": 10,
    "start_time": "2024-01-29T16:08:12.789Z"
   },
   {
    "duration": 11,
    "start_time": "2024-01-29T16:08:15.284Z"
   },
   {
    "duration": 9,
    "start_time": "2024-01-29T16:08:37.763Z"
   },
   {
    "duration": 17,
    "start_time": "2024-01-29T16:08:38.741Z"
   },
   {
    "duration": 9,
    "start_time": "2024-01-29T16:09:10.289Z"
   },
   {
    "duration": 12,
    "start_time": "2024-01-29T16:09:10.651Z"
   },
   {
    "duration": 5,
    "start_time": "2024-01-29T16:09:11.736Z"
   },
   {
    "duration": 4,
    "start_time": "2024-01-29T16:09:12.166Z"
   },
   {
    "duration": 5,
    "start_time": "2024-01-29T16:09:12.578Z"
   },
   {
    "duration": 414,
    "start_time": "2024-01-29T16:09:13.264Z"
   },
   {
    "duration": 1108,
    "start_time": "2024-01-29T16:09:34.119Z"
   },
   {
    "duration": 72,
    "start_time": "2024-01-29T16:09:35.229Z"
   },
   {
    "duration": 15,
    "start_time": "2024-01-29T16:09:35.303Z"
   },
   {
    "duration": 28,
    "start_time": "2024-01-29T16:09:35.320Z"
   },
   {
    "duration": 34,
    "start_time": "2024-01-29T16:09:35.350Z"
   },
   {
    "duration": 3,
    "start_time": "2024-01-29T16:09:35.386Z"
   },
   {
    "duration": 17,
    "start_time": "2024-01-29T16:09:35.391Z"
   },
   {
    "duration": 56,
    "start_time": "2024-01-29T16:09:35.410Z"
   },
   {
    "duration": 19,
    "start_time": "2024-01-29T16:09:35.468Z"
   },
   {
    "duration": 12,
    "start_time": "2024-01-29T16:09:35.490Z"
   },
   {
    "duration": 12,
    "start_time": "2024-01-29T16:09:35.504Z"
   },
   {
    "duration": 4,
    "start_time": "2024-01-29T16:09:35.518Z"
   },
   {
    "duration": 10,
    "start_time": "2024-01-29T16:09:35.524Z"
   },
   {
    "duration": 44,
    "start_time": "2024-01-29T16:09:35.536Z"
   },
   {
    "duration": 7,
    "start_time": "2024-01-29T16:09:35.582Z"
   },
   {
    "duration": 19,
    "start_time": "2024-01-29T16:09:35.591Z"
   },
   {
    "duration": 21,
    "start_time": "2024-01-29T16:09:35.612Z"
   },
   {
    "duration": 260,
    "start_time": "2024-01-29T16:09:35.634Z"
   },
   {
    "duration": 22,
    "start_time": "2024-01-29T16:09:35.896Z"
   },
   {
    "duration": 286,
    "start_time": "2024-01-29T16:09:35.919Z"
   },
   {
    "duration": 25,
    "start_time": "2024-01-29T16:09:36.207Z"
   },
   {
    "duration": 4,
    "start_time": "2024-01-29T16:09:36.234Z"
   },
   {
    "duration": 24,
    "start_time": "2024-01-29T16:09:36.239Z"
   },
   {
    "duration": 366,
    "start_time": "2024-01-29T16:09:36.265Z"
   },
   {
    "duration": 364,
    "start_time": "2024-01-29T16:09:36.633Z"
   },
   {
    "duration": 2,
    "start_time": "2024-01-29T16:09:36.999Z"
   },
   {
    "duration": 163,
    "start_time": "2024-01-29T16:09:37.002Z"
   },
   {
    "duration": 6,
    "start_time": "2024-01-29T16:09:37.169Z"
   },
   {
    "duration": 223,
    "start_time": "2024-01-29T16:09:37.181Z"
   },
   {
    "duration": 5,
    "start_time": "2024-01-29T16:09:37.405Z"
   },
   {
    "duration": 19,
    "start_time": "2024-01-29T16:09:37.411Z"
   },
   {
    "duration": 22,
    "start_time": "2024-01-29T16:09:37.431Z"
   },
   {
    "duration": 28,
    "start_time": "2024-01-29T16:09:37.454Z"
   },
   {
    "duration": 304,
    "start_time": "2024-01-29T16:09:37.484Z"
   },
   {
    "duration": 373,
    "start_time": "2024-01-29T16:09:37.790Z"
   },
   {
    "duration": 424,
    "start_time": "2024-01-29T16:09:38.165Z"
   },
   {
    "duration": 409,
    "start_time": "2024-01-29T16:09:38.591Z"
   },
   {
    "duration": 2,
    "start_time": "2024-01-29T16:09:39.002Z"
   },
   {
    "duration": 17,
    "start_time": "2024-01-29T16:09:39.005Z"
   },
   {
    "duration": 11,
    "start_time": "2024-01-29T16:09:39.023Z"
   },
   {
    "duration": 12,
    "start_time": "2024-01-29T16:09:39.036Z"
   },
   {
    "duration": 13,
    "start_time": "2024-01-29T16:09:39.050Z"
   },
   {
    "duration": 12,
    "start_time": "2024-01-29T16:09:39.065Z"
   },
   {
    "duration": 7,
    "start_time": "2024-01-29T16:14:24.577Z"
   },
   {
    "duration": 16,
    "start_time": "2024-01-29T16:18:12.790Z"
   },
   {
    "duration": 16,
    "start_time": "2024-01-29T16:20:17.411Z"
   },
   {
    "duration": 6,
    "start_time": "2024-01-29T16:21:06.226Z"
   },
   {
    "duration": 17,
    "start_time": "2024-01-29T16:21:28.874Z"
   },
   {
    "duration": 7,
    "start_time": "2024-01-29T16:21:30.896Z"
   },
   {
    "duration": 15,
    "start_time": "2024-01-29T16:22:17.356Z"
   },
   {
    "duration": 6,
    "start_time": "2024-01-29T16:22:18.225Z"
   },
   {
    "duration": 123,
    "start_time": "2024-01-29T16:31:17.197Z"
   },
   {
    "duration": 20,
    "start_time": "2024-01-29T16:31:23.315Z"
   },
   {
    "duration": 28,
    "start_time": "2024-01-29T16:33:41.880Z"
   },
   {
    "duration": 10,
    "start_time": "2024-01-29T16:33:44.274Z"
   },
   {
    "duration": 16,
    "start_time": "2024-01-29T16:33:47.186Z"
   },
   {
    "duration": 16,
    "start_time": "2024-01-29T16:34:53.199Z"
   },
   {
    "duration": 7,
    "start_time": "2024-01-29T16:34:54.090Z"
   },
   {
    "duration": 58,
    "start_time": "2024-01-30T06:55:28.707Z"
   },
   {
    "duration": 1215,
    "start_time": "2024-01-30T06:55:33.592Z"
   },
   {
    "duration": 108,
    "start_time": "2024-01-30T06:55:34.809Z"
   },
   {
    "duration": 30,
    "start_time": "2024-01-30T06:55:34.918Z"
   },
   {
    "duration": 35,
    "start_time": "2024-01-30T06:55:34.949Z"
   },
   {
    "duration": 13,
    "start_time": "2024-01-30T06:55:34.986Z"
   },
   {
    "duration": 13,
    "start_time": "2024-01-30T06:55:35.001Z"
   },
   {
    "duration": 42,
    "start_time": "2024-01-30T06:55:35.015Z"
   },
   {
    "duration": 63,
    "start_time": "2024-01-30T06:55:35.059Z"
   },
   {
    "duration": 9,
    "start_time": "2024-01-30T06:55:35.123Z"
   },
   {
    "duration": 42,
    "start_time": "2024-01-30T06:55:35.134Z"
   },
   {
    "duration": 25,
    "start_time": "2024-01-30T06:55:35.178Z"
   },
   {
    "duration": 58,
    "start_time": "2024-01-30T06:55:35.205Z"
   },
   {
    "duration": 62,
    "start_time": "2024-01-30T06:55:35.264Z"
   },
   {
    "duration": 77,
    "start_time": "2024-01-30T06:55:35.330Z"
   },
   {
    "duration": 7,
    "start_time": "2024-01-30T06:55:35.409Z"
   },
   {
    "duration": 26,
    "start_time": "2024-01-30T06:55:35.417Z"
   },
   {
    "duration": 20,
    "start_time": "2024-01-30T06:55:35.444Z"
   },
   {
    "duration": 7,
    "start_time": "2024-01-30T06:55:35.465Z"
   },
   {
    "duration": 40,
    "start_time": "2024-01-30T06:55:35.473Z"
   },
   {
    "duration": 185,
    "start_time": "2024-01-30T06:55:35.514Z"
   },
   {
    "duration": 16,
    "start_time": "2024-01-30T06:55:35.701Z"
   },
   {
    "duration": 264,
    "start_time": "2024-01-30T06:55:35.718Z"
   },
   {
    "duration": 21,
    "start_time": "2024-01-30T06:55:35.984Z"
   },
   {
    "duration": 244,
    "start_time": "2024-01-30T06:55:36.007Z"
   },
   {
    "duration": 272,
    "start_time": "2024-01-30T06:55:36.253Z"
   },
   {
    "duration": 320,
    "start_time": "2024-01-30T06:55:36.527Z"
   },
   {
    "duration": 301,
    "start_time": "2024-01-30T06:55:36.848Z"
   },
   {
    "duration": 3,
    "start_time": "2024-01-30T06:55:37.150Z"
   },
   {
    "duration": 156,
    "start_time": "2024-01-30T06:55:37.154Z"
   },
   {
    "duration": 4,
    "start_time": "2024-01-30T06:55:37.312Z"
   },
   {
    "duration": 201,
    "start_time": "2024-01-30T06:55:37.317Z"
   },
   {
    "duration": 4,
    "start_time": "2024-01-30T06:55:37.520Z"
   },
   {
    "duration": 78,
    "start_time": "2024-01-30T06:55:37.525Z"
   },
   {
    "duration": 24,
    "start_time": "2024-01-30T06:55:37.604Z"
   },
   {
    "duration": 38,
    "start_time": "2024-01-30T06:55:37.629Z"
   },
   {
    "duration": 291,
    "start_time": "2024-01-30T06:55:37.669Z"
   },
   {
    "duration": 337,
    "start_time": "2024-01-30T06:55:37.961Z"
   },
   {
    "duration": 330,
    "start_time": "2024-01-30T06:55:38.300Z"
   },
   {
    "duration": 332,
    "start_time": "2024-01-30T06:55:38.631Z"
   },
   {
    "duration": 2,
    "start_time": "2024-01-30T06:55:38.965Z"
   },
   {
    "duration": 52,
    "start_time": "2024-01-30T06:55:38.971Z"
   },
   {
    "duration": 41,
    "start_time": "2024-01-30T06:55:39.024Z"
   },
   {
    "duration": 28,
    "start_time": "2024-01-30T06:55:39.066Z"
   },
   {
    "duration": 17,
    "start_time": "2024-01-30T06:55:39.095Z"
   },
   {
    "duration": 22,
    "start_time": "2024-01-30T06:55:39.114Z"
   },
   {
    "duration": 219,
    "start_time": "2024-01-30T06:56:27.715Z"
   },
   {
    "duration": 223,
    "start_time": "2024-01-30T06:58:34.178Z"
   },
   {
    "duration": 286,
    "start_time": "2024-01-30T06:58:48.880Z"
   },
   {
    "duration": 204,
    "start_time": "2024-01-30T06:58:56.613Z"
   },
   {
    "duration": 22,
    "start_time": "2024-01-30T07:07:11.305Z"
   },
   {
    "duration": 4,
    "start_time": "2024-01-30T07:07:14.712Z"
   },
   {
    "duration": 14,
    "start_time": "2024-01-30T07:07:16.786Z"
   },
   {
    "duration": 278,
    "start_time": "2024-01-30T07:07:17.836Z"
   },
   {
    "duration": 281,
    "start_time": "2024-01-30T07:07:20.360Z"
   },
   {
    "duration": 3,
    "start_time": "2024-01-30T07:40:32.565Z"
   },
   {
    "duration": 5,
    "start_time": "2024-01-30T08:15:21.148Z"
   },
   {
    "duration": 23,
    "start_time": "2024-01-30T08:15:21.427Z"
   },
   {
    "duration": 342,
    "start_time": "2024-01-30T08:15:22.212Z"
   },
   {
    "duration": 282,
    "start_time": "2024-01-30T08:15:26.964Z"
   },
   {
    "duration": 194,
    "start_time": "2024-01-30T10:21:33.903Z"
   },
   {
    "duration": 213,
    "start_time": "2024-01-30T10:21:41.751Z"
   },
   {
    "duration": 100,
    "start_time": "2024-01-30T10:22:15.673Z"
   },
   {
    "duration": 372,
    "start_time": "2024-01-30T10:22:19.297Z"
   },
   {
    "duration": 246,
    "start_time": "2024-01-30T10:22:24.228Z"
   },
   {
    "duration": 241,
    "start_time": "2024-01-30T10:22:41.266Z"
   },
   {
    "duration": 245,
    "start_time": "2024-01-30T10:24:33.765Z"
   },
   {
    "duration": 262,
    "start_time": "2024-01-30T10:24:57.187Z"
   },
   {
    "duration": 334,
    "start_time": "2024-01-30T10:25:12.468Z"
   },
   {
    "duration": 241,
    "start_time": "2024-01-30T10:25:26.480Z"
   },
   {
    "duration": 254,
    "start_time": "2024-01-30T10:26:04.596Z"
   },
   {
    "duration": 230,
    "start_time": "2024-01-30T10:28:13.647Z"
   },
   {
    "duration": 122,
    "start_time": "2024-01-30T10:38:14.375Z"
   },
   {
    "duration": 4,
    "start_time": "2024-01-30T10:38:34.385Z"
   },
   {
    "duration": 122,
    "start_time": "2024-01-30T10:40:54.429Z"
   },
   {
    "duration": 5,
    "start_time": "2024-01-30T10:41:04.690Z"
   },
   {
    "duration": 9,
    "start_time": "2024-01-30T10:42:28.891Z"
   },
   {
    "duration": 4,
    "start_time": "2024-01-30T10:44:42.168Z"
   },
   {
    "duration": 134,
    "start_time": "2024-01-30T10:44:43.930Z"
   },
   {
    "duration": 177,
    "start_time": "2024-01-30T10:45:25.746Z"
   },
   {
    "duration": 205,
    "start_time": "2024-01-30T10:45:58.138Z"
   },
   {
    "duration": 4,
    "start_time": "2024-01-30T10:46:19.427Z"
   },
   {
    "duration": 111,
    "start_time": "2024-01-30T10:58:25.183Z"
   },
   {
    "duration": 5,
    "start_time": "2024-01-30T10:58:28.009Z"
   },
   {
    "duration": 135,
    "start_time": "2024-01-30T10:59:22.008Z"
   },
   {
    "duration": 4,
    "start_time": "2024-01-30T10:59:35.264Z"
   },
   {
    "duration": 5,
    "start_time": "2024-01-30T10:59:40.083Z"
   },
   {
    "duration": 120,
    "start_time": "2024-01-30T11:00:37.805Z"
   },
   {
    "duration": 5,
    "start_time": "2024-01-30T11:00:38.064Z"
   },
   {
    "duration": 4,
    "start_time": "2024-01-30T11:03:52.568Z"
   },
   {
    "duration": 167,
    "start_time": "2024-01-30T11:04:41.393Z"
   },
   {
    "duration": 6,
    "start_time": "2024-01-30T11:04:42.155Z"
   },
   {
    "duration": 119,
    "start_time": "2024-01-30T11:05:52.216Z"
   },
   {
    "duration": 4,
    "start_time": "2024-01-30T11:05:52.598Z"
   },
   {
    "duration": 130,
    "start_time": "2024-01-30T11:06:00.226Z"
   },
   {
    "duration": 4,
    "start_time": "2024-01-30T11:06:00.885Z"
   },
   {
    "duration": 9,
    "start_time": "2024-01-30T11:07:03.185Z"
   },
   {
    "duration": 254,
    "start_time": "2024-01-30T11:07:04.117Z"
   },
   {
    "duration": 232,
    "start_time": "2024-01-30T11:08:35.918Z"
   },
   {
    "duration": 419,
    "start_time": "2024-01-30T11:46:35.470Z"
   },
   {
    "duration": 342,
    "start_time": "2024-01-30T11:46:36.571Z"
   },
   {
    "duration": 354,
    "start_time": "2024-01-30T11:48:11.624Z"
   },
   {
    "duration": 2,
    "start_time": "2024-01-30T11:48:13.767Z"
   },
   {
    "duration": 6,
    "start_time": "2024-01-30T11:48:14.920Z"
   },
   {
    "duration": 4,
    "start_time": "2024-01-30T11:48:15.083Z"
   },
   {
    "duration": 2,
    "start_time": "2024-01-30T11:48:15.546Z"
   },
   {
    "duration": 5,
    "start_time": "2024-01-30T11:48:16.212Z"
   },
   {
    "duration": 4,
    "start_time": "2024-01-30T11:48:16.483Z"
   },
   {
    "duration": 330,
    "start_time": "2024-01-30T11:52:18.996Z"
   },
   {
    "duration": 339,
    "start_time": "2024-01-30T11:53:56.624Z"
   },
   {
    "duration": 473,
    "start_time": "2024-01-30T11:53:57.953Z"
   },
   {
    "duration": 1169,
    "start_time": "2024-01-30T16:40:38.919Z"
   },
   {
    "duration": 108,
    "start_time": "2024-01-30T16:40:40.089Z"
   },
   {
    "duration": 14,
    "start_time": "2024-01-30T16:40:40.198Z"
   },
   {
    "duration": 27,
    "start_time": "2024-01-30T16:40:40.214Z"
   },
   {
    "duration": 14,
    "start_time": "2024-01-30T16:40:40.243Z"
   },
   {
    "duration": 30,
    "start_time": "2024-01-30T16:40:40.258Z"
   },
   {
    "duration": 10,
    "start_time": "2024-01-30T16:40:40.290Z"
   },
   {
    "duration": 55,
    "start_time": "2024-01-30T16:40:40.301Z"
   },
   {
    "duration": 8,
    "start_time": "2024-01-30T16:40:40.358Z"
   },
   {
    "duration": 25,
    "start_time": "2024-01-30T16:40:40.367Z"
   },
   {
    "duration": 21,
    "start_time": "2024-01-30T16:40:40.393Z"
   },
   {
    "duration": 19,
    "start_time": "2024-01-30T16:40:40.416Z"
   },
   {
    "duration": 27,
    "start_time": "2024-01-30T16:40:40.438Z"
   },
   {
    "duration": 48,
    "start_time": "2024-01-30T16:40:40.467Z"
   },
   {
    "duration": 7,
    "start_time": "2024-01-30T16:40:40.516Z"
   },
   {
    "duration": 30,
    "start_time": "2024-01-30T16:40:40.525Z"
   },
   {
    "duration": 45,
    "start_time": "2024-01-30T16:40:40.556Z"
   },
   {
    "duration": 18,
    "start_time": "2024-01-30T16:40:40.602Z"
   },
   {
    "duration": 37,
    "start_time": "2024-01-30T16:40:40.622Z"
   },
   {
    "duration": 235,
    "start_time": "2024-01-30T16:40:40.661Z"
   },
   {
    "duration": 24,
    "start_time": "2024-01-30T16:40:40.898Z"
   },
   {
    "duration": 240,
    "start_time": "2024-01-30T16:40:40.924Z"
   },
   {
    "duration": 28,
    "start_time": "2024-01-30T16:40:41.165Z"
   },
   {
    "duration": 29,
    "start_time": "2024-01-30T16:40:41.195Z"
   },
   {
    "duration": 38,
    "start_time": "2024-01-30T16:40:41.225Z"
   },
   {
    "duration": 344,
    "start_time": "2024-01-30T16:40:41.264Z"
   },
   {
    "duration": 273,
    "start_time": "2024-01-30T16:40:41.610Z"
   },
   {
    "duration": 3,
    "start_time": "2024-01-30T16:40:41.884Z"
   },
   {
    "duration": 126,
    "start_time": "2024-01-30T16:40:41.888Z"
   },
   {
    "duration": 4,
    "start_time": "2024-01-30T16:40:42.020Z"
   },
   {
    "duration": 158,
    "start_time": "2024-01-30T16:40:42.026Z"
   },
   {
    "duration": 5,
    "start_time": "2024-01-30T16:40:42.185Z"
   },
   {
    "duration": 233,
    "start_time": "2024-01-30T16:40:42.191Z"
   },
   {
    "duration": 4,
    "start_time": "2024-01-30T16:40:42.426Z"
   },
   {
    "duration": 150,
    "start_time": "2024-01-30T16:40:42.431Z"
   },
   {
    "duration": 5,
    "start_time": "2024-01-30T16:40:42.582Z"
   },
   {
    "duration": 133,
    "start_time": "2024-01-30T16:40:42.588Z"
   },
   {
    "duration": 5,
    "start_time": "2024-01-30T16:40:42.723Z"
   },
   {
    "duration": 125,
    "start_time": "2024-01-30T16:40:42.729Z"
   },
   {
    "duration": 5,
    "start_time": "2024-01-30T16:40:42.858Z"
   },
   {
    "duration": 150,
    "start_time": "2024-01-30T16:40:42.864Z"
   },
   {
    "duration": 6,
    "start_time": "2024-01-30T16:40:43.016Z"
   },
   {
    "duration": 143,
    "start_time": "2024-01-30T16:40:43.024Z"
   },
   {
    "duration": 4,
    "start_time": "2024-01-30T16:40:43.169Z"
   },
   {
    "duration": 157,
    "start_time": "2024-01-30T16:40:43.175Z"
   },
   {
    "duration": 5,
    "start_time": "2024-01-30T16:40:43.334Z"
   },
   {
    "duration": 141,
    "start_time": "2024-01-30T16:40:43.340Z"
   },
   {
    "duration": 7,
    "start_time": "2024-01-30T16:40:43.482Z"
   },
   {
    "duration": 21,
    "start_time": "2024-01-30T16:40:43.491Z"
   },
   {
    "duration": 309,
    "start_time": "2024-01-30T16:40:43.513Z"
   },
   {
    "duration": 453,
    "start_time": "2024-01-30T16:40:43.824Z"
   },
   {
    "duration": 379,
    "start_time": "2024-01-30T16:40:44.279Z"
   },
   {
    "duration": 421,
    "start_time": "2024-01-30T16:40:44.659Z"
   },
   {
    "duration": 2,
    "start_time": "2024-01-30T16:40:45.082Z"
   },
   {
    "duration": 96,
    "start_time": "2024-01-30T16:40:45.085Z"
   },
   {
    "duration": 42,
    "start_time": "2024-01-30T16:40:45.183Z"
   },
   {
    "duration": 33,
    "start_time": "2024-01-30T16:40:45.226Z"
   },
   {
    "duration": 34,
    "start_time": "2024-01-30T16:40:45.260Z"
   },
   {
    "duration": 28,
    "start_time": "2024-01-30T16:40:45.296Z"
   },
   {
    "duration": 18,
    "start_time": "2024-01-30T16:41:57.544Z"
   },
   {
    "duration": 51,
    "start_time": "2024-01-30T17:47:15.793Z"
   },
   {
    "duration": 1376,
    "start_time": "2024-01-30T17:47:20.547Z"
   },
   {
    "duration": 111,
    "start_time": "2024-01-30T17:47:21.926Z"
   },
   {
    "duration": 15,
    "start_time": "2024-01-30T17:47:22.038Z"
   },
   {
    "duration": 40,
    "start_time": "2024-01-30T17:47:22.055Z"
   },
   {
    "duration": 15,
    "start_time": "2024-01-30T17:47:22.096Z"
   },
   {
    "duration": 45,
    "start_time": "2024-01-30T17:47:22.112Z"
   },
   {
    "duration": 35,
    "start_time": "2024-01-30T17:47:22.158Z"
   },
   {
    "duration": 76,
    "start_time": "2024-01-30T17:47:22.194Z"
   },
   {
    "duration": 8,
    "start_time": "2024-01-30T17:47:22.271Z"
   },
   {
    "duration": 32,
    "start_time": "2024-01-30T17:47:22.281Z"
   },
   {
    "duration": 4,
    "start_time": "2024-01-30T17:47:22.315Z"
   },
   {
    "duration": 37,
    "start_time": "2024-01-30T17:47:22.320Z"
   },
   {
    "duration": 41,
    "start_time": "2024-01-30T17:47:22.359Z"
   },
   {
    "duration": 51,
    "start_time": "2024-01-30T17:47:22.402Z"
   },
   {
    "duration": 14,
    "start_time": "2024-01-30T17:47:22.454Z"
   },
   {
    "duration": 41,
    "start_time": "2024-01-30T17:47:22.470Z"
   },
   {
    "duration": 20,
    "start_time": "2024-01-30T17:47:22.513Z"
   },
   {
    "duration": 20,
    "start_time": "2024-01-30T17:47:22.535Z"
   },
   {
    "duration": 29,
    "start_time": "2024-01-30T17:47:22.557Z"
   },
   {
    "duration": 17,
    "start_time": "2024-01-30T17:47:22.588Z"
   },
   {
    "duration": 224,
    "start_time": "2024-01-30T17:47:22.606Z"
   },
   {
    "duration": 17,
    "start_time": "2024-01-30T17:47:22.831Z"
   },
   {
    "duration": 266,
    "start_time": "2024-01-30T17:47:22.849Z"
   },
   {
    "duration": 22,
    "start_time": "2024-01-30T17:47:23.117Z"
   },
   {
    "duration": 4,
    "start_time": "2024-01-30T17:47:23.140Z"
   },
   {
    "duration": 36,
    "start_time": "2024-01-30T17:47:23.146Z"
   },
   {
    "duration": 351,
    "start_time": "2024-01-30T17:47:23.184Z"
   },
   {
    "duration": 267,
    "start_time": "2024-01-30T17:47:23.539Z"
   },
   {
    "duration": 2,
    "start_time": "2024-01-30T17:47:23.807Z"
   },
   {
    "duration": 137,
    "start_time": "2024-01-30T17:47:23.810Z"
   },
   {
    "duration": 4,
    "start_time": "2024-01-30T17:47:23.949Z"
   },
   {
    "duration": 137,
    "start_time": "2024-01-30T17:47:23.966Z"
   },
   {
    "duration": 5,
    "start_time": "2024-01-30T17:47:24.104Z"
   },
   {
    "duration": 220,
    "start_time": "2024-01-30T17:47:24.110Z"
   },
   {
    "duration": 4,
    "start_time": "2024-01-30T17:47:24.331Z"
   },
   {
    "duration": 162,
    "start_time": "2024-01-30T17:47:24.336Z"
   },
   {
    "duration": 4,
    "start_time": "2024-01-30T17:47:24.499Z"
   },
   {
    "duration": 164,
    "start_time": "2024-01-30T17:47:24.505Z"
   },
   {
    "duration": 6,
    "start_time": "2024-01-30T17:47:24.671Z"
   },
   {
    "duration": 145,
    "start_time": "2024-01-30T17:47:24.680Z"
   },
   {
    "duration": 4,
    "start_time": "2024-01-30T17:47:24.827Z"
   },
   {
    "duration": 171,
    "start_time": "2024-01-30T17:47:24.833Z"
   },
   {
    "duration": 5,
    "start_time": "2024-01-30T17:47:25.006Z"
   },
   {
    "duration": 160,
    "start_time": "2024-01-30T17:47:25.012Z"
   },
   {
    "duration": 4,
    "start_time": "2024-01-30T17:47:25.174Z"
   },
   {
    "duration": 164,
    "start_time": "2024-01-30T17:47:25.180Z"
   },
   {
    "duration": 5,
    "start_time": "2024-01-30T17:47:25.345Z"
   },
   {
    "duration": 159,
    "start_time": "2024-01-30T17:47:25.351Z"
   },
   {
    "duration": 5,
    "start_time": "2024-01-30T17:47:25.512Z"
   },
   {
    "duration": 19,
    "start_time": "2024-01-30T17:47:25.519Z"
   },
   {
    "duration": 300,
    "start_time": "2024-01-30T17:47:25.540Z"
   },
   {
    "duration": 501,
    "start_time": "2024-01-30T17:47:25.842Z"
   },
   {
    "duration": 385,
    "start_time": "2024-01-30T17:47:26.344Z"
   },
   {
    "duration": 381,
    "start_time": "2024-01-30T17:47:26.730Z"
   },
   {
    "duration": 2,
    "start_time": "2024-01-30T17:47:27.112Z"
   },
   {
    "duration": 12,
    "start_time": "2024-01-30T17:47:27.116Z"
   },
   {
    "duration": 10,
    "start_time": "2024-01-30T17:47:27.130Z"
   },
   {
    "duration": 13,
    "start_time": "2024-01-30T17:47:27.141Z"
   },
   {
    "duration": 13,
    "start_time": "2024-01-30T17:47:27.155Z"
   },
   {
    "duration": 6,
    "start_time": "2024-01-30T17:47:27.170Z"
   },
   {
    "duration": 64,
    "start_time": "2024-01-30T17:48:19.432Z"
   },
   {
    "duration": 270,
    "start_time": "2024-01-30T17:50:37.861Z"
   },
   {
    "duration": 280,
    "start_time": "2024-01-30T17:51:42.110Z"
   },
   {
    "duration": 249,
    "start_time": "2024-01-30T17:53:40.819Z"
   },
   {
    "duration": 215,
    "start_time": "2024-01-30T17:54:54.533Z"
   },
   {
    "duration": 118,
    "start_time": "2024-01-30T17:55:50.901Z"
   },
   {
    "duration": 207,
    "start_time": "2024-01-30T17:55:58.834Z"
   },
   {
    "duration": 132,
    "start_time": "2024-01-30T17:58:03.783Z"
   },
   {
    "duration": 4,
    "start_time": "2024-01-30T17:59:15.863Z"
   },
   {
    "duration": 132,
    "start_time": "2024-01-30T17:59:18.795Z"
   },
   {
    "duration": 139,
    "start_time": "2024-01-30T17:59:43.468Z"
   },
   {
    "duration": 130,
    "start_time": "2024-01-30T17:59:59.498Z"
   },
   {
    "duration": 142,
    "start_time": "2024-01-30T18:02:14.962Z"
   },
   {
    "duration": 5,
    "start_time": "2024-01-30T18:02:16.234Z"
   },
   {
    "duration": 127,
    "start_time": "2024-01-30T18:02:16.914Z"
   },
   {
    "duration": 5,
    "start_time": "2024-01-30T18:02:17.695Z"
   },
   {
    "duration": 152,
    "start_time": "2024-01-30T18:02:18.199Z"
   },
   {
    "duration": 4,
    "start_time": "2024-01-30T18:02:18.898Z"
   },
   {
    "duration": 124,
    "start_time": "2024-01-30T18:02:19.354Z"
   },
   {
    "duration": 4,
    "start_time": "2024-01-30T18:02:20.016Z"
   },
   {
    "duration": 109,
    "start_time": "2024-01-30T18:02:21.009Z"
   },
   {
    "duration": 5,
    "start_time": "2024-01-30T18:02:21.793Z"
   },
   {
    "duration": 133,
    "start_time": "2024-01-30T18:02:22.396Z"
   },
   {
    "duration": 6,
    "start_time": "2024-01-30T18:02:22.953Z"
   },
   {
    "duration": 157,
    "start_time": "2024-01-30T18:02:23.459Z"
   },
   {
    "duration": 5,
    "start_time": "2024-01-30T18:02:23.986Z"
   },
   {
    "duration": 158,
    "start_time": "2024-01-30T18:02:24.447Z"
   },
   {
    "duration": 5,
    "start_time": "2024-01-30T18:02:24.937Z"
   },
   {
    "duration": 118,
    "start_time": "2024-01-30T18:02:25.447Z"
   },
   {
    "duration": 4,
    "start_time": "2024-01-30T18:02:26.001Z"
   },
   {
    "duration": 456,
    "start_time": "2024-01-30T18:03:36.309Z"
   },
   {
    "duration": 407,
    "start_time": "2024-01-30T18:04:46.958Z"
   },
   {
    "duration": 73,
    "start_time": "2024-01-30T18:05:51.172Z"
   },
   {
    "duration": 381,
    "start_time": "2024-01-30T18:05:58.821Z"
   },
   {
    "duration": 387,
    "start_time": "2024-01-30T18:06:14.768Z"
   },
   {
    "duration": 414,
    "start_time": "2024-01-30T18:08:25.232Z"
   },
   {
    "duration": 129,
    "start_time": "2024-01-30T18:09:34.882Z"
   },
   {
    "duration": 107,
    "start_time": "2024-01-30T18:09:51.810Z"
   },
   {
    "duration": 219,
    "start_time": "2024-01-30T18:09:58.987Z"
   },
   {
    "duration": 121,
    "start_time": "2024-01-30T18:10:36.075Z"
   },
   {
    "duration": 147,
    "start_time": "2024-01-30T18:10:56.050Z"
   },
   {
    "duration": 118,
    "start_time": "2024-01-30T18:11:04.141Z"
   },
   {
    "duration": 175,
    "start_time": "2024-01-30T18:11:28.659Z"
   },
   {
    "duration": 144,
    "start_time": "2024-01-30T18:11:45.704Z"
   },
   {
    "duration": 148,
    "start_time": "2024-01-30T18:11:56.900Z"
   },
   {
    "duration": 135,
    "start_time": "2024-01-30T18:12:09.380Z"
   },
   {
    "duration": 127,
    "start_time": "2024-01-30T18:12:17.520Z"
   },
   {
    "duration": 136,
    "start_time": "2024-01-30T18:12:30.596Z"
   },
   {
    "duration": 116,
    "start_time": "2024-01-30T18:12:36.415Z"
   },
   {
    "duration": 126,
    "start_time": "2024-01-30T18:12:40.690Z"
   },
   {
    "duration": 137,
    "start_time": "2024-01-30T18:12:53.716Z"
   },
   {
    "duration": 145,
    "start_time": "2024-01-30T18:13:04.810Z"
   },
   {
    "duration": 148,
    "start_time": "2024-01-30T18:13:15.227Z"
   },
   {
    "duration": 236,
    "start_time": "2024-01-30T18:13:21.464Z"
   },
   {
    "duration": 1204,
    "start_time": "2024-01-30T18:48:10.590Z"
   },
   {
    "duration": 71,
    "start_time": "2024-01-30T18:48:11.805Z"
   },
   {
    "duration": 14,
    "start_time": "2024-01-30T18:48:11.878Z"
   },
   {
    "duration": 35,
    "start_time": "2024-01-30T18:48:11.894Z"
   },
   {
    "duration": 17,
    "start_time": "2024-01-30T18:48:11.935Z"
   },
   {
    "duration": 4,
    "start_time": "2024-01-30T18:48:11.954Z"
   },
   {
    "duration": 17,
    "start_time": "2024-01-30T18:48:11.960Z"
   },
   {
    "duration": 81,
    "start_time": "2024-01-30T18:48:11.979Z"
   },
   {
    "duration": 8,
    "start_time": "2024-01-30T18:48:12.062Z"
   },
   {
    "duration": 18,
    "start_time": "2024-01-30T18:48:12.072Z"
   },
   {
    "duration": 8,
    "start_time": "2024-01-30T18:48:12.091Z"
   },
   {
    "duration": 13,
    "start_time": "2024-01-30T18:48:12.100Z"
   },
   {
    "duration": 12,
    "start_time": "2024-01-30T18:48:12.127Z"
   },
   {
    "duration": 21,
    "start_time": "2024-01-30T18:48:12.141Z"
   },
   {
    "duration": 6,
    "start_time": "2024-01-30T18:48:12.164Z"
   },
   {
    "duration": 20,
    "start_time": "2024-01-30T18:48:12.171Z"
   },
   {
    "duration": 32,
    "start_time": "2024-01-30T18:48:12.192Z"
   },
   {
    "duration": 10,
    "start_time": "2024-01-30T18:48:12.226Z"
   },
   {
    "duration": 28,
    "start_time": "2024-01-30T18:48:12.237Z"
   },
   {
    "duration": 19,
    "start_time": "2024-01-30T18:48:12.266Z"
   },
   {
    "duration": 233,
    "start_time": "2024-01-30T18:48:12.287Z"
   },
   {
    "duration": 17,
    "start_time": "2024-01-30T18:48:12.521Z"
   },
   {
    "duration": 244,
    "start_time": "2024-01-30T18:48:12.540Z"
   },
   {
    "duration": 35,
    "start_time": "2024-01-30T18:48:12.786Z"
   },
   {
    "duration": 4,
    "start_time": "2024-01-30T18:48:12.823Z"
   },
   {
    "duration": 15,
    "start_time": "2024-01-30T18:48:12.828Z"
   },
   {
    "duration": 299,
    "start_time": "2024-01-30T18:48:12.845Z"
   },
   {
    "duration": 275,
    "start_time": "2024-01-30T18:48:13.147Z"
   },
   {
    "duration": 2,
    "start_time": "2024-01-30T18:48:13.423Z"
   },
   {
    "duration": 157,
    "start_time": "2024-01-30T18:48:13.427Z"
   },
   {
    "duration": 5,
    "start_time": "2024-01-30T18:48:13.587Z"
   },
   {
    "duration": 238,
    "start_time": "2024-01-30T18:48:13.594Z"
   },
   {
    "duration": 5,
    "start_time": "2024-01-30T18:48:13.833Z"
   },
   {
    "duration": 157,
    "start_time": "2024-01-30T18:48:13.839Z"
   },
   {
    "duration": 5,
    "start_time": "2024-01-30T18:48:13.997Z"
   },
   {
    "duration": 168,
    "start_time": "2024-01-30T18:48:14.003Z"
   },
   {
    "duration": 5,
    "start_time": "2024-01-30T18:48:14.172Z"
   },
   {
    "duration": 144,
    "start_time": "2024-01-30T18:48:14.178Z"
   },
   {
    "duration": 5,
    "start_time": "2024-01-30T18:48:14.323Z"
   },
   {
    "duration": 151,
    "start_time": "2024-01-30T18:48:14.330Z"
   },
   {
    "duration": 5,
    "start_time": "2024-01-30T18:48:14.482Z"
   },
   {
    "duration": 156,
    "start_time": "2024-01-30T18:48:14.488Z"
   },
   {
    "duration": 5,
    "start_time": "2024-01-30T18:48:14.645Z"
   },
   {
    "duration": 155,
    "start_time": "2024-01-30T18:48:14.651Z"
   },
   {
    "duration": 13,
    "start_time": "2024-01-30T18:48:14.808Z"
   },
   {
    "duration": 176,
    "start_time": "2024-01-30T18:48:14.823Z"
   },
   {
    "duration": 5,
    "start_time": "2024-01-30T18:48:15.001Z"
   },
   {
    "duration": 166,
    "start_time": "2024-01-30T18:48:15.008Z"
   },
   {
    "duration": 5,
    "start_time": "2024-01-30T18:48:15.176Z"
   },
   {
    "duration": 28,
    "start_time": "2024-01-30T18:48:15.183Z"
   },
   {
    "duration": 327,
    "start_time": "2024-01-30T18:48:15.213Z"
   },
   {
    "duration": 464,
    "start_time": "2024-01-30T18:48:15.542Z"
   },
   {
    "duration": 390,
    "start_time": "2024-01-30T18:48:16.008Z"
   },
   {
    "duration": 420,
    "start_time": "2024-01-30T18:48:16.400Z"
   },
   {
    "duration": 2,
    "start_time": "2024-01-30T18:48:16.822Z"
   },
   {
    "duration": 13,
    "start_time": "2024-01-30T18:48:16.826Z"
   },
   {
    "duration": 6,
    "start_time": "2024-01-30T18:48:16.841Z"
   },
   {
    "duration": 4,
    "start_time": "2024-01-30T18:48:16.849Z"
   },
   {
    "duration": 15,
    "start_time": "2024-01-30T18:48:16.854Z"
   },
   {
    "duration": 7,
    "start_time": "2024-01-30T18:48:16.871Z"
   }
  ],
  "kernelspec": {
   "display_name": "Python 3 (ipykernel)",
   "language": "python",
   "name": "python3"
  },
  "language_info": {
   "codemirror_mode": {
    "name": "ipython",
    "version": 3
   },
   "file_extension": ".py",
   "mimetype": "text/x-python",
   "name": "python",
   "nbconvert_exporter": "python",
   "pygments_lexer": "ipython3",
   "version": "3.9.5"
  },
  "toc": {
   "base_numbering": 1,
   "nav_menu": {},
   "number_sections": true,
   "sideBar": true,
   "skip_h1_title": true,
   "title_cell": "Table of Contents",
   "title_sidebar": "Contents",
   "toc_cell": false,
   "toc_position": {},
   "toc_section_display": true,
   "toc_window_display": false
  }
 },
 "nbformat": 4,
 "nbformat_minor": 2
}
